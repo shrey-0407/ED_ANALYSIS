{
 "cells": [
  {
   "cell_type": "markdown",
   "metadata": {
    "id": "CDbXLXRJ8DT1"
   },
   "source": [
    "Exploratory Analysis and Visualization\n",
    "\n",
    "Columns we'll analyze:\n",
    "\n",
    "1. City\n",
    "\n",
    "2. Start Time\n",
    "\n",
    "3. Start Lat, Start Lng\n",
    "\n",
    "4. Temperature\n",
    "\n",
    "5. Weather Condition\n",
    "\n",
    "Use the \"Run\" button to execute the code."
   ]
  },
  {
   "cell_type": "code",
   "execution_count": 3,
   "metadata": {
    "executionInfo": {
     "elapsed": 2507,
     "status": "ok",
     "timestamp": 1627648695136,
     "user": {
      "displayName": "Shreyash Mandavkar",
      "photoUrl": "",
      "userId": "01338434498998208217"
     },
     "user_tz": -330
    },
    "id": "sOC6dnpJ8DT2"
   },
   "outputs": [],
   "source": [
    "!pip install jovian --upgrade --quiet"
   ]
  },
  {
   "cell_type": "code",
   "execution_count": 4,
   "metadata": {
    "executionInfo": {
     "elapsed": 20,
     "status": "ok",
     "timestamp": 1627648695137,
     "user": {
      "displayName": "Shreyash Mandavkar",
      "photoUrl": "",
      "userId": "01338434498998208217"
     },
     "user_tz": -330
    },
    "id": "QqOL4w--8DT2"
   },
   "outputs": [],
   "source": [
    "import jovian"
   ]
  },
  {
   "cell_type": "code",
   "execution_count": 5,
   "metadata": {
    "colab": {
     "base_uri": "https://localhost:8080/",
     "height": 119
    },
    "executionInfo": {
     "elapsed": 53688,
     "status": "ok",
     "timestamp": 1627648748806,
     "user": {
      "displayName": "Shreyash Mandavkar",
      "photoUrl": "",
      "userId": "01338434498998208217"
     },
     "user_tz": -330
    },
    "id": "McRRxxrl8DT3",
    "outputId": "1ce451ea-f4f5-4e20-d596-9f4709e796b2"
   },
   "outputs": [
    {
     "name": "stdout",
     "output_type": "stream",
     "text": [
      "[jovian] Detected Colab notebook...\u001b[0m\n",
      "[jovian] Please enter your API key ( from https://jovian.ai/ ):\u001b[0m\n",
      "API KEY: ··········\n",
      "[jovian] Uploading colab notebook to Jovian...\u001b[0m\n",
      "Committed successfully! https://jovian.ai/shrey-0407/us-accidents\n"
     ]
    },
    {
     "data": {
      "application/vnd.google.colaboratory.intrinsic+json": {
       "type": "string"
      },
      "text/plain": [
       "'https://jovian.ai/shrey-0407/us-accidents'"
      ]
     },
     "execution_count": 5,
     "metadata": {
      "tags": []
     },
     "output_type": "execute_result"
    }
   ],
   "source": [
    "# Execute this to save new versions of the notebook\n",
    "jovian.commit(project=\"us-accidents\")"
   ]
  },
  {
   "cell_type": "code",
   "execution_count": 6,
   "metadata": {
    "colab": {
     "base_uri": "https://localhost:8080/"
    },
    "executionInfo": {
     "elapsed": 2630,
     "status": "ok",
     "timestamp": 1627648751423,
     "user": {
      "displayName": "Shreyash Mandavkar",
      "photoUrl": "",
      "userId": "01338434498998208217"
     },
     "user_tz": -330
    },
    "id": "pd6E5gJG9hDV",
    "outputId": "3d8a4c24-35f4-41a9-c9a7-19b55cfe4aa4"
   },
   "outputs": [
    {
     "name": "stdout",
     "output_type": "stream",
     "text": [
      "Collecting opendatasets\n",
      "  Downloading opendatasets-0.1.20-py3-none-any.whl (14 kB)\n",
      "Requirement already satisfied: kaggle in /usr/local/lib/python3.7/dist-packages (from opendatasets) (1.5.12)\n",
      "Requirement already satisfied: tqdm in /usr/local/lib/python3.7/dist-packages (from opendatasets) (4.41.1)\n",
      "Requirement already satisfied: click in /usr/local/lib/python3.7/dist-packages (from opendatasets) (7.1.2)\n",
      "Requirement already satisfied: python-slugify in /usr/local/lib/python3.7/dist-packages (from kaggle->opendatasets) (5.0.2)\n",
      "Requirement already satisfied: six>=1.10 in /usr/local/lib/python3.7/dist-packages (from kaggle->opendatasets) (1.15.0)\n",
      "Requirement already satisfied: python-dateutil in /usr/local/lib/python3.7/dist-packages (from kaggle->opendatasets) (2.8.1)\n",
      "Requirement already satisfied: certifi in /usr/local/lib/python3.7/dist-packages (from kaggle->opendatasets) (2021.5.30)\n",
      "Requirement already satisfied: urllib3 in /usr/local/lib/python3.7/dist-packages (from kaggle->opendatasets) (1.24.3)\n",
      "Requirement already satisfied: requests in /usr/local/lib/python3.7/dist-packages (from kaggle->opendatasets) (2.23.0)\n",
      "Requirement already satisfied: text-unidecode>=1.3 in /usr/local/lib/python3.7/dist-packages (from python-slugify->kaggle->opendatasets) (1.3)\n",
      "Requirement already satisfied: chardet<4,>=3.0.2 in /usr/local/lib/python3.7/dist-packages (from requests->kaggle->opendatasets) (3.0.4)\n",
      "Requirement already satisfied: idna<3,>=2.5 in /usr/local/lib/python3.7/dist-packages (from requests->kaggle->opendatasets) (2.10)\n",
      "Installing collected packages: opendatasets\n",
      "Successfully installed opendatasets-0.1.20\n"
     ]
    }
   ],
   "source": [
    "!pip install opendatasets --upgrade"
   ]
  },
  {
   "cell_type": "code",
   "execution_count": 7,
   "metadata": {
    "colab": {
     "base_uri": "https://localhost:8080/"
    },
    "executionInfo": {
     "elapsed": 70119,
     "status": "ok",
     "timestamp": 1627648821524,
     "user": {
      "displayName": "Shreyash Mandavkar",
      "photoUrl": "",
      "userId": "01338434498998208217"
     },
     "user_tz": -330
    },
    "id": "xZ8x5xx98DT3",
    "outputId": "d347e71c-9952-4c78-d276-116829f0b508"
   },
   "outputs": [
    {
     "name": "stdout",
     "output_type": "stream",
     "text": [
      "Please provide your Kaggle credentials to download this dataset. Learn more: http://bit.ly/kaggle-creds\n",
      "Your Kaggle username: shreyashmandavkar\n",
      "Your Kaggle Key: ··········\n"
     ]
    },
    {
     "name": "stderr",
     "output_type": "stream",
     "text": [
      "  2%|▏         | 5.00M/290M [00:00<00:08, 34.9MB/s]"
     ]
    },
    {
     "name": "stdout",
     "output_type": "stream",
     "text": [
      "Downloading us-accidents.zip to ./us-accidents\n"
     ]
    },
    {
     "name": "stderr",
     "output_type": "stream",
     "text": [
      "100%|██████████| 290M/290M [00:01<00:00, 181MB/s]\n"
     ]
    },
    {
     "name": "stdout",
     "output_type": "stream",
     "text": [
      "\n"
     ]
    }
   ],
   "source": [
    "import opendatasets as od\n",
    "download_url='https://www.kaggle.com/sobhanmoosavi/us-accidents/tasks?taskId=189'\n",
    "od.download(download_url)"
   ]
  },
  {
   "cell_type": "code",
   "execution_count": 8,
   "metadata": {
    "executionInfo": {
     "elapsed": 5,
     "status": "ok",
     "timestamp": 1627648821525,
     "user": {
      "displayName": "Shreyash Mandavkar",
      "photoUrl": "",
      "userId": "01338434498998208217"
     },
     "user_tz": -330
    },
    "id": "ZB9mboWz_cfi"
   },
   "outputs": [],
   "source": [
    "data_filename='/content/us-accidents/US_Accidents_Dec20_Updated.csv'"
   ]
  },
  {
   "cell_type": "code",
   "execution_count": 9,
   "metadata": {
    "executionInfo": {
     "elapsed": 4,
     "status": "ok",
     "timestamp": 1627648821525,
     "user": {
      "displayName": "Shreyash Mandavkar",
      "photoUrl": "",
      "userId": "01338434498998208217"
     },
     "user_tz": -330
    },
    "id": "9K7kC_5a_c2w"
   },
   "outputs": [],
   "source": [
    "import pandas as pd\n",
    " "
   ]
  },
  {
   "cell_type": "code",
   "execution_count": 10,
   "metadata": {
    "colab": {
     "base_uri": "https://localhost:8080/",
     "height": 941
    },
    "executionInfo": {
     "elapsed": 28624,
     "status": "ok",
     "timestamp": 1627648850145,
     "user": {
      "displayName": "Shreyash Mandavkar",
      "photoUrl": "",
      "userId": "01338434498998208217"
     },
     "user_tz": -330
    },
    "id": "5DJb1CNN_wIw",
    "outputId": "4678993f-1c0d-483d-e7ec-bb12611fa58c"
   },
   "outputs": [
    {
     "data": {
      "text/html": [
       "<div>\n",
       "<style scoped>\n",
       "    .dataframe tbody tr th:only-of-type {\n",
       "        vertical-align: middle;\n",
       "    }\n",
       "\n",
       "    .dataframe tbody tr th {\n",
       "        vertical-align: top;\n",
       "    }\n",
       "\n",
       "    .dataframe thead th {\n",
       "        text-align: right;\n",
       "    }\n",
       "</style>\n",
       "<table border=\"1\" class=\"dataframe\">\n",
       "  <thead>\n",
       "    <tr style=\"text-align: right;\">\n",
       "      <th></th>\n",
       "      <th>ID</th>\n",
       "      <th>Severity</th>\n",
       "      <th>Start_Time</th>\n",
       "      <th>End_Time</th>\n",
       "      <th>Start_Lat</th>\n",
       "      <th>Start_Lng</th>\n",
       "      <th>End_Lat</th>\n",
       "      <th>End_Lng</th>\n",
       "      <th>Distance(mi)</th>\n",
       "      <th>Description</th>\n",
       "      <th>Number</th>\n",
       "      <th>Street</th>\n",
       "      <th>Side</th>\n",
       "      <th>City</th>\n",
       "      <th>County</th>\n",
       "      <th>State</th>\n",
       "      <th>Zipcode</th>\n",
       "      <th>Country</th>\n",
       "      <th>Timezone</th>\n",
       "      <th>Airport_Code</th>\n",
       "      <th>Weather_Timestamp</th>\n",
       "      <th>Temperature(F)</th>\n",
       "      <th>Wind_Chill(F)</th>\n",
       "      <th>Humidity(%)</th>\n",
       "      <th>Pressure(in)</th>\n",
       "      <th>Visibility(mi)</th>\n",
       "      <th>Wind_Direction</th>\n",
       "      <th>Wind_Speed(mph)</th>\n",
       "      <th>Precipitation(in)</th>\n",
       "      <th>Weather_Condition</th>\n",
       "      <th>Amenity</th>\n",
       "      <th>Bump</th>\n",
       "      <th>Crossing</th>\n",
       "      <th>Give_Way</th>\n",
       "      <th>Junction</th>\n",
       "      <th>No_Exit</th>\n",
       "      <th>Railway</th>\n",
       "      <th>Roundabout</th>\n",
       "      <th>Station</th>\n",
       "      <th>Stop</th>\n",
       "      <th>Traffic_Calming</th>\n",
       "      <th>Traffic_Signal</th>\n",
       "      <th>Turning_Loop</th>\n",
       "      <th>Sunrise_Sunset</th>\n",
       "      <th>Civil_Twilight</th>\n",
       "      <th>Nautical_Twilight</th>\n",
       "      <th>Astronomical_Twilight</th>\n",
       "    </tr>\n",
       "  </thead>\n",
       "  <tbody>\n",
       "    <tr>\n",
       "      <th>0</th>\n",
       "      <td>A-1</td>\n",
       "      <td>2</td>\n",
       "      <td>2019-05-21 08:29:55</td>\n",
       "      <td>2019-05-21 09:29:40</td>\n",
       "      <td>34.808868</td>\n",
       "      <td>-82.269157</td>\n",
       "      <td>34.808868</td>\n",
       "      <td>-82.269157</td>\n",
       "      <td>0.000</td>\n",
       "      <td>Accident on Tanner Rd at Pennbrooke Ln.</td>\n",
       "      <td>439.0</td>\n",
       "      <td>Tanner Rd</td>\n",
       "      <td>R</td>\n",
       "      <td>Greenville</td>\n",
       "      <td>Greenville</td>\n",
       "      <td>SC</td>\n",
       "      <td>29607-6027</td>\n",
       "      <td>US</td>\n",
       "      <td>US/Eastern</td>\n",
       "      <td>KGMU</td>\n",
       "      <td>2019-05-21 08:53:00</td>\n",
       "      <td>76.0</td>\n",
       "      <td>76.0</td>\n",
       "      <td>52.0</td>\n",
       "      <td>28.91</td>\n",
       "      <td>10.0</td>\n",
       "      <td>N</td>\n",
       "      <td>7.0</td>\n",
       "      <td>0.0</td>\n",
       "      <td>Fair</td>\n",
       "      <td>False</td>\n",
       "      <td>False</td>\n",
       "      <td>False</td>\n",
       "      <td>False</td>\n",
       "      <td>False</td>\n",
       "      <td>False</td>\n",
       "      <td>False</td>\n",
       "      <td>False</td>\n",
       "      <td>False</td>\n",
       "      <td>False</td>\n",
       "      <td>False</td>\n",
       "      <td>False</td>\n",
       "      <td>False</td>\n",
       "      <td>Day</td>\n",
       "      <td>Day</td>\n",
       "      <td>Day</td>\n",
       "      <td>Day</td>\n",
       "    </tr>\n",
       "    <tr>\n",
       "      <th>1</th>\n",
       "      <td>A-2</td>\n",
       "      <td>2</td>\n",
       "      <td>2019-10-07 17:43:09</td>\n",
       "      <td>2019-10-07 19:42:50</td>\n",
       "      <td>35.090080</td>\n",
       "      <td>-80.745560</td>\n",
       "      <td>35.090080</td>\n",
       "      <td>-80.745560</td>\n",
       "      <td>0.000</td>\n",
       "      <td>Accident on Houston Branch Rd at Providence Br...</td>\n",
       "      <td>3299.0</td>\n",
       "      <td>Providence Branch Ln</td>\n",
       "      <td>R</td>\n",
       "      <td>Charlotte</td>\n",
       "      <td>Mecklenburg</td>\n",
       "      <td>NC</td>\n",
       "      <td>28270-8560</td>\n",
       "      <td>US</td>\n",
       "      <td>US/Eastern</td>\n",
       "      <td>KEQY</td>\n",
       "      <td>2019-10-07 17:53:00</td>\n",
       "      <td>76.0</td>\n",
       "      <td>76.0</td>\n",
       "      <td>62.0</td>\n",
       "      <td>29.30</td>\n",
       "      <td>10.0</td>\n",
       "      <td>VAR</td>\n",
       "      <td>3.0</td>\n",
       "      <td>0.0</td>\n",
       "      <td>Cloudy</td>\n",
       "      <td>False</td>\n",
       "      <td>False</td>\n",
       "      <td>False</td>\n",
       "      <td>False</td>\n",
       "      <td>False</td>\n",
       "      <td>False</td>\n",
       "      <td>False</td>\n",
       "      <td>False</td>\n",
       "      <td>False</td>\n",
       "      <td>False</td>\n",
       "      <td>False</td>\n",
       "      <td>False</td>\n",
       "      <td>False</td>\n",
       "      <td>Day</td>\n",
       "      <td>Day</td>\n",
       "      <td>Day</td>\n",
       "      <td>Day</td>\n",
       "    </tr>\n",
       "    <tr>\n",
       "      <th>2</th>\n",
       "      <td>A-3</td>\n",
       "      <td>2</td>\n",
       "      <td>2020-12-13 21:53:00</td>\n",
       "      <td>2020-12-13 22:44:00</td>\n",
       "      <td>37.145730</td>\n",
       "      <td>-121.985052</td>\n",
       "      <td>37.165850</td>\n",
       "      <td>-121.988062</td>\n",
       "      <td>1.400</td>\n",
       "      <td>Stationary traffic on CA-17 from Summit Rd (CA...</td>\n",
       "      <td>NaN</td>\n",
       "      <td>Santa Cruz Hwy</td>\n",
       "      <td>R</td>\n",
       "      <td>Los Gatos</td>\n",
       "      <td>Santa Clara</td>\n",
       "      <td>CA</td>\n",
       "      <td>95033</td>\n",
       "      <td>US</td>\n",
       "      <td>US/Pacific</td>\n",
       "      <td>KSJC</td>\n",
       "      <td>2020-12-13 21:53:00</td>\n",
       "      <td>51.0</td>\n",
       "      <td>51.0</td>\n",
       "      <td>80.0</td>\n",
       "      <td>30.17</td>\n",
       "      <td>10.0</td>\n",
       "      <td>W</td>\n",
       "      <td>6.0</td>\n",
       "      <td>0.0</td>\n",
       "      <td>Fair</td>\n",
       "      <td>False</td>\n",
       "      <td>False</td>\n",
       "      <td>False</td>\n",
       "      <td>False</td>\n",
       "      <td>False</td>\n",
       "      <td>False</td>\n",
       "      <td>False</td>\n",
       "      <td>False</td>\n",
       "      <td>False</td>\n",
       "      <td>False</td>\n",
       "      <td>False</td>\n",
       "      <td>False</td>\n",
       "      <td>False</td>\n",
       "      <td>Night</td>\n",
       "      <td>Night</td>\n",
       "      <td>Night</td>\n",
       "      <td>Night</td>\n",
       "    </tr>\n",
       "    <tr>\n",
       "      <th>3</th>\n",
       "      <td>A-4</td>\n",
       "      <td>2</td>\n",
       "      <td>2018-04-17 16:51:23</td>\n",
       "      <td>2018-04-17 17:50:46</td>\n",
       "      <td>39.110390</td>\n",
       "      <td>-119.773781</td>\n",
       "      <td>39.110390</td>\n",
       "      <td>-119.773781</td>\n",
       "      <td>0.000</td>\n",
       "      <td>Accident on US-395 Southbound at Topsy Ln.</td>\n",
       "      <td>NaN</td>\n",
       "      <td>US Highway 395 S</td>\n",
       "      <td>R</td>\n",
       "      <td>Carson City</td>\n",
       "      <td>Douglas</td>\n",
       "      <td>NV</td>\n",
       "      <td>89705</td>\n",
       "      <td>US</td>\n",
       "      <td>US/Pacific</td>\n",
       "      <td>KCXP</td>\n",
       "      <td>2018-04-17 16:55:00</td>\n",
       "      <td>53.6</td>\n",
       "      <td>NaN</td>\n",
       "      <td>16.0</td>\n",
       "      <td>30.16</td>\n",
       "      <td>10.0</td>\n",
       "      <td>SSW</td>\n",
       "      <td>4.6</td>\n",
       "      <td>NaN</td>\n",
       "      <td>Clear</td>\n",
       "      <td>False</td>\n",
       "      <td>False</td>\n",
       "      <td>False</td>\n",
       "      <td>False</td>\n",
       "      <td>False</td>\n",
       "      <td>False</td>\n",
       "      <td>False</td>\n",
       "      <td>False</td>\n",
       "      <td>False</td>\n",
       "      <td>False</td>\n",
       "      <td>False</td>\n",
       "      <td>True</td>\n",
       "      <td>False</td>\n",
       "      <td>Day</td>\n",
       "      <td>Day</td>\n",
       "      <td>Day</td>\n",
       "      <td>Day</td>\n",
       "    </tr>\n",
       "    <tr>\n",
       "      <th>4</th>\n",
       "      <td>A-5</td>\n",
       "      <td>3</td>\n",
       "      <td>2016-08-31 17:40:49</td>\n",
       "      <td>2016-08-31 18:10:49</td>\n",
       "      <td>26.102942</td>\n",
       "      <td>-80.265091</td>\n",
       "      <td>26.102942</td>\n",
       "      <td>-80.265091</td>\n",
       "      <td>0.000</td>\n",
       "      <td>Accident on I-595 Westbound at Exit 4 / Pine I...</td>\n",
       "      <td>NaN</td>\n",
       "      <td>I-595 W</td>\n",
       "      <td>R</td>\n",
       "      <td>Fort Lauderdale</td>\n",
       "      <td>Broward</td>\n",
       "      <td>FL</td>\n",
       "      <td>33324</td>\n",
       "      <td>US</td>\n",
       "      <td>US/Eastern</td>\n",
       "      <td>KHWO</td>\n",
       "      <td>2016-08-31 17:53:00</td>\n",
       "      <td>84.2</td>\n",
       "      <td>NaN</td>\n",
       "      <td>84.0</td>\n",
       "      <td>29.92</td>\n",
       "      <td>10.0</td>\n",
       "      <td>SSE</td>\n",
       "      <td>13.8</td>\n",
       "      <td>NaN</td>\n",
       "      <td>Overcast</td>\n",
       "      <td>False</td>\n",
       "      <td>False</td>\n",
       "      <td>False</td>\n",
       "      <td>False</td>\n",
       "      <td>True</td>\n",
       "      <td>False</td>\n",
       "      <td>False</td>\n",
       "      <td>False</td>\n",
       "      <td>False</td>\n",
       "      <td>False</td>\n",
       "      <td>False</td>\n",
       "      <td>True</td>\n",
       "      <td>False</td>\n",
       "      <td>Day</td>\n",
       "      <td>Day</td>\n",
       "      <td>Day</td>\n",
       "      <td>Day</td>\n",
       "    </tr>\n",
       "    <tr>\n",
       "      <th>...</th>\n",
       "      <td>...</td>\n",
       "      <td>...</td>\n",
       "      <td>...</td>\n",
       "      <td>...</td>\n",
       "      <td>...</td>\n",
       "      <td>...</td>\n",
       "      <td>...</td>\n",
       "      <td>...</td>\n",
       "      <td>...</td>\n",
       "      <td>...</td>\n",
       "      <td>...</td>\n",
       "      <td>...</td>\n",
       "      <td>...</td>\n",
       "      <td>...</td>\n",
       "      <td>...</td>\n",
       "      <td>...</td>\n",
       "      <td>...</td>\n",
       "      <td>...</td>\n",
       "      <td>...</td>\n",
       "      <td>...</td>\n",
       "      <td>...</td>\n",
       "      <td>...</td>\n",
       "      <td>...</td>\n",
       "      <td>...</td>\n",
       "      <td>...</td>\n",
       "      <td>...</td>\n",
       "      <td>...</td>\n",
       "      <td>...</td>\n",
       "      <td>...</td>\n",
       "      <td>...</td>\n",
       "      <td>...</td>\n",
       "      <td>...</td>\n",
       "      <td>...</td>\n",
       "      <td>...</td>\n",
       "      <td>...</td>\n",
       "      <td>...</td>\n",
       "      <td>...</td>\n",
       "      <td>...</td>\n",
       "      <td>...</td>\n",
       "      <td>...</td>\n",
       "      <td>...</td>\n",
       "      <td>...</td>\n",
       "      <td>...</td>\n",
       "      <td>...</td>\n",
       "      <td>...</td>\n",
       "      <td>...</td>\n",
       "      <td>...</td>\n",
       "    </tr>\n",
       "    <tr>\n",
       "      <th>2906605</th>\n",
       "      <td>A-2906606</td>\n",
       "      <td>2</td>\n",
       "      <td>2018-06-28 08:49:01</td>\n",
       "      <td>2018-06-28 09:18:51</td>\n",
       "      <td>29.813824</td>\n",
       "      <td>-95.399437</td>\n",
       "      <td>29.813824</td>\n",
       "      <td>-95.399437</td>\n",
       "      <td>0.000</td>\n",
       "      <td>Accident on 30th St at Yale St.</td>\n",
       "      <td>3001.0</td>\n",
       "      <td>Yale St</td>\n",
       "      <td>L</td>\n",
       "      <td>Houston</td>\n",
       "      <td>Harris</td>\n",
       "      <td>TX</td>\n",
       "      <td>77018-8433</td>\n",
       "      <td>US</td>\n",
       "      <td>US/Central</td>\n",
       "      <td>KMCJ</td>\n",
       "      <td>2018-06-28 08:35:00</td>\n",
       "      <td>84.2</td>\n",
       "      <td>NaN</td>\n",
       "      <td>70.0</td>\n",
       "      <td>30.02</td>\n",
       "      <td>9.0</td>\n",
       "      <td>Variable</td>\n",
       "      <td>5.8</td>\n",
       "      <td>NaN</td>\n",
       "      <td>Clear</td>\n",
       "      <td>False</td>\n",
       "      <td>False</td>\n",
       "      <td>False</td>\n",
       "      <td>False</td>\n",
       "      <td>False</td>\n",
       "      <td>False</td>\n",
       "      <td>False</td>\n",
       "      <td>False</td>\n",
       "      <td>False</td>\n",
       "      <td>True</td>\n",
       "      <td>False</td>\n",
       "      <td>False</td>\n",
       "      <td>False</td>\n",
       "      <td>Day</td>\n",
       "      <td>Day</td>\n",
       "      <td>Day</td>\n",
       "      <td>Day</td>\n",
       "    </tr>\n",
       "    <tr>\n",
       "      <th>2906606</th>\n",
       "      <td>A-2906607</td>\n",
       "      <td>2</td>\n",
       "      <td>2019-01-10 02:01:01</td>\n",
       "      <td>2019-01-10 02:30:32</td>\n",
       "      <td>34.068890</td>\n",
       "      <td>-117.342010</td>\n",
       "      <td>34.068890</td>\n",
       "      <td>-117.342010</td>\n",
       "      <td>0.000</td>\n",
       "      <td>At Valley Blvd - Accident.</td>\n",
       "      <td>NaN</td>\n",
       "      <td>Cypress Ave</td>\n",
       "      <td>R</td>\n",
       "      <td>Colton</td>\n",
       "      <td>San Bernardino</td>\n",
       "      <td>CA</td>\n",
       "      <td>92324</td>\n",
       "      <td>US</td>\n",
       "      <td>US/Pacific</td>\n",
       "      <td>KSBD</td>\n",
       "      <td>2019-01-10 02:00:00</td>\n",
       "      <td>46.9</td>\n",
       "      <td>NaN</td>\n",
       "      <td>74.0</td>\n",
       "      <td>30.14</td>\n",
       "      <td>10.0</td>\n",
       "      <td>Calm</td>\n",
       "      <td>NaN</td>\n",
       "      <td>NaN</td>\n",
       "      <td>Clear</td>\n",
       "      <td>False</td>\n",
       "      <td>False</td>\n",
       "      <td>False</td>\n",
       "      <td>False</td>\n",
       "      <td>False</td>\n",
       "      <td>False</td>\n",
       "      <td>False</td>\n",
       "      <td>False</td>\n",
       "      <td>False</td>\n",
       "      <td>False</td>\n",
       "      <td>False</td>\n",
       "      <td>False</td>\n",
       "      <td>False</td>\n",
       "      <td>Night</td>\n",
       "      <td>Night</td>\n",
       "      <td>Night</td>\n",
       "      <td>Night</td>\n",
       "    </tr>\n",
       "    <tr>\n",
       "      <th>2906607</th>\n",
       "      <td>A-2906608</td>\n",
       "      <td>2</td>\n",
       "      <td>2020-11-23 12:52:00</td>\n",
       "      <td>2020-11-24 00:47:37</td>\n",
       "      <td>25.702200</td>\n",
       "      <td>-80.335556</td>\n",
       "      <td>25.703040</td>\n",
       "      <td>-80.334099</td>\n",
       "      <td>0.108</td>\n",
       "      <td>Stationary traffic on County Hwy-913 - FL-986 ...</td>\n",
       "      <td>8798.0</td>\n",
       "      <td>SW 72nd St</td>\n",
       "      <td>L</td>\n",
       "      <td>Miami</td>\n",
       "      <td>Miami-Dade</td>\n",
       "      <td>FL</td>\n",
       "      <td>33173-3512</td>\n",
       "      <td>US</td>\n",
       "      <td>US/Eastern</td>\n",
       "      <td>KTMB</td>\n",
       "      <td>2020-11-23 12:53:00</td>\n",
       "      <td>76.0</td>\n",
       "      <td>76.0</td>\n",
       "      <td>85.0</td>\n",
       "      <td>30.00</td>\n",
       "      <td>10.0</td>\n",
       "      <td>NNW</td>\n",
       "      <td>16.0</td>\n",
       "      <td>0.0</td>\n",
       "      <td>Mostly Cloudy</td>\n",
       "      <td>False</td>\n",
       "      <td>False</td>\n",
       "      <td>False</td>\n",
       "      <td>False</td>\n",
       "      <td>False</td>\n",
       "      <td>False</td>\n",
       "      <td>False</td>\n",
       "      <td>False</td>\n",
       "      <td>False</td>\n",
       "      <td>False</td>\n",
       "      <td>False</td>\n",
       "      <td>False</td>\n",
       "      <td>False</td>\n",
       "      <td>Day</td>\n",
       "      <td>Day</td>\n",
       "      <td>Day</td>\n",
       "      <td>Day</td>\n",
       "    </tr>\n",
       "    <tr>\n",
       "      <th>2906608</th>\n",
       "      <td>A-2906609</td>\n",
       "      <td>2</td>\n",
       "      <td>2019-12-29 22:38:00</td>\n",
       "      <td>2019-12-29 23:38:00</td>\n",
       "      <td>40.660140</td>\n",
       "      <td>-111.952460</td>\n",
       "      <td>40.660140</td>\n",
       "      <td>-111.952460</td>\n",
       "      <td>0.000</td>\n",
       "      <td>At UT-266/4700/Exit 15 - Accident.</td>\n",
       "      <td>NaN</td>\n",
       "      <td>I-215 N</td>\n",
       "      <td>R</td>\n",
       "      <td>Salt Lake City</td>\n",
       "      <td>Salt Lake</td>\n",
       "      <td>UT</td>\n",
       "      <td>84129</td>\n",
       "      <td>US</td>\n",
       "      <td>US/Mountain</td>\n",
       "      <td>KU42</td>\n",
       "      <td>2019-12-29 22:54:00</td>\n",
       "      <td>27.0</td>\n",
       "      <td>19.0</td>\n",
       "      <td>81.0</td>\n",
       "      <td>25.81</td>\n",
       "      <td>10.0</td>\n",
       "      <td>SSE</td>\n",
       "      <td>8.0</td>\n",
       "      <td>0.0</td>\n",
       "      <td>Cloudy</td>\n",
       "      <td>False</td>\n",
       "      <td>False</td>\n",
       "      <td>False</td>\n",
       "      <td>False</td>\n",
       "      <td>False</td>\n",
       "      <td>False</td>\n",
       "      <td>False</td>\n",
       "      <td>False</td>\n",
       "      <td>False</td>\n",
       "      <td>False</td>\n",
       "      <td>False</td>\n",
       "      <td>False</td>\n",
       "      <td>False</td>\n",
       "      <td>Night</td>\n",
       "      <td>Night</td>\n",
       "      <td>Night</td>\n",
       "      <td>Night</td>\n",
       "    </tr>\n",
       "    <tr>\n",
       "      <th>2906609</th>\n",
       "      <td>A-2906610</td>\n",
       "      <td>2</td>\n",
       "      <td>2018-03-26 13:35:03</td>\n",
       "      <td>2018-03-26 14:39:00</td>\n",
       "      <td>38.831749</td>\n",
       "      <td>-104.748161</td>\n",
       "      <td>38.831749</td>\n",
       "      <td>-104.748161</td>\n",
       "      <td>0.000</td>\n",
       "      <td>Accident on Murray Blvd at Byron Dr.</td>\n",
       "      <td>NaN</td>\n",
       "      <td>Byron Dr</td>\n",
       "      <td>R</td>\n",
       "      <td>Colorado Springs</td>\n",
       "      <td>El Paso</td>\n",
       "      <td>CO</td>\n",
       "      <td>80916</td>\n",
       "      <td>US</td>\n",
       "      <td>US/Mountain</td>\n",
       "      <td>KCOS</td>\n",
       "      <td>2018-03-26 13:54:00</td>\n",
       "      <td>51.1</td>\n",
       "      <td>NaN</td>\n",
       "      <td>38.0</td>\n",
       "      <td>29.77</td>\n",
       "      <td>10.0</td>\n",
       "      <td>SE</td>\n",
       "      <td>13.8</td>\n",
       "      <td>NaN</td>\n",
       "      <td>Scattered Clouds</td>\n",
       "      <td>False</td>\n",
       "      <td>False</td>\n",
       "      <td>True</td>\n",
       "      <td>False</td>\n",
       "      <td>False</td>\n",
       "      <td>False</td>\n",
       "      <td>False</td>\n",
       "      <td>False</td>\n",
       "      <td>False</td>\n",
       "      <td>False</td>\n",
       "      <td>False</td>\n",
       "      <td>True</td>\n",
       "      <td>False</td>\n",
       "      <td>Day</td>\n",
       "      <td>Day</td>\n",
       "      <td>Day</td>\n",
       "      <td>Day</td>\n",
       "    </tr>\n",
       "  </tbody>\n",
       "</table>\n",
       "<p>2906610 rows × 47 columns</p>\n",
       "</div>"
      ],
      "text/plain": [
       "                ID  Severity  ... Nautical_Twilight Astronomical_Twilight\n",
       "0              A-1         2  ...               Day                   Day\n",
       "1              A-2         2  ...               Day                   Day\n",
       "2              A-3         2  ...             Night                 Night\n",
       "3              A-4         2  ...               Day                   Day\n",
       "4              A-5         3  ...               Day                   Day\n",
       "...            ...       ...  ...               ...                   ...\n",
       "2906605  A-2906606         2  ...               Day                   Day\n",
       "2906606  A-2906607         2  ...             Night                 Night\n",
       "2906607  A-2906608         2  ...               Day                   Day\n",
       "2906608  A-2906609         2  ...             Night                 Night\n",
       "2906609  A-2906610         2  ...               Day                   Day\n",
       "\n",
       "[2906610 rows x 47 columns]"
      ]
     },
     "execution_count": 10,
     "metadata": {
      "tags": []
     },
     "output_type": "execute_result"
    }
   ],
   "source": [
    "df= pd.read_csv(data_filename)\n",
    "df"
   ]
  },
  {
   "cell_type": "code",
   "execution_count": 11,
   "metadata": {
    "colab": {
     "base_uri": "https://localhost:8080/"
    },
    "executionInfo": {
     "elapsed": 12,
     "status": "ok",
     "timestamp": 1627648850146,
     "user": {
      "displayName": "Shreyash Mandavkar",
      "photoUrl": "",
      "userId": "01338434498998208217"
     },
     "user_tz": -330
    },
    "id": "PfWKI9qLAAey",
    "outputId": "4eaaffcb-bad0-431c-900c-a39a3f27f42a"
   },
   "outputs": [
    {
     "data": {
      "text/plain": [
       "Index(['ID', 'Severity', 'Start_Time', 'End_Time', 'Start_Lat', 'Start_Lng',\n",
       "       'End_Lat', 'End_Lng', 'Distance(mi)', 'Description', 'Number', 'Street',\n",
       "       'Side', 'City', 'County', 'State', 'Zipcode', 'Country', 'Timezone',\n",
       "       'Airport_Code', 'Weather_Timestamp', 'Temperature(F)', 'Wind_Chill(F)',\n",
       "       'Humidity(%)', 'Pressure(in)', 'Visibility(mi)', 'Wind_Direction',\n",
       "       'Wind_Speed(mph)', 'Precipitation(in)', 'Weather_Condition', 'Amenity',\n",
       "       'Bump', 'Crossing', 'Give_Way', 'Junction', 'No_Exit', 'Railway',\n",
       "       'Roundabout', 'Station', 'Stop', 'Traffic_Calming', 'Traffic_Signal',\n",
       "       'Turning_Loop', 'Sunrise_Sunset', 'Civil_Twilight', 'Nautical_Twilight',\n",
       "       'Astronomical_Twilight'],\n",
       "      dtype='object')"
      ]
     },
     "execution_count": 11,
     "metadata": {
      "tags": []
     },
     "output_type": "execute_result"
    }
   ],
   "source": [
    "df.columns"
   ]
  },
  {
   "cell_type": "code",
   "execution_count": 12,
   "metadata": {
    "colab": {
     "base_uri": "https://localhost:8080/"
    },
    "executionInfo": {
     "elapsed": 7,
     "status": "ok",
     "timestamp": 1627648850146,
     "user": {
      "displayName": "Shreyash Mandavkar",
      "photoUrl": "",
      "userId": "01338434498998208217"
     },
     "user_tz": -330
    },
    "id": "SC5UrEuxASWJ",
    "outputId": "9fda788f-490a-485d-8606-137de9e0477a"
   },
   "outputs": [
    {
     "name": "stdout",
     "output_type": "stream",
     "text": [
      "<class 'pandas.core.frame.DataFrame'>\n",
      "RangeIndex: 2906610 entries, 0 to 2906609\n",
      "Data columns (total 47 columns):\n",
      " #   Column                 Dtype  \n",
      "---  ------                 -----  \n",
      " 0   ID                     object \n",
      " 1   Severity               int64  \n",
      " 2   Start_Time             object \n",
      " 3   End_Time               object \n",
      " 4   Start_Lat              float64\n",
      " 5   Start_Lng              float64\n",
      " 6   End_Lat                float64\n",
      " 7   End_Lng                float64\n",
      " 8   Distance(mi)           float64\n",
      " 9   Description            object \n",
      " 10  Number                 float64\n",
      " 11  Street                 object \n",
      " 12  Side                   object \n",
      " 13  City                   object \n",
      " 14  County                 object \n",
      " 15  State                  object \n",
      " 16  Zipcode                object \n",
      " 17  Country                object \n",
      " 18  Timezone               object \n",
      " 19  Airport_Code           object \n",
      " 20  Weather_Timestamp      object \n",
      " 21  Temperature(F)         float64\n",
      " 22  Wind_Chill(F)          float64\n",
      " 23  Humidity(%)            float64\n",
      " 24  Pressure(in)           float64\n",
      " 25  Visibility(mi)         float64\n",
      " 26  Wind_Direction         object \n",
      " 27  Wind_Speed(mph)        float64\n",
      " 28  Precipitation(in)      float64\n",
      " 29  Weather_Condition      object \n",
      " 30  Amenity                bool   \n",
      " 31  Bump                   bool   \n",
      " 32  Crossing               bool   \n",
      " 33  Give_Way               bool   \n",
      " 34  Junction               bool   \n",
      " 35  No_Exit                bool   \n",
      " 36  Railway                bool   \n",
      " 37  Roundabout             bool   \n",
      " 38  Station                bool   \n",
      " 39  Stop                   bool   \n",
      " 40  Traffic_Calming        bool   \n",
      " 41  Traffic_Signal         bool   \n",
      " 42  Turning_Loop           bool   \n",
      " 43  Sunrise_Sunset         object \n",
      " 44  Civil_Twilight         object \n",
      " 45  Nautical_Twilight      object \n",
      " 46  Astronomical_Twilight  object \n",
      "dtypes: bool(13), float64(13), int64(1), object(20)\n",
      "memory usage: 790.0+ MB\n"
     ]
    }
   ],
   "source": [
    "df.info()\n"
   ]
  },
  {
   "cell_type": "code",
   "execution_count": 13,
   "metadata": {
    "colab": {
     "base_uri": "https://localhost:8080/",
     "height": 315
    },
    "executionInfo": {
     "elapsed": 1495,
     "status": "ok",
     "timestamp": 1627648851636,
     "user": {
      "displayName": "Shreyash Mandavkar",
      "photoUrl": "",
      "userId": "01338434498998208217"
     },
     "user_tz": -330
    },
    "id": "ear7zLmHAX5G",
    "outputId": "6876b526-e0f2-4e88-de49-14e240496e4d"
   },
   "outputs": [
    {
     "data": {
      "text/html": [
       "<div>\n",
       "<style scoped>\n",
       "    .dataframe tbody tr th:only-of-type {\n",
       "        vertical-align: middle;\n",
       "    }\n",
       "\n",
       "    .dataframe tbody tr th {\n",
       "        vertical-align: top;\n",
       "    }\n",
       "\n",
       "    .dataframe thead th {\n",
       "        text-align: right;\n",
       "    }\n",
       "</style>\n",
       "<table border=\"1\" class=\"dataframe\">\n",
       "  <thead>\n",
       "    <tr style=\"text-align: right;\">\n",
       "      <th></th>\n",
       "      <th>Severity</th>\n",
       "      <th>Start_Lat</th>\n",
       "      <th>Start_Lng</th>\n",
       "      <th>End_Lat</th>\n",
       "      <th>End_Lng</th>\n",
       "      <th>Distance(mi)</th>\n",
       "      <th>Number</th>\n",
       "      <th>Temperature(F)</th>\n",
       "      <th>Wind_Chill(F)</th>\n",
       "      <th>Humidity(%)</th>\n",
       "      <th>Pressure(in)</th>\n",
       "      <th>Visibility(mi)</th>\n",
       "      <th>Wind_Speed(mph)</th>\n",
       "      <th>Precipitation(in)</th>\n",
       "    </tr>\n",
       "  </thead>\n",
       "  <tbody>\n",
       "    <tr>\n",
       "      <th>count</th>\n",
       "      <td>2.906610e+06</td>\n",
       "      <td>2.906610e+06</td>\n",
       "      <td>2.906610e+06</td>\n",
       "      <td>2.623789e+06</td>\n",
       "      <td>2.623789e+06</td>\n",
       "      <td>2.906610e+06</td>\n",
       "      <td>1.014938e+06</td>\n",
       "      <td>2.839386e+06</td>\n",
       "      <td>1.722751e+06</td>\n",
       "      <td>2.835340e+06</td>\n",
       "      <td>2.849702e+06</td>\n",
       "      <td>2.834532e+06</td>\n",
       "      <td>2.599447e+06</td>\n",
       "      <td>1.605284e+06</td>\n",
       "    </tr>\n",
       "    <tr>\n",
       "      <th>mean</th>\n",
       "      <td>2.288649e+00</td>\n",
       "      <td>3.653027e+01</td>\n",
       "      <td>-9.642676e+01</td>\n",
       "      <td>3.651733e+01</td>\n",
       "      <td>-9.620367e+01</td>\n",
       "      <td>3.980541e-01</td>\n",
       "      <td>6.789728e+03</td>\n",
       "      <td>6.098873e+01</td>\n",
       "      <td>5.499048e+01</td>\n",
       "      <td>6.537758e+01</td>\n",
       "      <td>2.965685e+01</td>\n",
       "      <td>9.116766e+00</td>\n",
       "      <td>7.818111e+00</td>\n",
       "      <td>1.119459e-02</td>\n",
       "    </tr>\n",
       "    <tr>\n",
       "      <th>std</th>\n",
       "      <td>5.541618e-01</td>\n",
       "      <td>5.013964e+00</td>\n",
       "      <td>1.775412e+01</td>\n",
       "      <td>5.016609e+00</td>\n",
       "      <td>1.765971e+01</td>\n",
       "      <td>1.592556e+00</td>\n",
       "      <td>1.697225e+04</td>\n",
       "      <td>1.845258e+01</td>\n",
       "      <td>2.219542e+01</td>\n",
       "      <td>2.287854e+01</td>\n",
       "      <td>9.094133e-01</td>\n",
       "      <td>2.837271e+00</td>\n",
       "      <td>5.431171e+00</td>\n",
       "      <td>1.540812e-01</td>\n",
       "    </tr>\n",
       "    <tr>\n",
       "      <th>min</th>\n",
       "      <td>1.000000e+00</td>\n",
       "      <td>2.455527e+01</td>\n",
       "      <td>-1.246238e+02</td>\n",
       "      <td>2.455527e+01</td>\n",
       "      <td>-1.246238e+02</td>\n",
       "      <td>0.000000e+00</td>\n",
       "      <td>0.000000e+00</td>\n",
       "      <td>-8.900000e+01</td>\n",
       "      <td>-8.900000e+01</td>\n",
       "      <td>1.000000e+00</td>\n",
       "      <td>0.000000e+00</td>\n",
       "      <td>0.000000e+00</td>\n",
       "      <td>0.000000e+00</td>\n",
       "      <td>0.000000e+00</td>\n",
       "    </tr>\n",
       "    <tr>\n",
       "      <th>25%</th>\n",
       "      <td>2.000000e+00</td>\n",
       "      <td>3.366453e+01</td>\n",
       "      <td>-1.178232e+02</td>\n",
       "      <td>3.364659e+01</td>\n",
       "      <td>-1.177020e+02</td>\n",
       "      <td>0.000000e+00</td>\n",
       "      <td>9.650000e+02</td>\n",
       "      <td>4.890000e+01</td>\n",
       "      <td>3.900000e+01</td>\n",
       "      <td>4.900000e+01</td>\n",
       "      <td>2.959000e+01</td>\n",
       "      <td>1.000000e+01</td>\n",
       "      <td>4.600000e+00</td>\n",
       "      <td>0.000000e+00</td>\n",
       "    </tr>\n",
       "    <tr>\n",
       "      <th>50%</th>\n",
       "      <td>2.000000e+00</td>\n",
       "      <td>3.609977e+01</td>\n",
       "      <td>-9.116690e+01</td>\n",
       "      <td>3.605898e+01</td>\n",
       "      <td>-9.105163e+01</td>\n",
       "      <td>0.000000e+00</td>\n",
       "      <td>3.093000e+03</td>\n",
       "      <td>6.300000e+01</td>\n",
       "      <td>5.800000e+01</td>\n",
       "      <td>6.800000e+01</td>\n",
       "      <td>2.992000e+01</td>\n",
       "      <td>1.000000e+01</td>\n",
       "      <td>7.000000e+00</td>\n",
       "      <td>0.000000e+00</td>\n",
       "    </tr>\n",
       "    <tr>\n",
       "      <th>75%</th>\n",
       "      <td>3.000000e+00</td>\n",
       "      <td>4.037505e+01</td>\n",
       "      <td>-8.085814e+01</td>\n",
       "      <td>4.033133e+01</td>\n",
       "      <td>-8.084679e+01</td>\n",
       "      <td>2.790000e-01</td>\n",
       "      <td>7.976000e+03</td>\n",
       "      <td>7.500000e+01</td>\n",
       "      <td>7.200000e+01</td>\n",
       "      <td>8.500000e+01</td>\n",
       "      <td>3.007000e+01</td>\n",
       "      <td>1.000000e+01</td>\n",
       "      <td>1.040000e+01</td>\n",
       "      <td>0.000000e+00</td>\n",
       "    </tr>\n",
       "    <tr>\n",
       "      <th>max</th>\n",
       "      <td>4.000000e+00</td>\n",
       "      <td>4.900220e+01</td>\n",
       "      <td>-6.711317e+01</td>\n",
       "      <td>4.907500e+01</td>\n",
       "      <td>-6.710924e+01</td>\n",
       "      <td>3.336300e+02</td>\n",
       "      <td>9.999997e+06</td>\n",
       "      <td>2.030000e+02</td>\n",
       "      <td>1.740000e+02</td>\n",
       "      <td>1.000000e+02</td>\n",
       "      <td>5.804000e+01</td>\n",
       "      <td>1.400000e+02</td>\n",
       "      <td>9.840000e+02</td>\n",
       "      <td>2.400000e+01</td>\n",
       "    </tr>\n",
       "  </tbody>\n",
       "</table>\n",
       "</div>"
      ],
      "text/plain": [
       "           Severity     Start_Lat  ...  Wind_Speed(mph)  Precipitation(in)\n",
       "count  2.906610e+06  2.906610e+06  ...     2.599447e+06       1.605284e+06\n",
       "mean   2.288649e+00  3.653027e+01  ...     7.818111e+00       1.119459e-02\n",
       "std    5.541618e-01  5.013964e+00  ...     5.431171e+00       1.540812e-01\n",
       "min    1.000000e+00  2.455527e+01  ...     0.000000e+00       0.000000e+00\n",
       "25%    2.000000e+00  3.366453e+01  ...     4.600000e+00       0.000000e+00\n",
       "50%    2.000000e+00  3.609977e+01  ...     7.000000e+00       0.000000e+00\n",
       "75%    3.000000e+00  4.037505e+01  ...     1.040000e+01       0.000000e+00\n",
       "max    4.000000e+00  4.900220e+01  ...     9.840000e+02       2.400000e+01\n",
       "\n",
       "[8 rows x 14 columns]"
      ]
     },
     "execution_count": 13,
     "metadata": {
      "tags": []
     },
     "output_type": "execute_result"
    }
   ],
   "source": [
    "df.describe()"
   ]
  },
  {
   "cell_type": "markdown",
   "metadata": {
    "id": "8K-fb-Z8Bu8i"
   },
   "source": [
    "#to find numeric columns in  pandas\n"
   ]
  },
  {
   "cell_type": "code",
   "execution_count": 14,
   "metadata": {
    "colab": {
     "base_uri": "https://localhost:8080/"
    },
    "executionInfo": {
     "elapsed": 458,
     "status": "ok",
     "timestamp": 1627648852088,
     "user": {
      "displayName": "Shreyash Mandavkar",
      "photoUrl": "",
      "userId": "01338434498998208217"
     },
     "user_tz": -330
    },
    "id": "5rHldjgwB2gV",
    "outputId": "abf48a12-6bde-4563-c04e-81b97ceb9513"
   },
   "outputs": [
    {
     "data": {
      "text/plain": [
       "14"
      ]
     },
     "execution_count": 14,
     "metadata": {
      "tags": []
     },
     "output_type": "execute_result"
    }
   ],
   "source": [
    "num_col=['int16','int32','int64','float16','float32','float64']\n",
    "num_df=df.select_dtypes(include=num_col)\n",
    "len(num_df.columns)"
   ]
  },
  {
   "cell_type": "markdown",
   "metadata": {
    "id": "ctn3Vr_HCrEb"
   },
   "source": [
    "#FIND MISSING VALUES \n",
    "#PERCENTAGE OF MISSSING VALUES"
   ]
  },
  {
   "cell_type": "code",
   "execution_count": 15,
   "metadata": {
    "colab": {
     "base_uri": "https://localhost:8080/"
    },
    "executionInfo": {
     "elapsed": 2584,
     "status": "ok",
     "timestamp": 1627648854666,
     "user": {
      "displayName": "Shreyash Mandavkar",
      "photoUrl": "",
      "userId": "01338434498998208217"
     },
     "user_tz": -330
    },
    "id": "h16fwL0yCmCP",
    "outputId": "9edc30cf-8aa6-4ecf-8a93-f9fca1614f26"
   },
   "outputs": [
    {
     "data": {
      "text/plain": [
       "Number                   0.650817\n",
       "Precipitation(in)        0.447713\n",
       "Wind_Chill(F)            0.407299\n",
       "Wind_Speed(mph)          0.105677\n",
       "End_Lat                  0.097303\n",
       "End_Lng                  0.097303\n",
       "Visibility(mi)           0.024798\n",
       "Weather_Condition        0.024720\n",
       "Humidity(%)              0.024520\n",
       "Temperature(F)           0.023128\n",
       "Wind_Direction           0.021838\n",
       "Pressure(in)             0.019579\n",
       "Weather_Timestamp        0.016141\n",
       "Airport_Code             0.002273\n",
       "Timezone                 0.001180\n",
       "Zipcode                  0.000383\n",
       "Nautical_Twilight        0.000038\n",
       "Astronomical_Twilight    0.000038\n",
       "Civil_Twilight           0.000038\n",
       "Sunrise_Sunset           0.000038\n",
       "City                     0.000037\n",
       "Amenity                  0.000000\n",
       "Severity                 0.000000\n",
       "Start_Time               0.000000\n",
       "End_Time                 0.000000\n",
       "Start_Lat                0.000000\n",
       "Start_Lng                0.000000\n",
       "Distance(mi)             0.000000\n",
       "Description              0.000000\n",
       "Turning_Loop             0.000000\n",
       "Street                   0.000000\n",
       "Side                     0.000000\n",
       "County                   0.000000\n",
       "Bump                     0.000000\n",
       "State                    0.000000\n",
       "Traffic_Signal           0.000000\n",
       "Country                  0.000000\n",
       "Traffic_Calming          0.000000\n",
       "Stop                     0.000000\n",
       "Station                  0.000000\n",
       "Roundabout               0.000000\n",
       "Railway                  0.000000\n",
       "No_Exit                  0.000000\n",
       "Junction                 0.000000\n",
       "Give_Way                 0.000000\n",
       "Crossing                 0.000000\n",
       "ID                       0.000000\n",
       "dtype: float64"
      ]
     },
     "execution_count": 15,
     "metadata": {
      "tags": []
     },
     "output_type": "execute_result"
    }
   ],
   "source": [
    " missing_per=df.isna().sum().sort_values(ascending=False)/len(df)\n",
    " missing_per"
   ]
  },
  {
   "cell_type": "code",
   "execution_count": 16,
   "metadata": {
    "colab": {
     "base_uri": "https://localhost:8080/"
    },
    "executionInfo": {
     "elapsed": 14,
     "status": "ok",
     "timestamp": 1627648854667,
     "user": {
      "displayName": "Shreyash Mandavkar",
      "photoUrl": "",
      "userId": "01338434498998208217"
     },
     "user_tz": -330
    },
    "id": "YZlz5SEYFYTp",
    "outputId": "36eb035a-00b0-4579-8b12-041ef71cb6d7"
   },
   "outputs": [
    {
     "data": {
      "text/plain": [
       "Number                   0.650817\n",
       "Precipitation(in)        0.447713\n",
       "Wind_Chill(F)            0.407299\n",
       "Wind_Speed(mph)          0.105677\n",
       "End_Lat                  0.097303\n",
       "End_Lng                  0.097303\n",
       "Visibility(mi)           0.024798\n",
       "Weather_Condition        0.024720\n",
       "Humidity(%)              0.024520\n",
       "Temperature(F)           0.023128\n",
       "Wind_Direction           0.021838\n",
       "Pressure(in)             0.019579\n",
       "Weather_Timestamp        0.016141\n",
       "Airport_Code             0.002273\n",
       "Timezone                 0.001180\n",
       "Zipcode                  0.000383\n",
       "Nautical_Twilight        0.000038\n",
       "Astronomical_Twilight    0.000038\n",
       "Civil_Twilight           0.000038\n",
       "Sunrise_Sunset           0.000038\n",
       "City                     0.000037\n",
       "dtype: float64"
      ]
     },
     "execution_count": 16,
     "metadata": {
      "tags": []
     },
     "output_type": "execute_result"
    }
   ],
   "source": [
    "missing_per[missing_per!=0]"
   ]
  },
  {
   "cell_type": "code",
   "execution_count": 17,
   "metadata": {
    "colab": {
     "base_uri": "https://localhost:8080/",
     "height": 282
    },
    "executionInfo": {
     "elapsed": 13,
     "status": "ok",
     "timestamp": 1627648854668,
     "user": {
      "displayName": "Shreyash Mandavkar",
      "photoUrl": "",
      "userId": "01338434498998208217"
     },
     "user_tz": -330
    },
    "id": "jGmGy0T3CmRt",
    "outputId": "b890654e-4c1c-45ae-88a8-11d886e09c14"
   },
   "outputs": [
    {
     "data": {
      "text/plain": [
       "<matplotlib.axes._subplots.AxesSubplot at 0x7f22b3323d10>"
      ]
     },
     "execution_count": 17,
     "metadata": {
      "tags": []
     },
     "output_type": "execute_result"
    },
    {
     "data": {
      "image/png": "[encoded data removed]",
      "text/plain": [
       "<Figure size 432x288 with 1 Axes>"
      ]
     },
     "metadata": {
      "needs_background": "light",
      "tags": []
     },
     "output_type": "display_data"
    }
   ],
   "source": [
    "missing_per[missing_per!=0].plot(kind='barh')"
   ]
  },
  {
   "cell_type": "code",
   "execution_count": 18,
   "metadata": {
    "colab": {
     "base_uri": "https://localhost:8080/"
    },
    "executionInfo": {
     "elapsed": 11,
     "status": "ok",
     "timestamp": 1627648854668,
     "user": {
      "displayName": "Shreyash Mandavkar",
      "photoUrl": "",
      "userId": "01338434498998208217"
     },
     "user_tz": -330
    },
    "id": "6QeOkmJNCmbr",
    "outputId": "bd41923a-aafb-493f-cdb4-4263e2fecae5"
   },
   "outputs": [
    {
     "data": {
      "text/plain": [
       "pandas.core.series.Series"
      ]
     },
     "execution_count": 18,
     "metadata": {
      "tags": []
     },
     "output_type": "execute_result"
    }
   ],
   "source": [
    "type(missing_per)"
   ]
  },
  {
   "cell_type": "markdown",
   "metadata": {
    "id": "kl0JhA7kF2Jy"
   },
   "source": [
    "#CITY\n"
   ]
  },
  {
   "cell_type": "code",
   "execution_count": 19,
   "metadata": {
    "colab": {
     "base_uri": "https://localhost:8080/"
    },
    "executionInfo": {
     "elapsed": 11,
     "status": "ok",
     "timestamp": 1627648854669,
     "user": {
      "displayName": "Shreyash Mandavkar",
      "photoUrl": "",
      "userId": "01338434498998208217"
     },
     "user_tz": -330
    },
    "id": "b5Vb_sx6F1Aj",
    "outputId": "9d2cca2b-13a3-4cd7-90db-046fea2d9f5b"
   },
   "outputs": [
    {
     "data": {
      "text/plain": [
       "0                Greenville\n",
       "1                 Charlotte\n",
       "2                 Los Gatos\n",
       "3               Carson City\n",
       "4           Fort Lauderdale\n",
       "                 ...       \n",
       "2906605             Houston\n",
       "2906606              Colton\n",
       "2906607               Miami\n",
       "2906608      Salt Lake City\n",
       "2906609    Colorado Springs\n",
       "Name: City, Length: 2906610, dtype: object"
      ]
     },
     "execution_count": 19,
     "metadata": {
      "tags": []
     },
     "output_type": "execute_result"
    }
   ],
   "source": [
    "df.City"
   ]
  },
  {
   "cell_type": "code",
   "execution_count": 20,
   "metadata": {
    "colab": {
     "base_uri": "https://localhost:8080/"
    },
    "executionInfo": {
     "elapsed": 7,
     "status": "ok",
     "timestamp": 1627648855299,
     "user": {
      "displayName": "Shreyash Mandavkar",
      "photoUrl": "",
      "userId": "01338434498998208217"
     },
     "user_tz": -330
    },
    "id": "PtclfnhMIvmJ",
    "outputId": "21928d11-289f-47ca-d525-873e5643f221"
   },
   "outputs": [
    {
     "data": {
      "text/plain": [
       "11790"
      ]
     },
     "execution_count": 20,
     "metadata": {
      "tags": []
     },
     "output_type": "execute_result"
    }
   ],
   "source": [
    "cities=df.City.unique()\n",
    "len(cities)"
   ]
  },
  {
   "cell_type": "code",
   "execution_count": 21,
   "metadata": {
    "colab": {
     "base_uri": "https://localhost:8080/"
    },
    "executionInfo": {
     "elapsed": 6,
     "status": "ok",
     "timestamp": 1627648855300,
     "user": {
      "displayName": "Shreyash Mandavkar",
      "photoUrl": "",
      "userId": "01338434498998208217"
     },
     "user_tz": -330
    },
    "id": "ZoxG4PW6JTwq",
    "outputId": "faeda432-5a86-4410-e7d6-6a7b76ed5e75"
   },
   "outputs": [
    {
     "data": {
      "text/plain": [
       "Los Angeles       68411\n",
       "Houston           68265\n",
       "Charlotte         56176\n",
       "Miami             49965\n",
       "Dallas            48525\n",
       "                  ...  \n",
       "Coburn Gore           1\n",
       "Nora                  1\n",
       "Greenwood Lake        1\n",
       "Carter Lake           1\n",
       "Ponca                 1\n",
       "Name: City, Length: 11789, dtype: int64"
      ]
     },
     "execution_count": 21,
     "metadata": {
      "tags": []
     },
     "output_type": "execute_result"
    }
   ],
   "source": [
    "cities_accident=df.City.value_counts()\n",
    "cities_accident"
   ]
  },
  {
   "cell_type": "code",
   "execution_count": 22,
   "metadata": {
    "colab": {
     "base_uri": "https://localhost:8080/"
    },
    "executionInfo": {
     "elapsed": 5,
     "status": "ok",
     "timestamp": 1627648855300,
     "user": {
      "displayName": "Shreyash Mandavkar",
      "photoUrl": "",
      "userId": "01338434498998208217"
     },
     "user_tz": -330
    },
    "id": "K0yOtaNGKP42",
    "outputId": "5ff46d59-92af-45dc-cdcc-08a6a8fe4d52"
   },
   "outputs": [
    {
     "data": {
      "text/plain": [
       "Los Angeles        68411\n",
       "Houston            68265\n",
       "Charlotte          56176\n",
       "Miami              49965\n",
       "Dallas             48525\n",
       "                   ...  \n",
       "Sarasota            4336\n",
       "Pensacola           4287\n",
       "West Palm Beach     4224\n",
       "Hollywood           4175\n",
       "Baltimore           4175\n",
       "Name: City, Length: 100, dtype: int64"
      ]
     },
     "execution_count": 22,
     "metadata": {
      "tags": []
     },
     "output_type": "execute_result"
    }
   ],
   "source": [
    "cities_accident[:100]"
   ]
  },
  {
   "cell_type": "code",
   "execution_count": 23,
   "metadata": {
    "colab": {
     "base_uri": "https://localhost:8080/",
     "height": 282
    },
    "executionInfo": {
     "elapsed": 461,
     "status": "ok",
     "timestamp": 1627648855757,
     "user": {
      "displayName": "Shreyash Mandavkar",
      "photoUrl": "",
      "userId": "01338434498998208217"
     },
     "user_tz": -330
    },
    "id": "zBU8rM9jLFED",
    "outputId": "cd83a073-ca8c-4018-daf2-8b9810a1d03c"
   },
   "outputs": [
    {
     "data": {
      "text/plain": [
       "<matplotlib.axes._subplots.AxesSubplot at 0x7f22b3291710>"
      ]
     },
     "execution_count": 23,
     "metadata": {
      "tags": []
     },
     "output_type": "execute_result"
    },
    {
     "data": {
      "image/png": "[encoded data removed]",
      "text/plain": [
       "<Figure size 432x288 with 1 Axes>"
      ]
     },
     "metadata": {
      "needs_background": "light",
      "tags": []
     },
     "output_type": "display_data"
    }
   ],
   "source": [
    "cities_accident[:20].plot(kind='barh')"
   ]
  },
  {
   "cell_type": "code",
   "execution_count": 24,
   "metadata": {
    "executionInfo": {
     "elapsed": 840,
     "status": "ok",
     "timestamp": 1627648856593,
     "user": {
      "displayName": "Shreyash Mandavkar",
      "photoUrl": "",
      "userId": "01338434498998208217"
     },
     "user_tz": -330
    },
    "id": "Q3J5IqPiLFS2"
   },
   "outputs": [],
   "source": [
    "import seaborn as sns\n",
    "sns.set_style(\"darkgrid\")"
   ]
  },
  {
   "cell_type": "code",
   "execution_count": 25,
   "metadata": {
    "colab": {
     "base_uri": "https://localhost:8080/",
     "height": 296
    },
    "executionInfo": {
     "elapsed": 19079,
     "status": "ok",
     "timestamp": 1627648875669,
     "user": {
      "displayName": "Shreyash Mandavkar",
      "photoUrl": "",
      "userId": "01338434498998208217"
     },
     "user_tz": -330
    },
    "id": "lfjz58mfLFbD",
    "outputId": "52eac0ec-a89e-404c-8867-4c44b304a8b8"
   },
   "outputs": [
    {
     "data": {
      "text/plain": [
       "<matplotlib.axes._subplots.AxesSubplot at 0x7f2311adb190>"
      ]
     },
     "execution_count": 25,
     "metadata": {
      "tags": []
     },
     "output_type": "execute_result"
    },
    {
     "data": {
      "image/png": "[encoded data removed]",
      "text/plain": [
       "<Figure size 432x288 with 1 Axes>"
      ]
     },
     "metadata": {
      "tags": []
     },
     "output_type": "display_data"
    }
   ],
   "source": [
    "sns.histplot(cities_accident)"
   ]
  },
  {
   "cell_type": "code",
   "execution_count": 26,
   "metadata": {
    "executionInfo": {
     "elapsed": 14,
     "status": "ok",
     "timestamp": 1627648875670,
     "user": {
      "displayName": "Shreyash Mandavkar",
      "photoUrl": "",
      "userId": "01338434498998208217"
     },
     "user_tz": -330
    },
    "id": "feamPWPSLFiS"
   },
   "outputs": [],
   "source": [
    "high_accident=cities_accident[cities_accident>=1000]\n",
    "low_accident=cities_accident[cities_accident<1000]"
   ]
  },
  {
   "cell_type": "code",
   "execution_count": 27,
   "metadata": {
    "colab": {
     "base_uri": "https://localhost:8080/"
    },
    "executionInfo": {
     "elapsed": 13,
     "status": "ok",
     "timestamp": 1627648875670,
     "user": {
      "displayName": "Shreyash Mandavkar",
      "photoUrl": "",
      "userId": "01338434498998208217"
     },
     "user_tz": -330
    },
    "id": "OZuCxagiLFsD",
    "outputId": "e8a2bacf-7bb5-477b-c280-ce1c33b72f42"
   },
   "outputs": [
    {
     "data": {
      "text/plain": [
       "0.04351145038167939"
      ]
     },
     "execution_count": 27,
     "metadata": {
      "tags": []
     },
     "output_type": "execute_result"
    }
   ],
   "source": [
    "len(high_accident)/len(cities)"
   ]
  },
  {
   "cell_type": "code",
   "execution_count": 28,
   "metadata": {
    "colab": {
     "base_uri": "https://localhost:8080/",
     "height": 300
    },
    "executionInfo": {
     "elapsed": 917,
     "status": "ok",
     "timestamp": 1627648876577,
     "user": {
      "displayName": "Shreyash Mandavkar",
      "photoUrl": "",
      "userId": "01338434498998208217"
     },
     "user_tz": -330
    },
    "id": "GdBf9Dl4jVr_",
    "outputId": "1bd3515f-2576-45f0-caa9-0698077e6f02"
   },
   "outputs": [
    {
     "data": {
      "text/plain": [
       "<matplotlib.axes._subplots.AxesSubplot at 0x7f229e2ba790>"
      ]
     },
     "execution_count": 28,
     "metadata": {
      "tags": []
     },
     "output_type": "execute_result"
    },
    {
     "data": {
      "image/png": "[encoded data removed]",
      "text/plain": [
       "<Figure size 432x288 with 1 Axes>"
      ]
     },
     "metadata": {
      "tags": []
     },
     "output_type": "display_data"
    }
   ],
   "source": [
    "sns.histplot(high_accident,log_scale=True)"
   ]
  },
  {
   "cell_type": "markdown",
   "metadata": {
    "id": "UUZXsTiAKgq0"
   },
   "source": [
    "#CHECK THE VALUES IN DATASET\n"
   ]
  },
  {
   "cell_type": "code",
   "execution_count": 29,
   "metadata": {
    "colab": {
     "base_uri": "https://localhost:8080/"
    },
    "executionInfo": {
     "elapsed": 16,
     "status": "ok",
     "timestamp": 1627648876578,
     "user": {
      "displayName": "Shreyash Mandavkar",
      "photoUrl": "",
      "userId": "01338434498998208217"
     },
     "user_tz": -330
    },
    "id": "5OxFPlW4Kc3l",
    "outputId": "328b6b41-f1a2-44f9-8b50-954c44b4fd4f"
   },
   "outputs": [
    {
     "data": {
      "text/plain": [
       "False"
      ]
     },
     "execution_count": 29,
     "metadata": {
      "tags": []
     },
     "output_type": "execute_result"
    }
   ],
   "source": [
    "'NY' in df.State"
   ]
  },
  {
   "cell_type": "code",
   "execution_count": 30,
   "metadata": {
    "colab": {
     "base_uri": "https://localhost:8080/"
    },
    "executionInfo": {
     "elapsed": 11,
     "status": "ok",
     "timestamp": 1627648876578,
     "user": {
      "displayName": "Shreyash Mandavkar",
      "photoUrl": "",
      "userId": "01338434498998208217"
     },
     "user_tz": -330
    },
    "id": "PzJNpSsoKw15",
    "outputId": "9d631288-1a02-41b6-8449-860a8c0619c2"
   },
   "outputs": [
    {
     "data": {
      "text/plain": [
       "Heber Springs     1\n",
       "Avera             1\n",
       "Bingham Farms     1\n",
       "River Ranch       1\n",
       "Saint Landry      1\n",
       "                 ..\n",
       "Coburn Gore       1\n",
       "Nora              1\n",
       "Greenwood Lake    1\n",
       "Carter Lake       1\n",
       "Ponca             1\n",
       "Name: City, Length: 1306, dtype: int64"
      ]
     },
     "execution_count": 30,
     "metadata": {
      "tags": []
     },
     "output_type": "execute_result"
    }
   ],
   "source": [
    "cities_accident[cities_accident<2]"
   ]
  },
  {
   "cell_type": "markdown",
   "metadata": {
    "id": "TTjEAV5ulxx5"
   },
   "source": [
    "#START TIME\n"
   ]
  },
  {
   "cell_type": "markdown",
   "metadata": {
    "id": "VpJR4Kw6ht-D"
   },
   "source": []
  },
  {
   "cell_type": "code",
   "execution_count": 31,
   "metadata": {
    "colab": {
     "base_uri": "https://localhost:8080/"
    },
    "executionInfo": {
     "elapsed": 11,
     "status": "ok",
     "timestamp": 1627648876579,
     "user": {
      "displayName": "Shreyash Mandavkar",
      "photoUrl": "",
      "userId": "01338434498998208217"
     },
     "user_tz": -330
    },
    "id": "YzPXspy8Kw7z",
    "outputId": "f55d84d9-57cb-4a51-9f50-8b4ff0203616"
   },
   "outputs": [
    {
     "data": {
      "text/plain": [
       "Index(['ID', 'Severity', 'Start_Time', 'End_Time', 'Start_Lat', 'Start_Lng',\n",
       "       'End_Lat', 'End_Lng', 'Distance(mi)', 'Description', 'Number', 'Street',\n",
       "       'Side', 'City', 'County', 'State', 'Zipcode', 'Country', 'Timezone',\n",
       "       'Airport_Code', 'Weather_Timestamp', 'Temperature(F)', 'Wind_Chill(F)',\n",
       "       'Humidity(%)', 'Pressure(in)', 'Visibility(mi)', 'Wind_Direction',\n",
       "       'Wind_Speed(mph)', 'Precipitation(in)', 'Weather_Condition', 'Amenity',\n",
       "       'Bump', 'Crossing', 'Give_Way', 'Junction', 'No_Exit', 'Railway',\n",
       "       'Roundabout', 'Station', 'Stop', 'Traffic_Calming', 'Traffic_Signal',\n",
       "       'Turning_Loop', 'Sunrise_Sunset', 'Civil_Twilight', 'Nautical_Twilight',\n",
       "       'Astronomical_Twilight'],\n",
       "      dtype='object')"
      ]
     },
     "execution_count": 31,
     "metadata": {
      "tags": []
     },
     "output_type": "execute_result"
    }
   ],
   "source": [
    "df.columns"
   ]
  },
  {
   "cell_type": "code",
   "execution_count": 32,
   "metadata": {
    "colab": {
     "base_uri": "https://localhost:8080/",
     "height": 35
    },
    "executionInfo": {
     "elapsed": 10,
     "status": "ok",
     "timestamp": 1627648876579,
     "user": {
      "displayName": "Shreyash Mandavkar",
      "photoUrl": "",
      "userId": "01338434498998208217"
     },
     "user_tz": -330
    },
    "id": "dJfkEjLAKw_Y",
    "outputId": "00e723ae-7c7a-4036-c595-d1f4614f4cba"
   },
   "outputs": [
    {
     "data": {
      "application/vnd.google.colaboratory.intrinsic+json": {
       "type": "string"
      },
      "text/plain": [
       "'2019-05-21 08:29:55'"
      ]
     },
     "execution_count": 32,
     "metadata": {
      "tags": []
     },
     "output_type": "execute_result"
    }
   ],
   "source": [
    "df.Start_Time[0]"
   ]
  },
  {
   "cell_type": "code",
   "execution_count": 33,
   "metadata": {
    "colab": {
     "base_uri": "https://localhost:8080/"
    },
    "executionInfo": {
     "elapsed": 1026,
     "status": "ok",
     "timestamp": 1627648877596,
     "user": {
      "displayName": "Shreyash Mandavkar",
      "photoUrl": "",
      "userId": "01338434498998208217"
     },
     "user_tz": -330
    },
    "id": "Uoim_0iIKxC-",
    "outputId": "8af543c3-7fe9-4cdd-c2ba-b9630c62e48f"
   },
   "outputs": [
    {
     "data": {
      "text/plain": [
       "Timestamp('2019-05-21 08:29:55')"
      ]
     },
     "execution_count": 33,
     "metadata": {
      "tags": []
     },
     "output_type": "execute_result"
    }
   ],
   "source": [
    "df.Start_Time=pd.to_datetime(df.Start_Time)\n",
    "df.Start_Time[0]"
   ]
  },
  {
   "cell_type": "code",
   "execution_count": 34,
   "metadata": {
    "colab": {
     "base_uri": "https://localhost:8080/",
     "height": 350
    },
    "executionInfo": {
     "elapsed": 942,
     "status": "ok",
     "timestamp": 1627648878536,
     "user": {
      "displayName": "Shreyash Mandavkar",
      "photoUrl": "",
      "userId": "01338434498998208217"
     },
     "user_tz": -330
    },
    "id": "qpu-sZO-KxGh",
    "outputId": "25d83b17-721b-4f4a-9994-08eaa5f8e57b"
   },
   "outputs": [
    {
     "name": "stderr",
     "output_type": "stream",
     "text": [
      "/usr/local/lib/python3.7/dist-packages/seaborn/distributions.py:2557: FutureWarning: `distplot` is a deprecated function and will be removed in a future version. Please adapt your code to use either `displot` (a figure-level function with similar flexibility) or `histplot` (an axes-level function for histograms).\n",
      "  warnings.warn(msg, FutureWarning)\n"
     ]
    },
    {
     "data": {
      "text/plain": [
       "<matplotlib.axes._subplots.AxesSubplot at 0x7f229d30bf90>"
      ]
     },
     "execution_count": 34,
     "metadata": {
      "tags": []
     },
     "output_type": "execute_result"
    },
    {
     "data": {
      "image/png": "[encoded data removed]",
      "text/plain": [
       "<Figure size 432x288 with 1 Axes>"
      ]
     },
     "metadata": {
      "tags": []
     },
     "output_type": "display_data"
    }
   ],
   "source": [
    "sns.distplot(df.Start_Time.dt.dayofweek,bins=7,kde=False,norm_hist=True)"
   ]
  },
  {
   "cell_type": "code",
   "execution_count": 35,
   "metadata": {
    "colab": {
     "base_uri": "https://localhost:8080/",
     "height": 386
    },
    "executionInfo": {
     "elapsed": 1597,
     "status": "ok",
     "timestamp": 1627648880129,
     "user": {
      "displayName": "Shreyash Mandavkar",
      "photoUrl": "",
      "userId": "01338434498998208217"
     },
     "user_tz": -330
    },
    "id": "3vcq6AObnxVp",
    "outputId": "de17eed7-8686-4727-f7ec-b88cabb7eca7"
   },
   "outputs": [
    {
     "data": {
      "text/plain": [
       "<seaborn.axisgrid.FacetGrid at 0x7f229d32b9d0>"
      ]
     },
     "execution_count": 35,
     "metadata": {
      "tags": []
     },
     "output_type": "execute_result"
    },
    {
     "data": {
      "image/png": "[encoded data removed]",
      "text/plain": [
       "<Figure size 360x360 with 1 Axes>"
      ]
     },
     "metadata": {
      "tags": []
     },
     "output_type": "display_data"
    }
   ],
   "source": [
    "df_2018=df[df.Start_Time.dt.year==2018]\n",
    "sns.displot(df_2018.Start_Time.dt.month,bins =12,kde=False)"
   ]
  },
  {
   "cell_type": "code",
   "execution_count": 35,
   "metadata": {
    "executionInfo": {
     "elapsed": 22,
     "status": "ok",
     "timestamp": 1627648880130,
     "user": {
      "displayName": "Shreyash Mandavkar",
      "photoUrl": "",
      "userId": "01338434498998208217"
     },
     "user_tz": -330
    },
    "id": "i2aCk3xztCBY"
   },
   "outputs": [],
   "source": []
  },
  {
   "cell_type": "markdown",
   "metadata": {
    "id": "5OkPR99BuowX"
   },
   "source": [
    "#START LONGINTUDE AND LATITUDE"
   ]
  },
  {
   "cell_type": "code",
   "execution_count": 36,
   "metadata": {
    "colab": {
     "base_uri": "https://localhost:8080/"
    },
    "executionInfo": {
     "elapsed": 21,
     "status": "ok",
     "timestamp": 1627648880130,
     "user": {
      "displayName": "Shreyash Mandavkar",
      "photoUrl": "",
      "userId": "01338434498998208217"
     },
     "user_tz": -330
    },
    "id": "1BHLh6u7ul4D",
    "outputId": "68d6d040-8062-4555-9de1-4f4813747cb1"
   },
   "outputs": [
    {
     "data": {
      "text/plain": [
       "0          34.808868\n",
       "1          35.090080\n",
       "2          37.145730\n",
       "3          39.110390\n",
       "4          26.102942\n",
       "             ...    \n",
       "2906605    29.813824\n",
       "2906606    34.068890\n",
       "2906607    25.702200\n",
       "2906608    40.660140\n",
       "2906609    38.831749\n",
       "Name: Start_Lat, Length: 2906610, dtype: float64"
      ]
     },
     "execution_count": 36,
     "metadata": {
      "tags": []
     },
     "output_type": "execute_result"
    }
   ],
   "source": [
    "df.Start_Lat"
   ]
  },
  {
   "cell_type": "code",
   "execution_count": 37,
   "metadata": {
    "colab": {
     "base_uri": "https://localhost:8080/"
    },
    "executionInfo": {
     "elapsed": 20,
     "status": "ok",
     "timestamp": 1627648880131,
     "user": {
      "displayName": "Shreyash Mandavkar",
      "photoUrl": "",
      "userId": "01338434498998208217"
     },
     "user_tz": -330
    },
    "id": "ZD-dGQDZu3dR",
    "outputId": "981761a0-0d45-4691-f25b-fb8bb7a32b46"
   },
   "outputs": [
    {
     "data": {
      "text/plain": [
       "0          -82.269157\n",
       "1          -80.745560\n",
       "2         -121.985052\n",
       "3         -119.773781\n",
       "4          -80.265091\n",
       "              ...    \n",
       "2906605    -95.399437\n",
       "2906606   -117.342010\n",
       "2906607    -80.335556\n",
       "2906608   -111.952460\n",
       "2906609   -104.748161\n",
       "Name: Start_Lng, Length: 2906610, dtype: float64"
      ]
     },
     "execution_count": 37,
     "metadata": {
      "tags": []
     },
     "output_type": "execute_result"
    }
   ],
   "source": [
    "df.Start_Lng"
   ]
  },
  {
   "cell_type": "code",
   "execution_count": 38,
   "metadata": {
    "executionInfo": {
     "elapsed": 663,
     "status": "ok",
     "timestamp": 1627648880779,
     "user": {
      "displayName": "Shreyash Mandavkar",
      "photoUrl": "",
      "userId": "01338434498998208217"
     },
     "user_tz": -330
    },
    "id": "YlOP_OdWvgDr"
   },
   "outputs": [],
   "source": [
    "sample_df=df.sample(int(0.1 *len(df)))"
   ]
  },
  {
   "cell_type": "code",
   "execution_count": 39,
   "metadata": {
    "colab": {
     "base_uri": "https://localhost:8080/",
     "height": 299
    },
    "executionInfo": {
     "elapsed": 14228,
     "status": "ok",
     "timestamp": 1627648895490,
     "user": {
      "displayName": "Shreyash Mandavkar",
      "photoUrl": "",
      "userId": "01338434498998208217"
     },
     "user_tz": -330
    },
    "id": "caroMnsCu9Hp",
    "outputId": "6b9c7e0d-5fbc-4e7c-a3f4-0719e007d8f4"
   },
   "outputs": [
    {
     "data": {
      "text/plain": [
       "<matplotlib.axes._subplots.AxesSubplot at 0x7f229db8a2d0>"
      ]
     },
     "execution_count": 39,
     "metadata": {
      "tags": []
     },
     "output_type": "execute_result"
    },
    {
     "data": {
      "image/png": "[encoded data removed]",
      "text/plain": [
       "<Figure size 432x288 with 1 Axes>"
      ]
     },
     "metadata": {
      "tags": []
     },
     "output_type": "display_data"
    }
   ],
   "source": [
    "sns.scatterplot(x=sample_df.Start_Lng,y=df.Start_Lat, size=0.001)"
   ]
  },
  {
   "cell_type": "code",
   "execution_count": 40,
   "metadata": {
    "executionInfo": {
     "elapsed": 27,
     "status": "ok",
     "timestamp": 1627648895491,
     "user": {
      "displayName": "Shreyash Mandavkar",
      "photoUrl": "",
      "userId": "01338434498998208217"
     },
     "user_tz": -330
    },
    "id": "SPBh_UtzwNdK"
   },
   "outputs": [],
   "source": [
    "import folium "
   ]
  },
  {
   "cell_type": "code",
   "execution_count": 41,
   "metadata": {
    "colab": {
     "base_uri": "https://localhost:8080/"
    },
    "executionInfo": {
     "elapsed": 24,
     "status": "ok",
     "timestamp": 1627648895491,
     "user": {
      "displayName": "Shreyash Mandavkar",
      "photoUrl": "",
      "userId": "01338434498998208217"
     },
     "user_tz": -330
    },
    "id": "-9z7is6tw-F8",
    "outputId": "a843908a-68ea-40d3-f89f-1ba09db5e3a9"
   },
   "outputs": [
    {
     "data": {
      "text/plain": [
       "(34.808868, -82.26915699999998)"
      ]
     },
     "execution_count": 41,
     "metadata": {
      "tags": []
     },
     "output_type": "execute_result"
    }
   ],
   "source": [
    "lat,lon=df.Start_Lat[0],df.Start_Lng[0]\n",
    "lat,lon"
   ]
  },
  {
   "cell_type": "code",
   "execution_count": 42,
   "metadata": {
    "colab": {
     "base_uri": "https://localhost:8080/"
    },
    "executionInfo": {
     "elapsed": 23,
     "status": "ok",
     "timestamp": 1627648895492,
     "user": {
      "displayName": "Shreyash Mandavkar",
      "photoUrl": "",
      "userId": "01338434498998208217"
     },
     "user_tz": -330
    },
    "id": "KbrVu4a3yDco",
    "outputId": "96dfceaf-69cb-4b66-e478-8517422a2a91"
   },
   "outputs": [
    {
     "name": "stdout",
     "output_type": "stream",
     "text": [
      "('Start_Lat', 2274302    34.052929\n",
      "1854590    25.727345\n",
      "1338598    37.798500\n",
      "337571     42.948210\n",
      "2629340    35.491837\n",
      "             ...    \n",
      "1889942    43.083608\n",
      "598949     42.783257\n",
      "1976038    36.157669\n",
      "2487975    42.374481\n",
      "2355562    34.280261\n",
      "Name: Start_Lat, Length: 100, dtype: float64)\n",
      "('Start_Lng', 2274302   -118.450023\n",
      "1854590    -80.318431\n",
      "1338598   -121.052050\n",
      "337571    -123.327929\n",
      "2629340   -108.488266\n",
      "              ...    \n",
      "1889942   -115.610791\n",
      "598949     -74.027924\n",
      "1976038    -95.967102\n",
      "2487975    -83.146225\n",
      "2355562   -118.418629\n",
      "Name: Start_Lng, Length: 100, dtype: float64)\n"
     ]
    }
   ],
   "source": [
    "for x in df[['Start_Lat','Start_Lng']].sample(100).iteritems():\n",
    "  print(x)"
   ]
  },
  {
   "cell_type": "code",
   "execution_count": 44,
   "metadata": {
    "executionInfo": {
     "elapsed": 360,
     "status": "ok",
     "timestamp": 1627648949760,
     "user": {
      "displayName": "Shreyash Mandavkar",
      "photoUrl": "",
      "userId": "01338434498998208217"
     },
     "user_tz": -330
    },
    "id": "jw63wuQu0ux7"
   },
   "outputs": [],
   "source": [
    "from folium.plugins import HeatMap"
   ]
  },
  {
   "cell_type": "code",
   "execution_count": 50,
   "metadata": {
    "executionInfo": {
     "elapsed": 359,
     "status": "ok",
     "timestamp": 1627649611801,
     "user": {
      "displayName": "Shreyash Mandavkar",
      "photoUrl": "",
      "userId": "01338434498998208217"
     },
     "user_tz": -330
    },
    "id": "NLfDxIiScBnp"
   },
   "outputs": [],
   "source": [
    "sample_df=df.sample(int(0.001 * len(df)))\n",
    "lat_log_pairs=list(zip(list(sample_df.Start_Lat),list(sample_df.Start_Lng)))"
   ]
  },
  {
   "cell_type": "code",
   "execution_count": 51,
   "metadata": {
    "colab": {
     "base_uri": "https://localhost:8080/",
     "height": 404
    },
    "executionInfo": {
     "elapsed": 969,
     "status": "ok",
     "timestamp": 1627649639122,
     "user": {
      "displayName": "Shreyash Mandavkar",
      "photoUrl": "",
      "userId": "01338434498998208217"
     },
     "user_tz": -330
    },
    "id": "MXOJzX1BxYsI",
    "outputId": "d2f80cdc-58b7-4ef4-988a-ada01a486631"
   },
   "outputs": [
    {
     "data": {
      "text/html": [
       "<div style=\"width:100%;\"><div style=\"position:relative;width:100%;height:0;padding-bottom:60%;\"><span style=\"color:#565656\">Make this Notebook Trusted to load map: File -> Trust Notebook</span><iframe src=\"about:blank\" style=\"position:absolute;width:100%;height:100%;left:0;top:0;border:none !important;\" data-html=%3C%21DOCTYPE%20html%3E%0A%3Chead%3E%20%20%20%20%0A%20%20%20%20%3Cmeta%20http-equiv%3D%22content-type%22%20content%3D%22text/html%3B%20charset%3DUTF-8%22%20/%3E%0A%20%20%20%20%3Cscript%3EL_PREFER_CANVAS%3Dfalse%3B%20L_NO_TOUCH%3Dfalse%3B%20L_DISABLE_3D%3Dfalse%3B%3C/script%3E%0A%20%20%20%20%3Cscript%20src%3D%22https%3A//cdn.jsdelivr.net/npm/leaflet%401.4.0/dist/leaflet.js%22%3E%3C/script%3E%0A%20%20%20%20%3Cscript%20src%3D%22https%3A//code.jquery.com/jquery-1.12.4.min.js%22%3E%3C/script%3E%0A%20%20%20%20%3Cscript%20src%3D%22https%3A//maxcdn.bootstrapcdn.com/bootstrap/3.2.0/js/bootstrap.min.js%22%3E%3C/script%3E%0A%20%20%20%20%3Cscript%20src%3D%22https%3A//cdnjs.cloudflare.com/ajax/libs/Leaflet.awesome-markers/2.0.2/leaflet.awesome-markers.js%22%3E%3C/script%3E%0A%20%20%20%20%3Clink%20rel%3D%22stylesheet%22%20href%3D%22https%3A//cdn.jsdelivr.net/npm/leaflet%401.4.0/dist/leaflet.css%22/%3E%0A%20%20%20%20%3Clink%20rel%3D%22stylesheet%22%20href%3D%22https%3A//maxcdn.bootstrapcdn.com/bootstrap/3.2.0/css/bootstrap.min.css%22/%3E%0A%20%20%20%20%3Clink%20rel%3D%22stylesheet%22%20href%3D%22https%3A//maxcdn.bootstrapcdn.com/bootstrap/3.2.0/css/bootstrap-theme.min.css%22/%3E%0A%20%20%20%20%3Clink%20rel%3D%22stylesheet%22%20href%3D%22https%3A//maxcdn.bootstrapcdn.com/font-awesome/4.6.3/css/font-awesome.min.css%22/%3E%0A%20%20%20%20%3Clink%20rel%3D%22stylesheet%22%20href%3D%22https%3A//cdnjs.cloudflare.com/ajax/libs/Leaflet.awesome-markers/2.0.2/leaflet.awesome-markers.css%22/%3E%0A%20%20%20%20%3Clink%20rel%3D%22stylesheet%22%20href%3D%22https%3A//rawcdn.githack.com/python-visualization/folium/master/folium/templates/leaflet.awesome.rotate.css%22/%3E%0A%20%20%20%20%3Cstyle%3Ehtml%2C%20body%20%7Bwidth%3A%20100%25%3Bheight%3A%20100%25%3Bmargin%3A%200%3Bpadding%3A%200%3B%7D%3C/style%3E%0A%20%20%20%20%3Cstyle%3E%23map%20%7Bposition%3Aabsolute%3Btop%3A0%3Bbottom%3A0%3Bright%3A0%3Bleft%3A0%3B%7D%3C/style%3E%0A%20%20%20%20%0A%20%20%20%20%3Cmeta%20name%3D%22viewport%22%20content%3D%22width%3Ddevice-width%2C%0A%20%20%20%20%20%20%20%20initial-scale%3D1.0%2C%20maximum-scale%3D1.0%2C%20user-scalable%3Dno%22%20/%3E%0A%20%20%20%20%3Cstyle%3E%23map_4b5977721e1249fdbc084a1fc0212962%20%7B%0A%20%20%20%20%20%20%20%20position%3A%20relative%3B%0A%20%20%20%20%20%20%20%20width%3A%20100.0%25%3B%0A%20%20%20%20%20%20%20%20height%3A%20100.0%25%3B%0A%20%20%20%20%20%20%20%20left%3A%200.0%25%3B%0A%20%20%20%20%20%20%20%20top%3A%200.0%25%3B%0A%20%20%20%20%20%20%20%20%7D%0A%20%20%20%20%3C/style%3E%0A%20%20%20%20%3Cscript%20src%3D%22https%3A//leaflet.github.io/Leaflet.heat/dist/leaflet-heat.js%22%3E%3C/script%3E%0A%3C/head%3E%0A%3Cbody%3E%20%20%20%20%0A%20%20%20%20%0A%20%20%20%20%3Cdiv%20class%3D%22folium-map%22%20id%3D%22map_4b5977721e1249fdbc084a1fc0212962%22%20%3E%3C/div%3E%0A%3C/body%3E%0A%3Cscript%3E%20%20%20%20%0A%20%20%20%20%0A%20%20%20%20%0A%20%20%20%20%20%20%20%20var%20bounds%20%3D%20null%3B%0A%20%20%20%20%0A%0A%20%20%20%20var%20map_4b5977721e1249fdbc084a1fc0212962%20%3D%20L.map%28%0A%20%20%20%20%20%20%20%20%27map_4b5977721e1249fdbc084a1fc0212962%27%2C%20%7B%0A%20%20%20%20%20%20%20%20center%3A%20%5B0%2C%200%5D%2C%0A%20%20%20%20%20%20%20%20zoom%3A%201%2C%0A%20%20%20%20%20%20%20%20maxBounds%3A%20bounds%2C%0A%20%20%20%20%20%20%20%20layers%3A%20%5B%5D%2C%0A%20%20%20%20%20%20%20%20worldCopyJump%3A%20false%2C%0A%20%20%20%20%20%20%20%20crs%3A%20L.CRS.EPSG3857%2C%0A%20%20%20%20%20%20%20%20zoomControl%3A%20true%2C%0A%20%20%20%20%20%20%20%20%7D%29%3B%0A%0A%0A%20%20%20%20%0A%20%20%20%20var%20tile_layer_4ded25703d034945a6c488052f651cc7%20%3D%20L.tileLayer%28%0A%20%20%20%20%20%20%20%20%27https%3A//%7Bs%7D.tile.openstreetmap.org/%7Bz%7D/%7Bx%7D/%7By%7D.png%27%2C%0A%20%20%20%20%20%20%20%20%7B%0A%20%20%20%20%20%20%20%20%22attribution%22%3A%20null%2C%0A%20%20%20%20%20%20%20%20%22detectRetina%22%3A%20false%2C%0A%20%20%20%20%20%20%20%20%22maxNativeZoom%22%3A%2018%2C%0A%20%20%20%20%20%20%20%20%22maxZoom%22%3A%2018%2C%0A%20%20%20%20%20%20%20%20%22minZoom%22%3A%200%2C%0A%20%20%20%20%20%20%20%20%22noWrap%22%3A%20false%2C%0A%20%20%20%20%20%20%20%20%22opacity%22%3A%201%2C%0A%20%20%20%20%20%20%20%20%22subdomains%22%3A%20%22abc%22%2C%0A%20%20%20%20%20%20%20%20%22tms%22%3A%20false%0A%7D%29.addTo%28map_4b5977721e1249fdbc084a1fc0212962%29%3B%0A%20%20%20%20%0A%20%20%20%20%20%20%20%20%20%20%20%20var%20heat_map_8eac0d1f84e34cdb9123926af71f1a0e%20%3D%20L.heatLayer%28%0A%20%20%20%20%20%20%20%20%20%20%20%20%20%20%20%20%5B%5B38.920142%2C%20-77.219763%5D%2C%20%5B34.073856%2C%20-80.94749499999998%5D%2C%20%5B35.213989%2C%20-80.82425699999997%5D%2C%20%5B35.80292%2C%20-80.8997%5D%2C%20%5B40.640213%2C%20-112.288177%5D%2C%20%5B44.330507%2C%20-123.06129%5D%2C%20%5B35.29223599999999%2C%20-119.029392%5D%2C%20%5B41.903938%2C%20-88.04258%5D%2C%20%5B40.92901%2C%20-73.76706%5D%2C%20%5B37.324654%2C%20-121.88876299999998%5D%2C%20%5B33.825821000000005%2C%20-118.213501%5D%2C%20%5B36.19416%2C%20-86.796539%5D%2C%20%5B40.09586%2C%20-80.51916999999997%5D%2C%20%5B36.232697%2C%20-95.759148%5D%2C%20%5B37.459663%2C%20-121.924306%5D%2C%20%5B39.812984%2C%20-84.235268%5D%2C%20%5B34.792709%2C%20-86.577538%5D%2C%20%5B27.98163%2C%20-82.287616%5D%2C%20%5B34.333372%2C%20-81.083237%5D%2C%20%5B42.449001%2C%20-93.640152%5D%2C%20%5B33.872776%2C%20-118.290924%5D%2C%20%5B33.80632%2C%20-118.140579%5D%2C%20%5B29.630903000000004%2C%20-95.247482%5D%2C%20%5B35.27293%2C%20-80.885201%5D%2C%20%5B32.91773%2C%20-83.70576%5D%2C%20%5B38.93972%2C%20-94.56397%5D%2C%20%5B44.681389%2C%20-93.293282%5D%2C%20%5B33.7791%2C%20-117.888768%5D%2C%20%5B32.69625%2C%20-96.62957%5D%2C%20%5B35.202415%2C%20-80.86528%5D%2C%20%5B28.621923%2C%20-81.498749%5D%2C%20%5B34.587219%2C%20-117.826752%5D%2C%20%5B34.063914000000004%2C%20-117.269823%5D%2C%20%5B43.72774%2C%20-70.3035%5D%2C%20%5B32.67735%2C%20-97.05524%5D%2C%20%5B44.30588%2C%20-121.17288%5D%2C%20%5B28.703735%2C%20-81.38193000000003%5D%2C%20%5B39.016882%2C%20-122.91286200000002%5D%2C%20%5B38.967579%2C%20-104.741081%5D%2C%20%5B47.62991%2C%20-122.32711%5D%2C%20%5B33.632984%2C%20-84.401146%5D%2C%20%5B32.292497999999995%2C%20-81.5391%5D%2C%20%5B37.246384%2C%20-121.088875%5D%2C%20%5B35.504845%2C%20-97.512131%5D%2C%20%5B35.285625%2C%20-80.921524%5D%2C%20%5B30.435394%2C%20-88.83049%5D%2C%20%5B43.79641%2C%20-90.056725%5D%2C%20%5B26.271845000000006%2C%20-81.742775%5D%2C%20%5B33.33681%2C%20-111.72141%5D%2C%20%5B35.21183%2C%20-82.44501%5D%2C%20%5B40.281739%2C%20-76.819968%5D%2C%20%5B35.289032%2C%20-113.087196%5D%2C%20%5B37.44300000000001%2C%20-122.11668%5D%2C%20%5B37.581246%2C%20-122.325401%5D%2C%20%5B29.817286%2C%20-95.436032%5D%2C%20%5B30.466375%2C%20-91.105499%5D%2C%20%5B34.783894000000004%2C%20-82.37383299999998%5D%2C%20%5B33.763226%2C%20-118.026772%5D%2C%20%5B34.13905%2C%20-118.364456%5D%2C%20%5B35.214577%2C%20-80.85455300000002%5D%2C%20%5B35.468353%2C%20-97.501678%5D%2C%20%5B33.857311%2C%20-112.137596%5D%2C%20%5B42.935129%2C%20-85.683801%5D%2C%20%5B41.68407%2C%20-93.153494%5D%2C%20%5B34.441785%2C%20-119.805529%5D%2C%20%5B36.988354%2C%20-122.00326499999998%5D%2C%20%5B39.282259%2C%20-75.593287%5D%2C%20%5B30.457714000000006%2C%20-91.112755%5D%2C%20%5B45.63458%2C%20-108.91866%5D%2C%20%5B40.710919%2C%20-112.09181%5D%2C%20%5B33.87355%2C%20-118.21686%5D%2C%20%5B37.57371%2C%20-122.26222%5D%2C%20%5B41.78652%2C%20-88.07423%5D%2C%20%5B36.974804%2C%20-121.90296200000002%5D%2C%20%5B32.647597999999995%2C%20-96.954483%5D%2C%20%5B38.493649%2C%20-121.443283%5D%2C%20%5B40.128541%2C%20-75.214988%5D%2C%20%5B33.767639%2C%20-117.86731%5D%2C%20%5B40.679108%2C%20-74.278366%5D%2C%20%5B37.459663%2C%20-121.924306%5D%2C%20%5B28.545967%2C%20-81.505089%5D%2C%20%5B32.257629%2C%20-110.935303%5D%2C%20%5B36.073406%2C%20-86.6924%5D%2C%20%5B34.526125%2C%20-118.642971%5D%2C%20%5B37.76857%2C%20-122.220276%5D%2C%20%5B38.193444%2C%20-85.50849000000002%5D%2C%20%5B33.737194%2C%20-84.230675%5D%2C%20%5B35.23510800000001%2C%20-120.632526%5D%2C%20%5B45.191048%2C%20-93.545976%5D%2C%20%5B37.77455%2C%20-122.2318%5D%2C%20%5B33.64845%2C%20-117.91213%5D%2C%20%5B34.107822%2C%20-118.330768%5D%2C%20%5B42.041438%2C%20-121.870414%5D%2C%20%5B35.138561%2C%20-80.93544%5D%2C%20%5B42.94390900000001%2C%20-83.731796%5D%2C%20%5B31.65962%2C%20-106.239929%5D%2C%20%5B38.781914%2C%20-94.927345%5D%2C%20%5B45.06597%2C%20-93.28617%5D%2C%20%5B41.74668%2C%20-87.85446999999998%5D%2C%20%5B32.577847%2C%20-97.319511%5D%2C%20%5B33.948742%2C%20-117.300789%5D%2C%20%5B39.173458%2C%20-120.138327%5D%2C%20%5B28.425332%2C%20-81.422979%5D%2C%20%5B29.749786%2C%20-95.775009%5D%2C%20%5B42.49026%2C%20-123.36263999999998%5D%2C%20%5B42.475273%2C%20-83.145638%5D%2C%20%5B44.05307%2C%20-123.53346299999998%5D%2C%20%5B39.6234%2C%20-77.81169%5D%2C%20%5B35.304234%2C%20-96.947845%5D%2C%20%5B37.901215%2C%20-122.07019%5D%2C%20%5B33.668751%2C%20-112.112633%5D%2C%20%5B32.528408%2C%20-93.674248%5D%2C%20%5B40.74666%2C%20-73.73637%5D%2C%20%5B32.493120000000005%2C%20-93.75661%5D%2C%20%5B42.3238%2C%20-122.95053%5D%2C%20%5B34.07383%2C%20-117.471222%5D%2C%20%5B33.585026%2C%20-84.513145%5D%2C%20%5B38.476818%2C%20-121.506538%5D%2C%20%5B34.042975%2C%20-118.217073%5D%2C%20%5B39.759125%2C%20-104.827522%5D%2C%20%5B37.550844%2C%20-122.376%5D%2C%20%5B40.784605%2C%20-73.633635%5D%2C%20%5B34.642891%2C%20-80.075661%5D%2C%20%5B32.748135%2C%20-97.306801%5D%2C%20%5B45.126743%2C%20-93.485001%5D%2C%20%5B39.948391%2C%20-82.943558%5D%2C%20%5B40.70102%2C%20-73.49231%5D%2C%20%5B39.99968%2C%20-76.07106999999998%5D%2C%20%5B39.91167%2C%20-118.822846%5D%2C%20%5B39.296051%2C%20-76.824883%5D%2C%20%5B40.787411%2C%20-74.313354%5D%2C%20%5B44.89055%2C%20-93.299602%5D%2C%20%5B25.627895%2C%20-80.414635%5D%2C%20%5B36.140663%2C%20-86.737785%5D%2C%20%5B42.874718%2C%20-78.78817%5D%2C%20%5B32.792504%2C%20-96.682618%5D%2C%20%5B35.557968%2C%20-97.638351%5D%2C%20%5B34.166637%2C%20-80.973007%5D%2C%20%5B42.42880200000001%2C%20-71.01859300000002%5D%2C%20%5B28.44992%2C%20-81.479424%5D%2C%20%5B33.301466999999995%2C%20-117.468056%5D%2C%20%5B35.027283000000004%2C%20-85.36460100000002%5D%2C%20%5B39.827286%2C%20-84.892799%5D%2C%20%5B33.91356%2C%20-118.11097%5D%2C%20%5B33.500462%2C%20-112.108459%5D%2C%20%5B26.123688%2C%20-80.16951%5D%2C%20%5B45.570512%2C%20-122.550697%5D%2C%20%5B47.59453%2C%20-122.31781%5D%2C%20%5B33.97805%2C%20-81.194801%5D%2C%20%5B29.964245%2C%20-90.072601%5D%2C%20%5B25.650249%2C%20-80.365089%5D%2C%20%5B33.677309%2C%20-84.41278299999998%5D%2C%20%5B30.248978%2C%20-81.593239%5D%2C%20%5B39.831593%2C%20-84.958069%5D%2C%20%5B34.071785%2C%20-83.86174399999999%5D%2C%20%5B42.643017%2C%20-71.230721%5D%2C%20%5B38.576939%2C%20-121.46582%5D%2C%20%5B32.57188%2C%20-96.82268%5D%2C%20%5B32.664257%2C%20-97.33429%5D%2C%20%5B41.061243%2C%20-73.51020600000003%5D%2C%20%5B33.99527%2C%20-118.145088%5D%2C%20%5B47.40353%2C%20-122.2923%5D%2C%20%5B35.335232%2C%20-80.753609%5D%2C%20%5B34.502047999999995%2C%20-82.683823%5D%2C%20%5B33.91701%2C%20-118.033836%5D%2C%20%5B37.609816%2C%20-122.49372%5D%2C%20%5B39.746998%2C%20-122.150274%5D%2C%20%5B38.363716%2C%20-122.875298%5D%2C%20%5B43.885533%2C%20-70.337473%5D%2C%20%5B36.165801%2C%20-86.76427%5D%2C%20%5B43.03591%2C%20-87.91962%5D%2C%20%5B32.88543%2C%20-96.77022%5D%2C%20%5B34.054199%2C%20-118.004326%5D%2C%20%5B40.205311%2C%20-75.174423%5D%2C%20%5B29.66806%2C%20-95.332802%5D%2C%20%5B35.565693%2C%20-97.451241%5D%2C%20%5B30.157523%2C%20-97.764592%5D%2C%20%5B35.286541%2C%20-80.957809%5D%2C%20%5B41.139595%2C%20-95.893669%5D%2C%20%5B47.66867%2C%20-122.37622%5D%2C%20%5B40.48723%2C%20-111.89538%5D%2C%20%5B38.841492%2C%20-104.682793%5D%2C%20%5B35.435519%2C%20-117.670932%5D%2C%20%5B32.655196999999994%2C%20-96.75058%5D%2C%20%5B44.582305%2C%20-92.655285%5D%2C%20%5B42.161971%2C%20-123.478665%5D%2C%20%5B42.385212%2C%20-83.47841600000002%5D%2C%20%5B39.952812%2C%20-83.119293%5D%2C%20%5B44.99623%2C%20-121.48825%5D%2C%20%5B35.914207%2C%20-84.186836%5D%2C%20%5B42.019016%2C%20-87.74861899999998%5D%2C%20%5B47.462902%2C%20-122.265488%5D%2C%20%5B39.03845%2C%20-94.67954%5D%2C%20%5B38.67705%2C%20-90.44958%5D%2C%20%5B29.632143%2C%20-95.442463%5D%2C%20%5B34.029022%2C%20-117.57563%5D%2C%20%5B28.62561%2C%20-81.41503%5D%2C%20%5B34.02676%2C%20-118.430115%5D%2C%20%5B35.861947%2C%20-78.653779%5D%2C%20%5B38.25974%2C%20-77.32817299999998%5D%2C%20%5B30.2145%2C%20-92.021759%5D%2C%20%5B37.850998%2C%20-122.299454%5D%2C%20%5B40.0716%2C%20-75.34536%5D%2C%20%5B34.01541%2C%20-118.17078%5D%2C%20%5B38.345879%2C%20-85.754265%5D%2C%20%5B37.663361%2C%20-122.484718%5D%2C%20%5B36.191734%2C%20-86.777664%5D%2C%20%5B33.91706%2C%20-118.046656%5D%2C%20%5B32.773808%2C%20-96.796143%5D%2C%20%5B35.739399%2C%20-78.56868%5D%2C%20%5B33.7225%2C%20-84.463013%5D%2C%20%5B35.291759000000006%2C%20-80.728157%5D%2C%20%5B32.13375%2C%20-111.00301%5D%2C%20%5B25.687023%2C%20-80.31675%5D%2C%20%5B45.501605%2C%20-122.787719%5D%2C%20%5B35.235386%2C%20-80.84066800000002%5D%2C%20%5B43.66381%2C%20-94.73905%5D%2C%20%5B30.280809%2C%20-97.648018%5D%2C%20%5B26.26534%2C%20-80.12913%5D%2C%20%5B29.746082%2C%20-95.464218%5D%2C%20%5B36.199753%2C%20-86.619141%5D%2C%20%5B34.13606%2C%20-117.33544%5D%2C%20%5B42.4688%2C%20-82.91919%5D%2C%20%5B40.168193%2C%20-75.35045%5D%2C%20%5B39.754074%2C%20-75.275421%5D%2C%20%5B43.20862%2C%20-77.46099%5D%2C%20%5B34.12243%2C%20-93.09097%5D%2C%20%5B38.39953%2C%20-122.361376%5D%2C%20%5B42.858305%2C%20-71.922128%5D%2C%20%5B26.081308%2C%20-80.148163%5D%2C%20%5B33.89249%2C%20-84.26133%5D%2C%20%5B35.279090999999994%2C%20-80.814201%5D%2C%20%5B37.765909%2C%20-122.40523%5D%2C%20%5B44.964225%2C%20-92.984779%5D%2C%20%5B39.91339%2C%20-74.98252%5D%2C%20%5B33.758953000000005%2C%20-118.022%5D%2C%20%5B42.967384%2C%20-85.661865%5D%2C%20%5B31.776381%2C%20-106.26748700000002%5D%2C%20%5B32.869305%2C%20-96.669968%5D%2C%20%5B40.019101%2C%20-76.321256%5D%2C%20%5B43.314571%2C%20-75.371597%5D%2C%20%5B36.13678400000001%2C%20-86.72653199999998%5D%2C%20%5B30.21788%2C%20-97.750282%5D%2C%20%5B41.514809%2C%20-81.667709%5D%2C%20%5B34.072678%2C%20-117.787613%5D%2C%20%5B40.41523%2C%20-111.871422%5D%2C%20%5B35.51284000000001%2C%20-78.55634%5D%2C%20%5B34.139514%2C%20-117.245269%5D%2C%20%5B41.695314%2C%20-91.714693%5D%2C%20%5B40.669441%2C%20-73.93940699999997%5D%2C%20%5B27.95785%2C%20-82.35704%5D%2C%20%5B37.145508%2C%20-121.98497%5D%2C%20%5B44.952224%2C%20-93.096352%5D%2C%20%5B33.803018%2C%20-118.07496299999998%5D%2C%20%5B36.174389%2C%20-86.774162%5D%2C%20%5B40.921486%2C%20-111.890839%5D%2C%20%5B39.16127%2C%20-94.49667%5D%2C%20%5B41.23529%2C%20-73.04592%5D%2C%20%5B37.362747%2C%20-121.887878%5D%2C%20%5B41.847908%2C%20-91.667229%5D%2C%20%5B41.010691%2C%20-96.216356%5D%2C%20%5B41.04034%2C%20-73.58166%5D%2C%20%5B35.59465%2C%20-97.602959%5D%2C%20%5B40.63475%2C%20-111.897%5D%2C%20%5B40.730511%2C%20-74.085197%5D%2C%20%5B42.34154%2C%20-83.11692%5D%2C%20%5B34.11593%2C%20-118.26887%5D%2C%20%5B29.511721%2C%20-98.535202%5D%2C%20%5B37.78341%2C%20-121.246281%5D%2C%20%5B33.775438%2C%20-118.087717%5D%2C%20%5B28.023365%2C%20-82.709058%5D%2C%20%5B34.622677%2C%20-120.189278%5D%2C%20%5B35.36323%2C%20-80.845534%5D%2C%20%5B39.83336%2C%20-84.27319%5D%2C%20%5B33.850986%2C%20-117.814507%5D%2C%20%5B33.465328%2C%20-81.992661%5D%2C%20%5B34.06684%2C%20-117.453873%5D%2C%20%5B42.94462%2C%20-78.76643%5D%2C%20%5B39.94834%2C%20-76.71191%5D%2C%20%5B33.99706%2C%20-117.93119%5D%2C%20%5B42.655025%2C%20-73.69435899999998%5D%2C%20%5B33.449863%2C%20-112.341118%5D%2C%20%5B35.07477%2C%20-89.86099%5D%2C%20%5B47.375118%2C%20-111.581731%5D%2C%20%5B27.11454%2C%20-82.38951999999998%5D%2C%20%5B28.194315000000003%2C%20-82.525063%5D%2C%20%5B39.04708%2C%20-94.43899%5D%2C%20%5B34.872032%2C%20-82.224571%5D%2C%20%5B30.451031%2C%20-87.22692099999998%5D%2C%20%5B39.37993%2C%20-77.40793000000002%5D%2C%20%5B30.232998%2C%20-97.800766%5D%2C%20%5B38.878051%2C%20-104.835244%5D%2C%20%5B27.751181%2C%20-82.646606%5D%2C%20%5B47.80327%2C%20-117.21493%5D%2C%20%5B38.418268%2C%20-91.201516%5D%2C%20%5B38.654081%2C%20-121.066683%5D%2C%20%5B34.790844%2C%20-82.376717%5D%2C%20%5B37.72949000000001%2C%20-122.18649%5D%2C%20%5B37.628124%2C%20-122.121002%5D%2C%20%5B30.403763%2C%20-97.853981%5D%2C%20%5B44.972172%2C%20-93.251259%5D%2C%20%5B37.49267%2C%20-120.870621%5D%2C%20%5B35.088188%2C%20-82.321907%5D%2C%20%5B45.52313%2C%20-122.69226%5D%2C%20%5B30.442493%2C%20-91.102074%5D%2C%20%5B48.164219%2C%20-122.11869%5D%2C%20%5B37.83100200000001%2C%20-121.21764%5D%2C%20%5B40.03738%2C%20-74.242599%5D%2C%20%5B38.92223%2C%20-121.99785%5D%2C%20%5B45.689338%2C%20-120.49576100000002%5D%2C%20%5B34.155045%2C%20-118.310867%5D%2C%20%5B33.956245%2C%20-81.093246%5D%2C%20%5B34.11985%2C%20-117.998703%5D%2C%20%5B34.492123%2C%20-118.283791%5D%2C%20%5B34.027747999999995%2C%20-118.452553%5D%2C%20%5B41.756695%2C%20-88.031235%5D%2C%20%5B32.895969%2C%20-96.898048%5D%2C%20%5B35.48238%2C%20-97.503418%5D%2C%20%5B38.553088%2C%20-121.375116%5D%2C%20%5B40.563202%2C%20-89.653847%5D%2C%20%5B29.81395%2C%20-95.37916%5D%2C%20%5B38.915572%2C%20-77.00891%5D%2C%20%5B39.823807%2C%20-86.256165%5D%2C%20%5B35.173404999999995%2C%20-90.04370899999998%5D%2C%20%5B35.686138%2C%20-78.617538%5D%2C%20%5B32.079809999999995%2C%20-110.05548%5D%2C%20%5B29.418169%2C%20-98.348015%5D%2C%20%5B34.080172%2C%20-80.941929%5D%2C%20%5B26.30181%2C%20-80.25757%5D%2C%20%5B30.42847%2C%20-91.171342%5D%2C%20%5B35.104862%2C%20-80.953751%5D%2C%20%5B30.504784%2C%20-87.26715899999998%5D%2C%20%5B34.033321%2C%20-118.436829%5D%2C%20%5B41.903938%2C%20-88.04258%5D%2C%20%5B38.226929%2C%20-120.544113%5D%2C%20%5B28.553140000000006%2C%20-81.37689%5D%2C%20%5B36.07541%2C%20-86.729528%5D%2C%20%5B33.043506%2C%20-117.285901%5D%2C%20%5B35.005823%2C%20-80.96843299999998%5D%2C%20%5B38.02676%2C%20-121.935699%5D%2C%20%5B28.00238%2C%20-82.595467%5D%2C%20%5B32.412689%2C%20-90.148483%5D%2C%20%5B33.742538%2C%20-117.43782%5D%2C%20%5B37.44349%2C%20-77.5813%5D%2C%20%5B41.107468%2C%20-73.410492%5D%2C%20%5B41.847982%2C%20-87.97959499999997%5D%2C%20%5B47.37807100000001%2C%20-122.244492%5D%2C%20%5B25.7609%2C%20-80.39250200000002%5D%2C%20%5B37.511362%2C%20-121.937633%5D%2C%20%5B34.155743%2C%20-118.242271%5D%2C%20%5B34.257237%2C%20-118.588542%5D%2C%20%5B32.425579%2C%20-80.728394%5D%2C%20%5B30.407507%2C%20-91.101532%5D%2C%20%5B33.199189000000004%2C%20-117.370302%5D%2C%20%5B33.46213%2C%20-112.0592%5D%2C%20%5B29.256521000000006%2C%20-81.115707%5D%2C%20%5B30.23261%2C%20-97.81841%5D%2C%20%5B36.169609%2C%20-86.607208%5D%2C%20%5B32.88404%2C%20-117.22791%5D%2C%20%5B33.917041999999995%2C%20-118.079689%5D%2C%20%5B33.603975%2C%20-117.171503%5D%2C%20%5B39.148895%2C%20-77.216576%5D%2C%20%5B35.60930300000001%2C%20-97.567078%5D%2C%20%5B42.912819%2C%20-83.889977%5D%2C%20%5B34.020596999999995%2C%20-118.19389%5D%2C%20%5B39.767971%2C%20-84.158012%5D%2C%20%5B34.07785%2C%20-118.28494%5D%2C%20%5B25.899382%2C%20-80.323829%5D%2C%20%5B38.34497800000001%2C%20-85.777505%5D%2C%20%5B33.462795%2C%20-112.166458%5D%2C%20%5B41.800743%2C%20-71.402214%5D%2C%20%5B35.070763%2C%20-80.842628%5D%2C%20%5B34.931709000000005%2C%20-87.122742%5D%2C%20%5B42.03516%2C%20-88.311913%5D%2C%20%5B43.083767%2C%20-85.35244%5D%2C%20%5B33.815717%2C%20-118.20686200000002%5D%2C%20%5B25.706881%2C%20-80.317719%5D%2C%20%5B32.765324%2C%20-117.15376299999998%5D%2C%20%5B45.533701%2C%20-122.57905%5D%2C%20%5B37.35059%2C%20-122.10495%5D%2C%20%5B36.938489%2C%20-121.74165%5D%2C%20%5B34.20126%2C%20-118.473587%5D%2C%20%5B40.678795%2C%20-75.340752%5D%2C%20%5B26.07297%2C%20-80.16705300000002%5D%2C%20%5B39.915077%2C%20-76.683868%5D%2C%20%5B37.31006%2C%20-77.392309%5D%2C%20%5B38.58496%2C%20-90.44863%5D%2C%20%5B29.766241%2C%20-95.366629%5D%2C%20%5B40.88813%2C%20-123.6045%5D%2C%20%5B34.032722%2C%20-118.222252%5D%2C%20%5B39.364362%2C%20-94.374359%5D%2C%20%5B36.748959%2C%20-119.776073%5D%2C%20%5B34.203819%2C%20-80.655344%5D%2C%20%5B37.94175300000001%2C%20-121.230492%5D%2C%20%5B43.053658%2C%20-76.170547%5D%2C%20%5B40.074831%2C%20-75.159563%5D%2C%20%5B29.441639%2C%20-98.438278%5D%2C%20%5B34.040574%2C%20-118.170194%5D%2C%20%5B43.070274%2C%20-70.763626%5D%2C%20%5B42.4856%2C%20-83.267296%5D%2C%20%5B30.370202000000006%2C%20-97.688391%5D%2C%20%5B34.956881%2C%20-120.508447%5D%2C%20%5B37.634539%2C%20-122.086396%5D%2C%20%5B45.51597%2C%20-122.6991%5D%2C%20%5B36.79089000000001%2C%20-119.78423%5D%2C%20%5B25.91016%2C%20-80.167252%5D%2C%20%5B29.77743%2C%20-95.83492%5D%2C%20%5B39.797749%2C%20-86.132111%5D%2C%20%5B35.249161%2C%20-80.769409%5D%2C%20%5B25.898541%2C%20-80.203188%5D%2C%20%5B33.836737%2C%20-118.207984%5D%2C%20%5B40.171719%2C%20-82.934471%5D%2C%20%5B33.928146000000005%2C%20-118.239166%5D%2C%20%5B35.232147%2C%20-80.902054%5D%2C%20%5B43.619526%2C%20-116.352582%5D%2C%20%5B41.846739%2C%20-87.956329%5D%2C%20%5B35.840229%2C%20-78.653526%5D%2C%20%5B29.764797%2C%20-95.361298%5D%2C%20%5B33.41763%2C%20-111.89117%5D%2C%20%5B38.859943%2C%20-77.357559%5D%2C%20%5B42.42756%2C%20-82.9265%5D%2C%20%5B36.17693%2C%20-95.9756%5D%2C%20%5B28.43389%2C%20-81.40538000000002%5D%2C%20%5B35.390846%2C%20-97.424759%5D%2C%20%5B44.67062%2C%20-93.639542%5D%2C%20%5B45.59757800000001%2C%20-122.684408%5D%2C%20%5B37.600129%2C%20-122.37686399999998%5D%2C%20%5B34.475083000000005%2C%20-78.049832%5D%2C%20%5B45.4435%2C%20-93.58428%5D%2C%20%5B42.567326%2C%20-87.952614%5D%2C%20%5B47.996071%2C%20-122.176254%5D%2C%20%5B36.110222%2C%20-95.889786%5D%2C%20%5B41.680336%2C%20-93.576591%5D%2C%20%5B33.795262%2C%20-117.500118%5D%2C%20%5B25.78912%2C%20-80.20739%5D%2C%20%5B33.873699%2C%20-118.244169%5D%2C%20%5B36.06086%2C%20-95.850975%5D%2C%20%5B30.215352000000006%2C%20-81.760865%5D%2C%20%5B30.390152%2C%20-87.065107%5D%2C%20%5B42.487625%2C%20-83.221863%5D%2C%20%5B32.729538%2C%20-97.503761%5D%2C%20%5B44.979555%2C%20-93.459899%5D%2C%20%5B34.006924%2C%20-117.066765%5D%2C%20%5B45.23877%2C%20-123.061326%5D%2C%20%5B33.757511%2C%20-117.25731100000002%5D%2C%20%5B41.686495%2C%20-91.4934%5D%2C%20%5B38.032673%2C%20-78.859993%5D%2C%20%5B38.610785%2C%20-121.41526299999998%5D%2C%20%5B41.485599%2C%20-73.46441999999998%5D%2C%20%5B40.246368%2C%20-75.647369%5D%2C%20%5B34.74669%2C%20-92.394081%5D%2C%20%5B34.032001%2C%20-118.43518600000002%5D%2C%20%5B36.78738%2C%20-76.40234%5D%2C%20%5B32.861191%2C%20-96.901817%5D%2C%20%5B25.653993%2C%20-80.32952%5D%2C%20%5B40.394576%2C%20-74.10328%5D%2C%20%5B38.634048%2C%20-121.382927%5D%2C%20%5B37.41671%2C%20-122.21193999999998%5D%2C%20%5B37.286325%2C%20-77.411567%5D%2C%20%5B42.367841%2C%20-87.895077%5D%2C%20%5B36.152142%2C%20-86.84346%5D%2C%20%5B26.198648%2C%20-81.712276%5D%2C%20%5B44.347854%2C%20-117.28861100000002%5D%2C%20%5B38.22054%2C%20-122.1325%5D%2C%20%5B40.14653%2C%20-82.919792%5D%2C%20%5B28.440689000000006%2C%20-81.40361%5D%2C%20%5B29.899366%2C%20-95.412277%5D%2C%20%5B33.349445%2C%20-111.885559%5D%2C%20%5B29.404081%2C%20-98.550764%5D%2C%20%5B35.85461%2C%20-78.657753%5D%2C%20%5B34.091035%2C%20-118.475829%5D%2C%20%5B39.77462%2C%20-104.85187%5D%2C%20%5B38.881348%2C%20-77.234016%5D%2C%20%5B33.916458%2C%20-118.370323%5D%2C%20%5B28.197373%2C%20-81.706324%5D%2C%20%5B34.237109999999994%2C%20-118.41411399999998%5D%2C%20%5B28.631502%2C%20-81.38758100000003%5D%2C%20%5B33.926354%2C%20-117.556254%5D%2C%20%5B39.21762%2C%20-84.44953000000002%5D%2C%20%5B30.215314000000006%2C%20-97.751816%5D%2C%20%5B34.052966999999995%2C%20-118.164314%5D%2C%20%5B35.77993400000001%2C%20-78.613457%5D%2C%20%5B34.18865%2C%20-83.5903%5D%2C%20%5B35.099495000000005%2C%20-80.989006%5D%2C%20%5B38.13792%2C%20-85.67509%5D%2C%20%5B33.860455%2C%20-118.037743%5D%2C%20%5B31.782116%2C%20-106.23386399999998%5D%2C%20%5B32.909554%2C%20-96.829628%5D%2C%20%5B32.745495%2C%20-117.188728%5D%2C%20%5B41.991867%2C%20-88.144814%5D%2C%20%5B40.834003%2C%20-73.86281600000002%5D%2C%20%5B28.526672%2C%20-82.411346%5D%2C%20%5B41.573868%2C%20-87.48028599999998%5D%2C%20%5B32.767017%2C%20-96.82278%5D%2C%20%5B41.577381%2C%20-81.549591%5D%2C%20%5B38.55043%2C%20-121.47405%5D%2C%20%5B32.69050900000001%2C%20-96.780153%5D%2C%20%5B37.523842%2C%20-77.32852199999998%5D%2C%20%5B34.226845000000004%2C%20-118.244293%5D%2C%20%5B33.194085%2C%20-117.259064%5D%2C%20%5B36.99832%2C%20-76.40907%5D%2C%20%5B37.53453%2C%20-77.44695%5D%2C%20%5B33.59707%2C%20-111.99583%5D%2C%20%5B35.57103%2C%20-78.345329%5D%2C%20%5B35.806381%2C%20-78.616196%5D%2C%20%5B40.527144%2C%20-74.221153%5D%2C%20%5B30.32216%2C%20-85.65989%5D%2C%20%5B41.467648%2C%20-81.758057%5D%2C%20%5B37.533867%2C%20-77.429893%5D%2C%20%5B29.689784000000003%2C%20-95.502796%5D%2C%20%5B34.590561%2C%20-87.029549%5D%2C%20%5B30.628183%2C%20-90.987547%5D%2C%20%5B33.92852%2C%20-118.239164%5D%2C%20%5B42.20647%2C%20-121.72269%5D%2C%20%5B29.39961%2C%20-98.48032%5D%2C%20%5B38.011635%2C%20-121.329773%5D%2C%20%5B30.22423%2C%20-97.49102%5D%2C%20%5B44.0381%2C%20-121.30885%5D%2C%20%5B34.104229%2C%20-118.322487%5D%2C%20%5B38.846252%2C%20-104.720589%5D%2C%20%5B40.68725%2C%20-73.61726%5D%2C%20%5B34.011051%2C%20-117.733177%5D%2C%20%5B35.449238%2C%20-97.570656%5D%2C%20%5B25.963739%2C%20-80.147743%5D%2C%20%5B33.859282%2C%20-118.290432%5D%2C%20%5B33.86315%2C%20-118.04432%5D%2C%20%5B34.338621%2C%20-118.507292%5D%2C%20%5B32.779575%2C%20-117.137436%5D%2C%20%5B38.799824%2C%20-77.05145999999998%5D%2C%20%5B30.405272%2C%20-97.715858%5D%2C%20%5B30.410982%2C%20-91.105939%5D%2C%20%5B40.15905%2C%20-74.42063%5D%2C%20%5B41.673085%2C%20-87.76603100000001%5D%2C%20%5B35.83540700000001%2C%20-78.669601%5D%2C%20%5B33.492088%2C%20-117.661697%5D%2C%20%5B32.174574%2C%20-82.280265%5D%2C%20%5B33.958858%2C%20-117.858871%5D%2C%20%5B34.521099%2C%20-117.988121%5D%2C%20%5B25.963023%2C%20-80.166127%5D%2C%20%5B28.21265%2C%20-80.61081999999998%5D%2C%20%5B34.084419%2C%20-79.84877%5D%2C%20%5B35.014561%2C%20-85.273163%5D%2C%20%5B39.160259%2C%20-77.537323%5D%2C%20%5B35.912502%2C%20-78.781921%5D%2C%20%5B27.964956%2C%20-82.407692%5D%2C%20%5B30.321308%2C%20-97.756119%5D%2C%20%5B39.771919%2C%20-104.82637%5D%2C%20%5B36.15419%2C%20-86.758759%5D%2C%20%5B32.671009000000005%2C%20-96.947784%5D%2C%20%5B35.658379%2C%20-79.31495699999998%5D%2C%20%5B35.16666%2C%20-80.79464%5D%2C%20%5B42.37351%2C%20-83.05986%5D%2C%20%5B33.857929%2C%20-84.381378%5D%2C%20%5B33.845721000000005%2C%20-117.958986%5D%2C%20%5B30.45257%2C%20-84.24863%5D%2C%20%5B34.048019000000004%2C%20-117.549843%5D%2C%20%5B38.100368%2C%20-120.589294%5D%2C%20%5B34.121706%2C%20-117.90755%5D%2C%20%5B26.122181%2C%20-80.15049%5D%2C%20%5B40.221554%2C%20-74.73465%5D%2C%20%5B44.59011%2C%20-93.29783%5D%2C%20%5B30.241329%2C%20-92.18821%5D%2C%20%5B28.534554%2C%20-81.528992%5D%2C%20%5B40.13290900000001%2C%20-85.546561%5D%2C%20%5B39.412994%2C%20-104.868248%5D%2C%20%5B34.432285%2C%20-118.382378%5D%2C%20%5B41.12752%2C%20-112.02555%5D%2C%20%5B34.336586%2C%20-118.511986%5D%2C%20%5B32.953468%2C%20-96.910583%5D%2C%20%5B33.92477%2C%20-118.10397%5D%2C%20%5B47.71056%2C%20-116.8952%5D%2C%20%5B37.25724500000001%2C%20-121.796525%5D%2C%20%5B39.16650900000001%2C%20-76.64608%5D%2C%20%5B36.70575%2C%20-119.97005%5D%2C%20%5B42.493488%2C%20-83.295723%5D%2C%20%5B33.412163%2C%20-86.80587%5D%2C%20%5B34.627941%2C%20-83.05699200000002%5D%2C%20%5B34.133717%2C%20-117.383575%5D%2C%20%5B34.120709999999995%2C%20-117.74037%5D%2C%20%5B41.020385%2C%20-120.852409%5D%2C%20%5B25.99493%2C%20-80.234619%5D%2C%20%5B40.710247%2C%20-73.820999%5D%2C%20%5B39.93162%2C%20-76.68831999999998%5D%2C%20%5B29.76319%2C%20-95.45555%5D%2C%20%5B41.80906%2C%20-88.05488000000003%5D%2C%20%5B32.9069%2C%20-96.72828%5D%2C%20%5B34.26342%2C%20-82.226158%5D%2C%20%5B39.400864%2C%20-122.010658%5D%2C%20%5B35.508244%2C%20-97.51474%5D%2C%20%5B37.74219%2C%20-121.52587%5D%2C%20%5B34.03207800000001%2C%20-118.149994%5D%2C%20%5B37.55941%2C%20-77.4426%5D%2C%20%5B40.938671%2C%20-111.410477%5D%2C%20%5B33.75412%2C%20-84.37841999999998%5D%2C%20%5B34.948212%2C%20-82.240402%5D%2C%20%5B29.79735%2C%20-95.569885%5D%2C%20%5B34.107921000000005%2C%20-80.95063499999998%5D%2C%20%5B40.737156%2C%20-74.075287%5D%2C%20%5B41.746601%2C%20-88.030922%5D%2C%20%5B36.923235%2C%20-119.793967%5D%2C%20%5B27.225683%2C%20-82.493134%5D%2C%20%5B42.232635%2C%20-87.85508%5D%2C%20%5B44.77675%2C%20-93.27857%5D%2C%20%5B45.49078%2C%20-122.67481%5D%2C%20%5B25.763838%2C%20-80.391871%5D%2C%20%5B38.325085%2C%20-121.327065%5D%2C%20%5B38.842325%2C%20-76.948837%5D%2C%20%5B40.672566%2C%20-73.506169%5D%2C%20%5B41.880772%2C%20-87.723213%5D%2C%20%5B25.805096%2C%20-80.20596%5D%2C%20%5B37.89969%2C%20-122.51606%5D%2C%20%5B28.9989%2C%20-81.30248%5D%2C%20%5B34.091567%2C%20-118.258361%5D%2C%20%5B45.123981%2C%20-93.335823%5D%2C%20%5B27.821878%2C%20-82.38205699999997%5D%2C%20%5B30.725689000000006%2C%20-86.567825%5D%2C%20%5B35.074963000000004%2C%20-89.86173199999998%5D%2C%20%5B34.178582%2C%20-80.46464499999998%5D%2C%20%5B28.909161%2C%20-82.03701%5D%2C%20%5B41.717091%2C%20-71.47333499999998%5D%2C%20%5B34.154282%2C%20-118.379593%5D%2C%20%5B46.755012%2C%20-92.104858%5D%2C%20%5B36.141939%2C%20-86.785536%5D%2C%20%5B45.30362%2C%20-93.79562%5D%2C%20%5B32.642094%2C%20-96.823135%5D%2C%20%5B39.823174%2C%20-104.968567%5D%2C%20%5B33.349751%2C%20-111.831009%5D%2C%20%5B37.34457800000001%2C%20-121.84502%5D%2C%20%5B34.018745%2C%20-81.222397%5D%2C%20%5B39.74944%2C%20-84.25314%5D%2C%20%5B34.886608%2C%20-82.302628%5D%2C%20%5B25.746246%2C%20-80.220377%5D%2C%20%5B28.873426%2C%20-82.092247%5D%2C%20%5B33.743196000000005%2C%20-117.12781%5D%2C%20%5B35.727184%2C%20-78.85414899999998%5D%2C%20%5B33.5378%2C%20-80.904587%5D%2C%20%5B34.228882%2C%20-117.772163%5D%2C%20%5B26.687571%2C%20-80.054443%5D%2C%20%5B33.592937%2C%20-83.62996700000002%5D%2C%20%5B35.306438%2C%20-80.691223%5D%2C%20%5B32.72432%2C%20-96.76198%5D%2C%20%5B31.985917%2C%20-81.217561%5D%2C%20%5B38.728592%2C%20-121.286331%5D%2C%20%5B37.18803%2C%20-93.48218%5D%2C%20%5B37.967815%2C%20-120.378368%5D%2C%20%5B32.751596%2C%20-117.155884%5D%2C%20%5B40.88276%2C%20-73.10698000000002%5D%2C%20%5B35.49328%2C%20-97.61906%5D%2C%20%5B33.880032%2C%20-117.605278%5D%2C%20%5B33.982620000000004%2C%20-80.965698%5D%2C%20%5B32.676205%2C%20-97.177437%5D%2C%20%5B37.30212%2C%20-120.596916%5D%2C%20%5B38.641327%2C%20-121.471458%5D%2C%20%5B35.559196%2C%20-82.63855%5D%2C%20%5B34.017426%2C%20-118.173958%5D%2C%20%5B34.173641%2C%20-118.553467%5D%2C%20%5B29.704367%2C%20-95.560211%5D%2C%20%5B34.14452%2C%20-117.250473%5D%2C%20%5B38.56154%2C%20-121.35833999999998%5D%2C%20%5B35.429676%2C%20-80.87451899999998%5D%2C%20%5B28.76341%2C%20-81.27156%5D%2C%20%5B43.157135%2C%20-75.286186%5D%2C%20%5B43.109904%2C%20-70.74086199999998%5D%2C%20%5B43.08577%2C%20-83.70642099999998%5D%2C%20%5B35.50779%2C%20-97.601189%5D%2C%20%5B40.80567%2C%20-73.92144%5D%2C%20%5B29.984869%2C%20-95.30858%5D%2C%20%5B40.0715%2C%20-75.34525%5D%2C%20%5B37.62732800000001%2C%20-120.997011%5D%2C%20%5B40.944944%2C%20-72.88123399999998%5D%2C%20%5B25.732294%2C%20-80.31501800000002%5D%2C%20%5B45.54828%2C%20-122.6616%5D%2C%20%5B39.766998%2C%20-84.215158%5D%2C%20%5B45.58533%2C%20-122.67978%5D%2C%20%5B39.39029%2C%20-76.77996%5D%2C%20%5B32.75269%2C%20-96.61593%5D%2C%20%5B34.14555900000001%2C%20-118.026609%5D%2C%20%5B35.573505%2C%20-85.154686%5D%2C%20%5B45.09457%2C%20-93.40248%5D%2C%20%5B27.358179%2C%20-82.542839%5D%2C%20%5B43.104321%2C%20-89.282249%5D%2C%20%5B37.70459%2C%20-121.73462%5D%2C%20%5B35.522308%2C%20-97.592331%5D%2C%20%5B38.80135%2C%20-77.519897%5D%2C%20%5B34.105869%2C%20-118.327057%5D%2C%20%5B29.777298%2C%20-95.272102%5D%2C%20%5B43.014622%2C%20-83.517548%5D%2C%20%5B34.046958000000004%2C%20-118.446773%5D%2C%20%5B42.753929%2C%20-73.93363199999997%5D%2C%20%5B40.77702%2C%20-73.252563%5D%2C%20%5B32.616795%2C%20-85.401299%5D%2C%20%5B34.935699%2C%20-82.001648%5D%2C%20%5B40.203527%2C%20-77.15745600000002%5D%2C%20%5B41.98098%2C%20-91.66813%5D%2C%20%5B29.901940000000003%2C%20-95.41219%5D%2C%20%5B37.617611%2C%20-122.398697%5D%2C%20%5B39.053586%2C%20-95.76271%5D%2C%20%5B31.739649%2C%20-106.32489%5D%2C%20%5B39.881149%2C%20-75.00988000000002%5D%2C%20%5B25.771557%2C%20-80.19695300000002%5D%2C%20%5B39.018967%2C%20-77.482384%5D%2C%20%5B27.87908%2C%20-82.67555%5D%2C%20%5B39.5786%2C%20-104.87571%5D%2C%20%5B39.983898%2C%20-76.683578%5D%2C%20%5B42.306061%2C%20-88.004333%5D%2C%20%5B42.09873%2C%20-75.91459%5D%2C%20%5B38.775425%2C%20-120.459521%5D%2C%20%5B30.348798%2C%20-97.619692%5D%2C%20%5B30.207193%2C%20-97.815407%5D%2C%20%5B38.210932%2C%20-122.137724%5D%2C%20%5B48.735193%2C%20-118.132084%5D%2C%20%5B32.858463%2C%20-113.212929%5D%2C%20%5B29.337078%2C%20-98.422478%5D%2C%20%5B40.938431%2C%20-74.071297%5D%2C%20%5B29.684587%2C%20-95.513077%5D%2C%20%5B34.099087%2C%20-80.85556%5D%2C%20%5B40.641851%2C%20-124.209232%5D%2C%20%5B34.073856%2C%20-80.94749499999998%5D%2C%20%5B38.88366%2C%20-77.22654%5D%2C%20%5B33.768007%2C%20-117.86768%5D%2C%20%5B41.40005%2C%20-81.50775%5D%2C%20%5B39.396413%2C%20-76.92211999999998%5D%2C%20%5B36.2267%2C%20-86.776123%5D%2C%20%5B47.222281%2C%20-122.46336%5D%2C%20%5B38.353054%2C%20-122.331436%5D%2C%20%5B33.46595%2C%20-111.843277%5D%2C%20%5B40.081715%2C%20-82.89576%5D%2C%20%5B30.411119%2C%20-91.051514%5D%2C%20%5B36.966522%2C%20-76.29454%5D%2C%20%5B44.64339%2C%20-118.44364%5D%2C%20%5B34.068443%2C%20-117.973114%5D%2C%20%5B47.580109%2C%20-122.160385%5D%2C%20%5B38.525612%2C%20-121.521439%5D%2C%20%5B28.087864%2C%20-82.452913%5D%2C%20%5B34.13538%2C%20-117.990765%5D%2C%20%5B34.182926%2C%20-118.159668%5D%2C%20%5B32.729088%2C%20-117.10614%5D%2C%20%5B41.264126%2C%20-73.68420400000002%5D%2C%20%5B25.739346%2C%20-80.319725%5D%2C%20%5B33.195824%2C%20-80.60483599999998%5D%2C%20%5B47.611311%2C%20-122.340019%5D%2C%20%5B37.031982%2C%20-76.37853199999998%5D%2C%20%5B42.00539000000001%2C%20-88.144722%5D%2C%20%5B40.768343%2C%20-73.905984%5D%2C%20%5B30.223319%2C%20-97.699749%5D%2C%20%5B34.303253000000005%2C%20-118.479771%5D%2C%20%5B36.049957%2C%20-86.649284%5D%2C%20%5B35.212128%2C%20-80.762726%5D%2C%20%5B33.657001%2C%20-84.497742%5D%2C%20%5B37.68475%2C%20-77.45229300000003%5D%2C%20%5B32.742424%2C%20-96.755372%5D%2C%20%5B45.237113%2C%20-93.647968%5D%2C%20%5B33.508644%2C%20-86.791031%5D%2C%20%5B30.683075%2C%20-88.225555%5D%2C%20%5B43.077106%2C%20-70.757492%5D%2C%20%5B29.8346%2C%20-95.38534%5D%2C%20%5B37.76982%2C%20-122.22086000000002%5D%2C%20%5B34.078674%2C%20-118.227844%5D%2C%20%5B27.29997%2C%20-82.497632%5D%2C%20%5B33.68821%2C%20-117.91469%5D%2C%20%5B28.538391%2C%20-81.351845%5D%2C%20%5B37.651199%2C%20-121.664948%5D%2C%20%5B33.771091%2C%20-84.35946700000002%5D%2C%20%5B35.26025100000001%2C%20-80.79509399999998%5D%2C%20%5B34.051362%2C%20-118.006079%5D%2C%20%5B39.72142%2C%20-75.53872%5D%2C%20%5B40.01548%2C%20-74.95494000000002%5D%2C%20%5B37.489155%2C%20-121.943764%5D%2C%20%5B34.160152000000004%2C%20-118.469607%5D%2C%20%5B30.194343%2C%20-81.733564%5D%2C%20%5B39.265354%2C%20-76.543549%5D%2C%20%5B29.724693%2C%20-95.412804%5D%2C%20%5B38.630015%2C%20-121.401516%5D%2C%20%5B47.531269%2C%20-122.197189%5D%2C%20%5B29.7383%2C%20-95.45853%5D%2C%20%5B45.526951%2C%20-123.61058%5D%2C%20%5B30.460192%2C%20-91.008331%5D%2C%20%5B28.578917%2C%20-81.308701%5D%2C%20%5B34.961921000000004%2C%20-85.170123%5D%2C%20%5B33.85422%2C%20-117.9463%5D%2C%20%5B37.728617%2C%20-121.944331%5D%2C%20%5B41.4931%2C%20-72.80712%5D%2C%20%5B42.65073%2C%20-73.61012%5D%2C%20%5B40.728523%2C%20-73.884293%5D%2C%20%5B30.171221000000006%2C%20-91.979889%5D%2C%20%5B37.337631%2C%20-121.897857%5D%2C%20%5B41.05666%2C%20-73.835388%5D%2C%20%5B39.939796%2C%20-76.873772%5D%2C%20%5B41.3125%2C%20-81.897018%5D%2C%20%5B47.795017%2C%20-122.214378%5D%2C%20%5B44.5536%2C%20-117.42426%5D%2C%20%5B30.320409%2C%20-81.681579%5D%2C%20%5B37.21337%2C%20-121.72654%5D%2C%20%5B42.346634%2C%20-83.109436%5D%2C%20%5B25.84082%2C%20-80.245637%5D%2C%20%5B34.19206%2C%20-118.474384%5D%2C%20%5B30.052288%2C%20-95.431602%5D%2C%20%5B32.7882%2C%20-96.579681%5D%2C%20%5B39.07892%2C%20-94.53871%5D%2C%20%5B39.596496%2C%20-77.730413%5D%2C%20%5B37.31691%2C%20-121.9478%5D%2C%20%5B34.132633%2C%20-117.302655%5D%2C%20%5B39.10539%2C%20-94.75563%5D%2C%20%5B35.832581%2C%20-78.61749300000002%5D%2C%20%5B27.03495%2C%20-82.05815%5D%2C%20%5B28.513405%2C%20-81.3937%5D%2C%20%5B35.19432800000001%2C%20-80.804123%5D%2C%20%5B33.072884%2C%20-80.92465200000002%5D%2C%20%5B41.87534%2C%20-87.70106%5D%2C%20%5B34.568802000000005%2C%20-82.03384399999999%5D%2C%20%5B25.915338%2C%20-80.210138%5D%2C%20%5B33.85981%2C%20-118.30961%5D%2C%20%5B33.581928000000005%2C%20-112.151543%5D%2C%20%5B42.944027%2C%20-83.724098%5D%2C%20%5B28.576708%2C%20-81.207787%5D%2C%20%5B30.458175%2C%20-97.468404%5D%2C%20%5B41.75284%2C%20-71.43878000000002%5D%2C%20%5B39.023808%2C%20-84.48075899999998%5D%2C%20%5B43.617922%2C%20-116.249417%5D%2C%20%5B40.05239%2C%20-75.52734%5D%2C%20%5B35.032921%2C%20-80.96987299999998%5D%2C%20%5B41.078071%2C%20-73.92138100000003%5D%2C%20%5B44.96553400000001%2C%20-93.268105%5D%2C%20%5B32.936863%2C%20-117.11158%5D%2C%20%5B32.780807%2C%20-117.091141%5D%2C%20%5B36.131748%2C%20-86.629059%5D%2C%20%5B33.646584000000004%2C%20-117.742806%5D%2C%20%5B38.013554%2C%20-121.997269%5D%2C%20%5B28.025340000000003%2C%20-82.50508%5D%2C%20%5B34.030506%2C%20-81.096161%5D%2C%20%5B34.12393%2C%20-117.91351%5D%2C%20%5B37.31649%2C%20-121.9673%5D%2C%20%5B39.819824%2C%20-104.959221%5D%2C%20%5B34.08724%2C%20-117.65454%5D%2C%20%5B32.394474%2C%20-80.685783%5D%2C%20%5B44.971348%2C%20-93.460548%5D%2C%20%5B42.036491%2C%20-88.287247%5D%2C%20%5B29.817623%2C%20-95.328751%5D%2C%20%5B35.189017%2C%20-85.189887%5D%2C%20%5B34.06453%2C%20-118.00345%5D%2C%20%5B26.093438%2C%20-80.224933%5D%2C%20%5B41.136505%2C%20-73.291199%5D%2C%20%5B25.733028%2C%20-80.318649%5D%2C%20%5B32.759766%2C%20-97.215096%5D%2C%20%5B34.035095%2C%20-118.333626%5D%2C%20%5B33.873602000000005%2C%20-118.214423%5D%2C%20%5B38.241432%2C%20-122.268944%5D%2C%20%5B32.673267%2C%20-96.595131%5D%2C%20%5B32.919743%2C%20-96.417831%5D%2C%20%5B36.984337%2C%20-121.383941%5D%2C%20%5B37.892591%2C%20-122.159524%5D%2C%20%5B45.309605%2C%20-121.649852%5D%2C%20%5B32.806866%2C%20-96.840675%5D%2C%20%5B34.06898%2C%20-118.21689%5D%2C%20%5B34.935482%2C%20-82.004921%5D%2C%20%5B30.326077%2C%20-97.692307%5D%2C%20%5B30.393864%2C%20-88.665162%5D%2C%20%5B35.814922%2C%20-78.605362%5D%2C%20%5B38.804179%2C%20-77.212749%5D%2C%20%5B38.553822%2C%20-121.409431%5D%2C%20%5B33.797798%2C%20-80.959938%5D%2C%20%5B47.58755%2C%20-122.32023%5D%2C%20%5B47.042332%2C%20-122.968353%5D%2C%20%5B40.68689000000001%2C%20-73.614586%5D%2C%20%5B47.469521%2C%20-122.22538%5D%2C%20%5B40.72633%2C%20-73.756737%5D%2C%20%5B34.71688%2C%20-81.0321%5D%2C%20%5B36.03504%2C%20-115.35785%5D%2C%20%5B32.745037%2C%20-96.727097%5D%2C%20%5B32.46076%2C%20-97.26358%5D%2C%20%5B40.436966%2C%20-75.425285%5D%2C%20%5B38.334099%2C%20-122.712746%5D%2C%20%5B40.837975%2C%20-73.18079399999998%5D%2C%20%5B45.30534%2C%20-121.81617%5D%2C%20%5B34.031040000000004%2C%20-118.390388%5D%2C%20%5B34.989501000000004%2C%20-81.974735%5D%2C%20%5B44.713962%2C%20-122.72868%5D%2C%20%5B34.071014%2C%20-80.945595%5D%2C%20%5B35.27535200000001%2C%20-80.772888%5D%2C%20%5B39.263931%2C%20-76.568497%5D%2C%20%5B47.62472%2C%20-122.33585%5D%2C%20%5B33.913244%2C%20-118.140574%5D%2C%20%5B33.52003%2C%20-112.11222%5D%2C%20%5B33.916416%2C%20-118.269577%5D%2C%20%5B36.095953%2C%20-80.007986%5D%2C%20%5B40.368958%2C%20-111.91639%5D%2C%20%5B40.082397%2C%20-82.906921%5D%2C%20%5B36.038429%2C%20-86.71299%5D%2C%20%5B33.87362%2C%20-118.2426%5D%2C%20%5B44.217449%2C%20-94.027572%5D%2C%20%5B40.11480200000001%2C%20-75.34959599999998%5D%2C%20%5B36.959692%2C%20-81.06125899999998%5D%2C%20%5B42.496212%2C%20-83.358414%5D%2C%20%5B36.240673%2C%20-86.751869%5D%2C%20%5B41.139423%2C%20-112.06445%5D%2C%20%5B35.034916%2C%20-120.482407%5D%2C%20%5B38.933304%2C%20-78.477884%5D%2C%20%5B33.982468%2C%20-118.460996%5D%2C%20%5B37.73413400000001%2C%20-122.13955%5D%2C%20%5B32.67617%2C%20-97.023361%5D%2C%20%5B39.94194%2C%20-83.01115%5D%2C%20%5B42.979221%2C%20-83.763435%5D%2C%20%5B39.019253000000006%2C%20-76.976685%5D%2C%20%5B29.670681%2C%20-95.508502%5D%2C%20%5B25.812416%2C%20-80.207138%5D%2C%20%5B40.54382800000001%2C%20-74.310508%5D%2C%20%5B33.83104%2C%20-84.33398000000003%5D%2C%20%5B45.464477%2C%20-122.6384%5D%2C%20%5B37.839947%2C%20-122.29679099999998%5D%2C%20%5B35.547766%2C%20-117.92772%5D%2C%20%5B42.524586%2C%20-71.081917%5D%2C%20%5B34.12318%2C%20-117.91303%5D%2C%20%5B37.698119%2C%20-121.940764%5D%2C%20%5B36.234985%2C%20-95.985741%5D%2C%20%5B34.068625%2C%20-117.974366%5D%2C%20%5B40.06667%2C%20-74.96609000000002%5D%2C%20%5B30.197283%2C%20-93.218506%5D%2C%20%5B28.217136%2C%20-82.69270300000002%5D%2C%20%5B40.837136%2C%20-74.020321%5D%2C%20%5B28.0158%2C%20-82.78981800000003%5D%2C%20%5B33.937166999999995%2C%20-78.563627%5D%2C%20%5B32.85392%2C%20-96.64543%5D%2C%20%5B41.79733%2C%20-71.40356%5D%2C%20%5B34.223240000000004%2C%20-80.682907%5D%2C%20%5B37.696778%2C%20-122.046076%5D%2C%20%5B33.748151%2C%20-117.832373%5D%2C%20%5B35.784%2C%20-78.700424%5D%2C%20%5B32.91648%2C%20-96.74275%5D%2C%20%5B29.308741%2C%20-98.55484%5D%2C%20%5B41.63041%2C%20-72.87631%5D%2C%20%5B32.66811%2C%20-96.891296%5D%2C%20%5B26.107253%2C%20-80.283425%5D%2C%20%5B31.307333%2C%20-89.316666%5D%2C%20%5B36.04689000000001%2C%20-95.917297%5D%2C%20%5B36.168597%2C%20-86.60031500000002%5D%2C%20%5B38.694569%2C%20-122.886307%5D%2C%20%5B30.404467%2C%20-84.110878%5D%2C%20%5B29.42901%2C%20-98.500847%5D%2C%20%5B38.794409%2C%20-77.053674%5D%2C%20%5B35.083897%2C%20-80.968849%5D%2C%20%5B41.366819%2C%20-72.204669%5D%2C%20%5B28.597834%2C%20-81.20786%5D%2C%20%5B34.178065999999994%2C%20-80.978607%5D%2C%20%5B32.925732%2C%20-96.820786%5D%2C%20%5B34.035131%2C%20-118.333579%5D%2C%20%5B33.545288%2C%20-86.591217%5D%2C%20%5B34.218805%2C%20-119.158194%5D%2C%20%5B44.443449%2C%20-121.968178%5D%2C%20%5B43.174824%2C%20-77.738167%5D%2C%20%5B41.825287%2C%20-71.419647%5D%2C%20%5B38.500847%2C%20-121.40905%5D%2C%20%5B28.376089%2C%20-81.36479200000002%5D%2C%20%5B35.40673%2C%20-97.57685%5D%2C%20%5B28.47078%2C%20-81.39655%5D%2C%20%5B30.465334%2C%20-84.344139%5D%2C%20%5B26.494774%2C%20-81.928391%5D%2C%20%5B36.118942%2C%20-95.833244%5D%2C%20%5B35.887852%2C%20-78.679604%5D%2C%20%5B37.49299%2C%20-120.99456%5D%2C%20%5B33.690109%2C%20-117.768278%5D%2C%20%5B33.480676%2C%20-117.140937%5D%2C%20%5B39.292824%2C%20-84.316757%5D%2C%20%5B41.803482%2C%20-72.54571700000002%5D%2C%20%5B39.998032%2C%20-75.233177%5D%2C%20%5B35.181732000000004%2C%20-120.701286%5D%2C%20%5B34.138023%2C%20-117.240974%5D%2C%20%5B39.820084%2C%20-84.16755699999999%5D%2C%20%5B34.099522%2C%20-117.897881%5D%2C%20%5B30.554291%2C%20-91.036911%5D%2C%20%5B36.81725%2C%20-76.28181%5D%2C%20%5B29.509690000000006%2C%20-98.54004%5D%2C%20%5B40.447971%2C%20-80.162391%5D%2C%20%5B47.653542%2C%20-117.435562%5D%2C%20%5B30.24957%2C%20-92.98883%5D%2C%20%5B29.950575%2C%20-95.547134%5D%2C%20%5B35.47583%2C%20-97.545456%5D%2C%20%5B33.779064%2C%20-117.878731%5D%2C%20%5B32.287174%2C%20-110.943871%5D%2C%20%5B33.711890999999994%2C%20-117.310249%5D%2C%20%5B43.14882%2C%20-77.62054%5D%2C%20%5B41.87065%2C%20-87.76884%5D%2C%20%5B30.358853000000003%2C%20-97.670933%5D%2C%20%5B39.785345%2C%20-86.13808%5D%2C%20%5B33.809132%2C%20-117.235779%5D%2C%20%5B33.76513%2C%20-84.52126%5D%2C%20%5B38.90372%2C%20-77.00357%5D%2C%20%5B34.044825%2C%20-118.216047%5D%2C%20%5B32.888069%2C%20-86.623993%5D%2C%20%5B35.74379000000001%2C%20-78.82125%5D%2C%20%5B41.565403%2C%20-87.742142%5D%2C%20%5B44.716967%2C%20-121.17363%5D%2C%20%5B38.643435%2C%20-121.107565%5D%2C%20%5B41.320273%2C%20-77.094503%5D%2C%20%5B25.69876%2C%20-80.34131%5D%2C%20%5B37.709518%2C%20-117.238472%5D%2C%20%5B40.76061%2C%20-111.9508%5D%2C%20%5B42.412897%2C%20-74.056514%5D%2C%20%5B33.553661%2C%20-111.89518%5D%2C%20%5B30.443209000000003%2C%20-91.088921%5D%2C%20%5B33.753635%2C%20-84.495628%5D%2C%20%5B41.86618%2C%20-87.72515899999998%5D%2C%20%5B30.34642%2C%20-97.71041%5D%2C%20%5B46.58232%2C%20-95.580486%5D%2C%20%5B34.266048%2C%20-118.467438%5D%2C%20%5B26.081272%2C%20-80.168816%5D%2C%20%5B33.937954%2C%20-117.290993%5D%2C%20%5B32.75666%2C%20-96.822563%5D%2C%20%5B30.312201%2C%20-97.65802%5D%2C%20%5B35.545605%2C%20-97.529762%5D%2C%20%5B43.06136%2C%20-71.47106%5D%2C%20%5B28.141428%2C%20-82.74036%5D%2C%20%5B30.216616%2C%20-97.743988%5D%2C%20%5B41.218601%2C%20-75.883812%5D%2C%20%5B39.291859%2C%20-120.682497%5D%2C%20%5B34.079428%2C%20-117.29738799999998%5D%2C%20%5B41.251858%2C%20-73.674909%5D%2C%20%5B33.825333%2C%20-118.215393%5D%2C%20%5B41.57114%2C%20-87.43828%5D%2C%20%5B44.88615%2C%20-93.40949%5D%2C%20%5B34.137027%2C%20-118.599378%5D%2C%20%5B33.780731%2C%20-84.391209%5D%2C%20%5B38.343589%2C%20-77.49656800000002%5D%2C%20%5B35.150311%2C%20-81.519768%5D%2C%20%5B42.504543%2C%20-83.114975%5D%2C%20%5B38.646679%2C%20-90.530647%5D%2C%20%5B38.962769%2C%20-77.535599%5D%2C%20%5B42.345501%2C%20-121.828895%5D%2C%20%5B44.624374%2C%20-121.1306%5D%2C%20%5B39.788284%2C%20-84.18177800000002%5D%2C%20%5B34.96756%2C%20-81.94976%5D%2C%20%5B33.538133%2C%20-112.103872%5D%2C%20%5B40.08942%2C%20-75.38871800000003%5D%2C%20%5B38.53707%2C%20-121.51442%5D%2C%20%5B39.01961%2C%20-76.93177%5D%2C%20%5B35.79036400000001%2C%20-119.268044%5D%2C%20%5B34.724812%2C%20-81.23168199999998%5D%2C%20%5B30.030806%2C%20-89.993964%5D%2C%20%5B43.13094%2C%20-77.65369%5D%2C%20%5B33.46153%2C%20-112.40187%5D%2C%20%5B29.447025%2C%20-98.653519%5D%2C%20%5B25.812397%2C%20-80.24029499999997%5D%2C%20%5B40.71201%2C%20-111.7899%5D%2C%20%5B40.677242%2C%20-73.57154799999998%5D%2C%20%5B38.642805%2C%20-90.188829%5D%2C%20%5B40.757122%2C%20-74.207268%5D%2C%20%5B40.909279%2C%20-73.786473%5D%2C%20%5B32.881153999999995%2C%20-96.899684%5D%2C%20%5B38.19732%2C%20-120.800806%5D%2C%20%5B39.231918%2C%20-77.284805%5D%2C%20%5B44.39856%2C%20-122.394004%5D%2C%20%5B46.11488%2C%20-122.952507%5D%2C%20%5B37.643347%2C%20-122.092937%5D%2C%20%5B30.267118%2C%20-82.754662%5D%2C%20%5B32.723894%2C%20-96.700278%5D%2C%20%5B35.19277299999999%2C%20-120.700448%5D%2C%20%5B30.45768%2C%20-91.108124%5D%2C%20%5B35.375858%2C%20-118.962417%5D%2C%20%5B34.080215%2C%20-118.291695%5D%2C%20%5B35.760468%2C%20-78.55193299999998%5D%2C%20%5B32.475269%2C%20-85.030128%5D%2C%20%5B33.6828%2C%20-117.856863%5D%2C%20%5B35.441297%2C%20-119.078632%5D%2C%20%5B40.01954%2C%20-75.19148%5D%2C%20%5B33.964283%2C%20-118.120224%5D%2C%20%5B47.230717%2C%20-122.459541%5D%2C%20%5B29.746834000000003%2C%20-95.362785%5D%2C%20%5B25.731925%2C%20-80.317114%5D%2C%20%5B35.303402%2C%20-120.800842%5D%2C%20%5B32.372032%2C%20-95.287605%5D%2C%20%5B25.890715%2C%20-80.218992%5D%2C%20%5B40.82782%2C%20-73.943916%5D%2C%20%5B34.043114%2C%20-118.217155%5D%2C%20%5B36.76012%2C%20-76.266388%5D%2C%20%5B41.147827%2C%20-75.962013%5D%2C%20%5B45.533066%2C%20-122.66539%5D%2C%20%5B30.341311%2C%20-97.769699%5D%2C%20%5B46.442261%2C%20-95.135986%5D%2C%20%5B33.435627000000004%2C%20-86.719437%5D%2C%20%5B34.149132%2C%20-118.803955%5D%2C%20%5B34.179007%2C%20-118.165733%5D%2C%20%5B34.828018%2C%20-86.939423%5D%2C%20%5B29.722691%2C%20-95.438339%5D%2C%20%5B39.047752%2C%20-84.573013%5D%2C%20%5B42.384869%2C%20-83.275887%5D%2C%20%5B33.814461%2C%20-118.168846%5D%2C%20%5B29.606075%2C%20-95.476692%5D%2C%20%5B27.863033%2C%20-82.326683%5D%2C%20%5B37.485948%2C%20-77.141449%5D%2C%20%5B32.76462%2C%20-96.85%5D%2C%20%5B30.507155%2C%20-87.161847%5D%2C%20%5B41.982651%2C%20-87.74829100000002%5D%2C%20%5B40.971143%2C%20-75.964169%5D%2C%20%5B42.24534%2C%20-83.31713%5D%2C%20%5B37.482033%2C%20-121.935432%5D%2C%20%5B40.679594%2C%20-73.70243599999998%5D%2C%20%5B40.044662%2C%20-76.72618100000003%5D%2C%20%5B37.42019000000001%2C%20-121.8822%5D%2C%20%5B40.29406%2C%20-76.82427%5D%2C%20%5B26.037417%2C%20-80.163942%5D%2C%20%5B32.665721999999995%2C%20-97.293724%5D%2C%20%5B34.00598%2C%20-117.96103%5D%2C%20%5B41.59805%2C%20-93.77126%5D%2C%20%5B36.10035%2C%20-86.8711%5D%2C%20%5B40.71006%2C%20-74.18038%5D%2C%20%5B35.83471%2C%20-78.64023%5D%2C%20%5B33.892853%2C%20-118.278679%5D%2C%20%5B35.23009099999999%2C%20-80.83659399999998%5D%2C%20%5B42.952648%2C%20-71.260551%5D%2C%20%5B45.58389%2C%20-122.67902%5D%2C%20%5B41.9729%2C%20-73.92073%5D%2C%20%5B33.686213%2C%20-78.977688%5D%2C%20%5B40.596493%2C%20-73.90778399999998%5D%2C%20%5B47.589973%2C%20-122.307037%5D%2C%20%5B35.21257%2C%20-80.858818%5D%2C%20%5B44.167797%2C%20-122.278295%5D%2C%20%5B42.01175%2C%20-71.58185999999998%5D%2C%20%5B40.72645%2C%20-111.97398%5D%2C%20%5B33.804320000000004%2C%20-118.209385%5D%2C%20%5B30.270876%2C%20-97.74559%5D%2C%20%5B39.570734%2C%20-76.354012%5D%2C%20%5B32.1633%2C%20-110.94342%5D%2C%20%5B44.971111%2C%20-93.469627%5D%2C%20%5B44.560056%2C%20-121.164762%5D%2C%20%5B34.154522%2C%20-118.396576%5D%2C%20%5B29.96938%2C%20-90.06873%5D%2C%20%5B28.600428000000004%2C%20-81.207718%5D%2C%20%5B39.785192%2C%20-81.553919%5D%2C%20%5B45.67943%2C%20-123.92386%5D%2C%20%5B32.842693%2C%20-96.775174%5D%2C%20%5B34.201239%2C%20-118.403727%5D%2C%20%5B34.400787%2C%20-118.458466%5D%2C%20%5B41.8226%2C%20-87.91637%5D%2C%20%5B34.067661%2C%20-117.584343%5D%2C%20%5B39.93026%2C%20-104.98785%5D%2C%20%5B35.147797%2C%20-80.896446%5D%2C%20%5B32.776691%2C%20-117.135658%5D%2C%20%5B34.002520000000004%2C%20-117.980816%5D%2C%20%5B37.4888%2C%20-122.212105%5D%2C%20%5B36.075039%2C%20-86.662529%5D%2C%20%5B37.549323%2C%20-122.292495%5D%2C%20%5B34.20475%2C%20-117.130669%5D%2C%20%5B35.87199000000001%2C%20-78.70100000000002%5D%2C%20%5B44.442127%2C%20-118.800905%5D%2C%20%5B29.520327%2C%20-98.489586%5D%2C%20%5B39.88685%2C%20-75.2152%5D%2C%20%5B41.994911%2C%20-88.060631%5D%2C%20%5B44.92015%2C%20-123.00391%5D%2C%20%5B45.39371%2C%20-122.74812%5D%2C%20%5B40.203846%2C%20-75.458153%5D%2C%20%5B43.25473%2C%20-123.35981%5D%2C%20%5B37.737331%2C%20-122.19333600000002%5D%2C%20%5B29.395046%2C%20-98.478073%5D%2C%20%5B37.627926%2C%20-77.574303%5D%2C%20%5B40.770469%2C%20-73.835027%5D%2C%20%5B39.800559%2C%20-84.194186%5D%2C%20%5B38.706757%2C%20-77.223022%5D%2C%20%5B34.892540000000004%2C%20-82.160202%5D%2C%20%5B37.480549%2C%20-77.46785%5D%2C%20%5B40.930258%2C%20-82.66200500000002%5D%2C%20%5B33.690498%2C%20-117.768539%5D%2C%20%5B26.188438%2C%20-80.151825%5D%2C%20%5B36.84277%2C%20-76.012147%5D%2C%20%5B34.378533000000004%2C%20-117.418719%5D%2C%20%5B42.36083%2C%20-71.05368%5D%2C%20%5B40.018188%2C%20-76.728607%5D%2C%20%5B34.677364000000004%2C%20-79.011597%5D%2C%20%5B48.042883%2C%20-114.074261%5D%2C%20%5B37.52383%2C%20-77.32842%5D%2C%20%5B35.47855%2C%20-97.45916%5D%2C%20%5B37.418747%2C%20-77.48236800000002%5D%2C%20%5B34.030289%2C%20-117.657539%5D%2C%20%5B41.650444%2C%20-93.591599%5D%2C%20%5B29.252611%2C%20-82.902113%5D%2C%20%5B40.822414%2C%20-74.125862%5D%2C%20%5B29.51727%2C%20-82.548211%5D%2C%20%5B37.35426%2C%20-121.86607%5D%2C%20%5B42.98835800000001%2C%20-85.70030200000002%5D%2C%20%5B34.018707%2C%20-117.506622%5D%2C%20%5B29.3687%2C%20-98.45327%5D%2C%20%5B38.778927%2C%20-77.180122%5D%2C%20%5B25.958451%2C%20-80.17046500000002%5D%2C%20%5B30.349372%2C%20-97.538543%5D%2C%20%5B41.849914%2C%20-87.97251999999997%5D%2C%20%5B35.441232%2C%20-119.052431%5D%2C%20%5B33.69057100000001%2C%20-84.49994699999998%5D%2C%20%5B34.13602%2C%20-117.392523%5D%2C%20%5B29.714918%2C%20-95.590416%5D%2C%20%5B33.387489%2C%20-86.78325699999998%5D%2C%20%5B40.757889%2C%20-73.852333%5D%2C%20%5B32.816254%2C%20-96.810677%5D%2C%20%5B33.077941%2C%20-80.01380999999998%5D%2C%20%5B35.86843%2C%20-78.545527%5D%2C%20%5B39.106792%2C%20-94.588127%5D%2C%20%5B44.072824%2C%20-123.103619%5D%2C%20%5B28.078840000000003%2C%20-80.71547%5D%2C%20%5B37.900803%2C%20-121.221181%5D%2C%20%5B40.08218%2C%20-111.70539%5D%2C%20%5B37.65795900000001%2C%20-122.10183700000002%5D%2C%20%5B35.65482%2C%20-78.824%5D%2C%20%5B42.398174%2C%20-83.110466%5D%2C%20%5B26.080429%2C%20-80.13501%5D%2C%20%5B32.872128000000004%2C%20-80.01133%5D%2C%20%5B34.30187%2C%20-117.46039%5D%2C%20%5B45.06062%2C%20-93.15119%5D%2C%20%5B33.045212%2C%20-96.829643%5D%2C%20%5B44.98341%2C%20-93.460014%5D%2C%20%5B39.06546%2C%20-94.79281%5D%2C%20%5B33.944103000000005%2C%20-118.291895%5D%2C%20%5B28.038626%2C%20-82.73836999999997%5D%2C%20%5B37.842594%2C%20-122.2976%5D%2C%20%5B28.510091%2C%20-81.27963199999998%5D%2C%20%5B39.464991%2C%20-77.51082099999998%5D%2C%20%5B39.750507%2C%20-105.016624%5D%2C%20%5B33.644474%2C%20-112.230568%5D%2C%20%5B41.631714%2C%20-87.696579%5D%2C%20%5B33.856705%2C%20-118.284599%5D%2C%20%5B33.38471%2C%20-111.96764%5D%2C%20%5B38.559971%2C%20-121.466576%5D%2C%20%5B35.594666%2C%20-97.656219%5D%2C%20%5B25.748436%2C%20-80.289344%5D%2C%20%5B32.660137%2C%20-96.891296%5D%2C%20%5B34.024809000000005%2C%20-118.468476%5D%2C%20%5B29.52654%2C%20-95.128889%5D%2C%20%5B42.482231%2C%20-73.671295%5D%2C%20%5B33.12146%2C%20-117.10221%5D%2C%20%5B28.048996%2C%20-82.709244%5D%2C%20%5B35.788668%2C%20-78.645287%5D%2C%20%5B43.150816%2C%20-77.635343%5D%2C%20%5B34.067284%2C%20-81.142235%5D%2C%20%5B42.42971%2C%20-71.018158%5D%2C%20%5B35.054802%2C%20-80.850143%5D%2C%20%5B34.029269%2C%20-118.200096%5D%2C%20%5B40.587673%2C%20-111.900703%5D%2C%20%5B39.66849000000001%2C%20-105.25655%5D%2C%20%5B39.841869%2C%20-75.400932%5D%2C%20%5B38.017368%2C%20-121.095577%5D%2C%20%5B41.87548%2C%20-87.64197%5D%2C%20%5B34.011074%2C%20-118.280754%5D%2C%20%5B35.250229%2C%20-80.797569%5D%2C%20%5B38.888401%2C%20-77.09169%5D%2C%20%5B33.594504%2C%20-112.261984%5D%2C%20%5B45.010361%2C%20-93.166649%5D%2C%20%5B38.892265%2C%20-76.84735500000002%5D%2C%20%5B43.234161%2C%20-75.286636%5D%2C%20%5B37.021309%2C%20-80.73162099999998%5D%2C%20%5B45.107706%2C%20-93.465982%5D%2C%20%5B39.11937%2C%20-76.63729000000002%5D%2C%20%5B41.92417%2C%20-73.07618000000002%5D%2C%20%5B39.348754%2C%20-77.604337%5D%2C%20%5B42.984756%2C%20-83.73317%5D%2C%20%5B41.29319%2C%20-73.87056%5D%2C%20%5B42.277424%2C%20-83.156548%5D%2C%20%5B32.743797%2C%20-96.815582%5D%2C%20%5B32.835724%2C%20-96.704437%5D%2C%20%5B25.910739000000003%2C%20-80.17535600000002%5D%2C%20%5B33.916382%2C%20-118.264076%5D%2C%20%5B30.311951%2C%20-97.708588%5D%2C%20%5B47.73707%2C%20-122.32667%5D%2C%20%5B39.69979%2C%20-86.10714%5D%2C%20%5B40.71945%2C%20-111.866758%5D%2C%20%5B35.918674%2C%20-78.464752%5D%2C%20%5B32.807041%2C%20-96.682617%5D%2C%20%5B28.557026%2C%20-81.310806%5D%2C%20%5B33.934515000000005%2C%20-118.352704%5D%2C%20%5B34.028774%2C%20-118.20314%5D%2C%20%5B30.356461%2C%20-91.135002%5D%2C%20%5B29.737404%2C%20-95.379097%5D%2C%20%5B38.71318%2C%20-90.44765%5D%2C%20%5B33.824486%2C%20-118.295395%5D%2C%20%5B25.826599%2C%20-80.242944%5D%2C%20%5B30.257523%2C%20-97.713745%5D%2C%20%5B34.046029%2C%20-117.72418799999998%5D%2C%20%5B29.851568%2C%20-95.504639%5D%2C%20%5B41.737751%2C%20-72.662849%5D%2C%20%5B39.23155%2C%20-104.87775%5D%2C%20%5B37.784877%2C%20-122.39266%5D%2C%20%5B41.859352%2C%20-87.641006%5D%2C%20%5B35.211898%2C%20-80.761742%5D%2C%20%5B30.45434%2C%20-97.556358%5D%2C%20%5B26.529606%2C%20-81.88707%5D%2C%20%5B33.760659999999994%2C%20-84.4845%5D%2C%20%5B41.679695%2C%20-83.591248%5D%2C%20%5B34.941624%2C%20-80.97306800000001%5D%2C%20%5B40.715733%2C%20-73.826256%5D%2C%20%5B34.2146%2C%20-118.35164%5D%2C%20%5B27.26252%2C%20-80.388397%5D%2C%20%5B40.7548%2C%20-112.0243%5D%2C%20%5B39.725605%2C%20-105.045624%5D%2C%20%5B33.816848%2C%20-118.188679%5D%2C%20%5B33.968144%2C%20-118.167655%5D%2C%20%5B34.1928%2C%20-112.1314%5D%2C%20%5B27.190201%2C%20-82.43888100000002%5D%2C%20%5B44.609723%2C%20-71.218763%5D%2C%20%5B34.15567%2C%20-118.29732%5D%2C%20%5B38.225647%2C%20-85.758614%5D%2C%20%5B34.895699%2C%20-80.960808%5D%2C%20%5B40.114189%2C%20-75.321854%5D%2C%20%5B41.223896%2C%20-96.042587%5D%2C%20%5B32.859138%2C%20-80.006752%5D%2C%20%5B34.047022%2C%20-118.446575%5D%2C%20%5B29.82815%2C%20-95.52005%5D%2C%20%5B33.8802%2C%20-118.284755%5D%2C%20%5B33.05511%2C%20-87.58008000000002%5D%2C%20%5B32.84506%2C%20-79.98482%5D%2C%20%5B40.814259%2C%20-73.8965%5D%2C%20%5B42.134278%2C%20-87.887047%5D%2C%20%5B44.757766%2C%20-122.340362%5D%2C%20%5B29.822701%2C%20-95.545265%5D%2C%20%5B32.91666%2C%20-96.743439%5D%2C%20%5B38.137119%2C%20-85.708389%5D%2C%20%5B33.88596%2C%20-118.19%5D%2C%20%5B41.80404%2C%20-71.33473000000002%5D%2C%20%5B40.931442%2C%20-73.85639499999998%5D%2C%20%5B33.912189%2C%20-84.38374300000002%5D%2C%20%5B30.420472%2C%20-97.845526%5D%2C%20%5B29.770725%2C%20-95.213621%5D%2C%20%5B29.821505%2C%20-95.420302%5D%2C%20%5B28.499840000000006%2C%20-81.640663%5D%2C%20%5B39.90494%2C%20-83.08204%5D%2C%20%5B34.064118%2C%20-117.296741%5D%2C%20%5B33.81757%2C%20-84.25198%5D%2C%20%5B25.770007%2C%20-80.317842%5D%2C%20%5B42.314275%2C%20-123.278899%5D%2C%20%5B34.05924%2C%20-118.25256%5D%2C%20%5B42.334848%2C%20-83.067033%5D%2C%20%5B33.221940000000004%2C%20-97.17122%5D%2C%20%5B31.761164%2C%20-106.49057%5D%2C%20%5B42.53772%2C%20-83.11634000000002%5D%2C%20%5B36.060867%2C%20-95.886391%5D%2C%20%5B37.715199%2C%20-122.172646%5D%2C%20%5B34.107677%2C%20-117.981705%5D%2C%20%5B41.775477%2C%20-72.668238%5D%2C%20%5B40.779709%2C%20-76.415306%5D%2C%20%5B33.476994%2C%20-117.67347%5D%2C%20%5B32.333817%2C%20-90.16246%5D%2C%20%5B38.474333%2C%20-121.40869%5D%2C%20%5B43.114635%2C%20-77.551834%5D%2C%20%5B42.57812%2C%20-73.87823%5D%2C%20%5B30.01853%2C%20-90.02164%5D%2C%20%5B35.54829%2C%20-82.81518%5D%2C%20%5B38.7033%2C%20-120.860253%5D%2C%20%5B37.31048%2C%20-121.94047%5D%2C%20%5B38.481682%2C%20-121.408768%5D%2C%20%5B39.803947%2C%20-84.22107700000002%5D%2C%20%5B36.985895%2C%20-121.514964%5D%2C%20%5B33.977413%2C%20-117.371727%5D%2C%20%5B33.591675%2C%20-86.161674%5D%2C%20%5B41.497936%2C%20-96.05603%5D%2C%20%5B47.56729%2C%20-122.3342%5D%2C%20%5B38.11512800000001%2C%20-85.70186600000002%5D%2C%20%5B34.3151%2C%20-117.47855%5D%2C%20%5B33.81041%2C%20-118.08132%5D%2C%20%5B38.79421%2C%20-76.83621%5D%2C%20%5B41.186092%2C%20-96.107521%5D%2C%20%5B38.93129%2C%20-94.66332%5D%2C%20%5B28.507364000000006%2C%20-80.84344200000002%5D%2C%20%5B34.254967%2C%20-79.83111600000002%5D%2C%20%5B36.03756%2C%20-86.78505%5D%2C%20%5B36.838638%2C%20-76.159317%5D%2C%20%5B33.03921%2C%20-117.28359%5D%2C%20%5B44.859154%2C%20-93.361237%5D%2C%20%5B39.004021%2C%20-77.482559%5D%2C%20%5B35.402962%2C%20-97.521309%5D%2C%20%5B42.226444%2C%20-71.02068299999998%5D%2C%20%5B47.46714%2C%20-122.216904%5D%2C%20%5B39.809444%2C%20-74.930817%5D%2C%20%5B44.100206%2C%20-122.693573%5D%2C%20%5B33.9114%2C%20-118.226135%5D%2C%20%5B45.484509%2C%20-122.5659%5D%2C%20%5B33.912987%2C%20-118.180145%5D%2C%20%5B28.188078000000004%2C%20-82.723526%5D%2C%20%5B38.76684%2C%20-121.191892%5D%2C%20%5B37.53062%2C%20-77.36477%5D%2C%20%5B44.232913%2C%20-122.055808%5D%2C%20%5B34.081579999999995%2C%20-117.72332%5D%2C%20%5B38.61045%2C%20-121.38306%5D%2C%20%5B38.979069%2C%20-84.630188%5D%2C%20%5B41.782162%2C%20-88.09259%5D%2C%20%5B35.731487%2C%20-78.64489%5D%2C%20%5B45.50701%2C%20-122.71866%5D%2C%20%5B38.936392%2C%20-94.451186%5D%2C%20%5B34.216826%2C%20-79.759378%5D%2C%20%5B32.676506%2C%20-96.857071%5D%2C%20%5B37.73226%2C%20-122.43197%5D%2C%20%5B40.638538%2C%20-111.834572%5D%2C%20%5B33.718849%2C%20-78.93195300000002%5D%2C%20%5B45.283031%2C%20-123.140053%5D%2C%20%5B40.780945%2C%20-74.243032%5D%2C%20%5B37.736916%2C%20-75.646843%5D%2C%20%5B34.954788%2C%20-106.662643%5D%2C%20%5B37.201415%2C%20-76.570302%5D%2C%20%5B35.24175%2C%20-80.84956%5D%2C%20%5B32.618219%2C%20-83.640559%5D%2C%20%5B38.819238%2C%20-121.186214%5D%2C%20%5B34.340145%2C%20-118.519516%5D%2C%20%5B32.996721%2C%20-96.78339%5D%2C%20%5B28.534723%2C%20-81.388918%5D%2C%20%5B33.89833400000001%2C%20-117.477053%5D%2C%20%5B30.23923%2C%20-95.458348%5D%2C%20%5B41.752499%2C%20-91.642059%5D%2C%20%5B26.14644%2C%20-80.581523%5D%2C%20%5B36.012394%2C%20-86.70359%5D%2C%20%5B41.972488%2C%20-87.78796%5D%2C%20%5B37.242283%2C%20-76.63430799999998%5D%2C%20%5B41.277798%2C%20-96.052605%5D%2C%20%5B29.704931%2C%20-95.545296%5D%2C%20%5B26.240196%2C%20-80.241867%5D%2C%20%5B43.06466%2C%20-76.07674%5D%2C%20%5B45.52643%2C%20-122.68692%5D%2C%20%5B40.882034%2C%20-73.986359%5D%2C%20%5B34.065525%2C%20-118.000311%5D%2C%20%5B26.392847%2C%20-80.095268%5D%2C%20%5B34.018155%2C%20-118.146607%5D%2C%20%5B29.80978%2C%20-95.34205%5D%2C%20%5B37.955421%2C%20-121.744408%5D%2C%20%5B30.627382%2C%20-88.115509%5D%2C%20%5B37.41732%2C%20-121.97414%5D%2C%20%5B39.740349%2C%20-105.042839%5D%2C%20%5B36.15730300000001%2C%20-96.028152%5D%2C%20%5B39.898793%2C%20-75.169537%5D%2C%20%5B33.687443%2C%20-117.872017%5D%2C%20%5B39.980274%2C%20-82.83625%5D%2C%20%5B30.282307%2C%20-82.04410899999998%5D%2C%20%5B25.946528%2C%20-80.213394%5D%2C%20%5B36.15877%2C%20-115.10112%5D%2C%20%5B38.56179%2C%20-122.823181%5D%2C%20%5B41.86935%2C%20-71.515236%5D%2C%20%5B32.935081%2C%20-80.04759200000002%5D%2C%20%5B32.964592%2C%20-117.095573%5D%2C%20%5B41.080509%2C%20-73.717934%5D%2C%20%5B35.3773%2C%20-97.423561%5D%2C%20%5B37.563782%2C%20-122.273476%5D%2C%20%5B35.748589%2C%20-78.874702%5D%2C%20%5B47.620834%2C%20-117.401917%5D%2C%20%5B40.73493300000001%2C%20-111.90457%5D%2C%20%5B37.87423%2C%20-122.3059%5D%2C%20%5B33.807072%2C%20-84.310259%5D%2C%20%5B30.18128%2C%20-81.513%5D%2C%20%5B32.89490900000001%2C%20-96.810822%5D%2C%20%5B34.35929%2C%20-118.55393%5D%2C%20%5B45.067535%2C%20-93.246834%5D%2C%20%5B39.62272%2C%20-106.4849%5D%2C%20%5B39.22628%2C%20-84.36995999999998%5D%2C%20%5B33.897009999999995%2C%20-118.10479%5D%2C%20%5B41.344917%2C%20-73.757729%5D%2C%20%5B33.8769%2C%20-118.18724%5D%2C%20%5B39.243548%2C%20-76.690519%5D%2C%20%5B47.847973%2C%20-122.258316%5D%2C%20%5B34.146778000000005%2C%20-79.252876%5D%2C%20%5B41.876881%2C%20-88.23520699999997%5D%2C%20%5B42.73262800000001%2C%20-73.69811999999997%5D%2C%20%5B42.15744%2C%20-71.96039%5D%2C%20%5B39.96589%2C%20-75.17915%5D%2C%20%5B37.83453%2C%20-77.3694%5D%2C%20%5B39.50439%2C%20-118.91362%5D%2C%20%5B43.273579%2C%20-77.75026700000002%5D%2C%20%5B40.201109%2C%20-74.58979699999998%5D%2C%20%5B36.11553%2C%20-115.20805%5D%2C%20%5B40.526084%2C%20-78.353367%5D%2C%20%5B40.940365%2C%20-74.071297%5D%2C%20%5B37.52964%2C%20-122.27405%5D%2C%20%5B42.209037%2C%20-93.57091%5D%2C%20%5B38.662566%2C%20-120.938145%5D%2C%20%5B37.470226%2C%20-122.157725%5D%2C%20%5B36.151558%2C%20-95.892097%5D%2C%20%5B32.811962%2C%20-96.861626%5D%2C%20%5B40.135363%2C%20-74.988566%5D%2C%20%5B34.240254%2C%20-117.429524%5D%2C%20%5B39.972832%2C%20-76.695427%5D%2C%20%5B34.067245%2C%20-117.532761%5D%2C%20%5B38.50103%2C%20-90.3163%5D%2C%20%5B33.827%2C%20-117.525848%5D%2C%20%5B35.033221999999995%2C%20-81.970055%5D%2C%20%5B42.40962%2C%20-83.08035%5D%2C%20%5B28.49377%2C%20-81.48339%5D%2C%20%5B39.16303%2C%20-104.853876%5D%2C%20%5B38.231153000000006%2C%20-122.112747%5D%2C%20%5B42.493229%2C%20-96.467369%5D%2C%20%5B36.14062%2C%20-86.73200000000001%5D%2C%20%5B33.813251%2C%20-79.019577%5D%2C%20%5B25.883753%2C%20-80.208977%5D%2C%20%5B41.942822%2C%20-71.475479%5D%2C%20%5B42.63755%2C%20-73.75612%5D%2C%20%5B26.69671%2C%20-80.06999%5D%2C%20%5B34.072291%2C%20-117.931512%5D%2C%20%5B35.23962%2C%20-80.91956%5D%2C%20%5B38.697845%2C%20-121.405991%5D%2C%20%5B40.854159%2C%20-73.965693%5D%2C%20%5B32.81498%2C%20-96.86676%5D%2C%20%5B39.29581%2C%20-76.57642%5D%2C%20%5B35.15443%2C%20-80.79496800000003%5D%2C%20%5B34.659328%2C%20-81.946297%5D%2C%20%5B37.323057%2C%20-120.540985%5D%2C%20%5B34.07574%2C%20-118.46878999999998%5D%2C%20%5B37.71067%2C%20-122.47123700000002%5D%2C%20%5B44.560215%2C%20-111.335483%5D%2C%20%5B34.221381%2C%20-118.473302%5D%2C%20%5B37.54162%2C%20-122.28509%5D%2C%20%5B34.068878000000005%2C%20-117.839455%5D%2C%20%5B44.04178%2C%20-93.24867%5D%2C%20%5B40.764189%2C%20-124.163089%5D%2C%20%5B32.660038%2C%20-117.108177%5D%2C%20%5B33.941254%2C%20-117.270546%5D%2C%20%5B36.044151%2C%20-95.931625%5D%2C%20%5B40.174919%2C%20-75.559141%5D%2C%20%5B39.664651%2C%20-120.433262%5D%2C%20%5B33.876503%2C%20-118.095806%5D%2C%20%5B33.922315000000005%2C%20-118.104346%5D%2C%20%5B32.35696%2C%20-86.217026%5D%2C%20%5B35.401329%2C%20-119.397721%5D%2C%20%5B32.27245%2C%20-110.83914%5D%2C%20%5B40.883%2C%20-74.12823%5D%2C%20%5B26.41679%2C%20-80.08977%5D%2C%20%5B37.974751%2C%20-120.34623700000002%5D%2C%20%5B30.080811%2C%20-97.69191%5D%2C%20%5B39.019886%2C%20-76.980632%5D%2C%20%5B38.806897%2C%20-77.498019%5D%2C%20%5B45.52992%2C%20-122.64741%5D%2C%20%5B35.435394%2C%20-97.760239%5D%2C%20%5B45.7217%2C%20-94.95663%5D%2C%20%5B34.007525%2C%20-117.826418%5D%2C%20%5B42.91294%2C%20-85.53118%5D%2C%20%5B31.75952%2C%20-106.49589%5D%2C%20%5B34.888641%2C%20-82.071228%5D%2C%20%5B33.877483000000005%2C%20-118.343254%5D%2C%20%5B44.672779%2C%20-73.46713299999998%5D%2C%20%5B43.00898400000001%2C%20-77.439217%5D%2C%20%5B35.080596%2C%20-89.90079200000002%5D%2C%20%5B34.04507%2C%20-118.2709%5D%2C%20%5B29.908849%2C%20-95.412068%5D%2C%20%5B29.91695%2C%20-95.41245%5D%2C%20%5B29.69355%2C%20-95.284729%5D%2C%20%5B28.78685%2C%20-81.21274%5D%2C%20%5B34.08913%2C%20-118.237527%5D%2C%20%5B32.79269%2C%20-96.879234%5D%2C%20%5B35.012806%2C%20-81.958054%5D%2C%20%5B43.176586%2C%20-77.551132%5D%2C%20%5B30.134832%2C%20-81.50952099999998%5D%2C%20%5B34.019655%2C%20-117.485189%5D%2C%20%5B33.736408000000004%2C%20-117.994476%5D%2C%20%5B33.883068%2C%20-117.582336%5D%2C%20%5B41.66819%2C%20-71.48739599999998%5D%2C%20%5B42.38122%2C%20-83.14673%5D%2C%20%5B25.78235%2C%20-80.23083000000003%5D%2C%20%5B27.937771%2C%20-82.28578399999998%5D%2C%20%5B41.678349%2C%20-87.812813%5D%2C%20%5B38.844405%2C%20-77.049146%5D%2C%20%5B35.064796%2C%20-80.77050799999998%5D%2C%20%5B26.14227%2C%20-80.21941%5D%2C%20%5B40.216473%2C%20-76.090576%5D%2C%20%5B45.197533%2C%20-94.316649%5D%2C%20%5B43.824585%2C%20-92.869405%5D%2C%20%5B39.498491%2C%20-122.198979%5D%2C%20%5B30.021140000000006%2C%20-90.15404%5D%2C%20%5B34.113095%2C%20-117.199863%5D%2C%20%5B32.6912%2C%20-96.846085%5D%2C%20%5B38.28755%2C%20-85.83163%5D%2C%20%5B39.754637%2C%20-86.182838%5D%2C%20%5B38.55794%2C%20-121.38579%5D%2C%20%5B39.027%2C%20-94.24386%5D%2C%20%5B32.794559%2C%20-96.782211%5D%2C%20%5B33.47999%2C%20-112.23779%5D%2C%20%5B39.558449%2C%20-119.790596%5D%2C%20%5B38.570086%2C%20-121.383019%5D%2C%20%5B35.849449%2C%20-78.586502%5D%2C%20%5B44.541382%2C%20-95.050255%5D%2C%20%5B35.964218%2C%20-77.80342900000002%5D%2C%20%5B30.21286%2C%20-97.897469%5D%2C%20%5B44.9832%2C%20-93.400681%5D%2C%20%5B43.04752%2C%20-76.14392%5D%2C%20%5B35.507702%2C%20-97.459999%5D%2C%20%5B36.73617%2C%20-119.556241%5D%2C%20%5B34.37485%2C%20-118.49663%5D%2C%20%5B39.085529%2C%20-84.178314%5D%2C%20%5B34.812801%2C%20-82.41873199999998%5D%2C%20%5B40.824448%2C%20-73.872597%5D%2C%20%5B34.717714%2C%20-92.341927%5D%2C%20%5B40.757088%2C%20-74.207306%5D%2C%20%5B35.3525%2C%20-119.018611%5D%2C%20%5B39.520832%2C%20-76.352715%5D%2C%20%5B29.545156%2C%20-98.57943%5D%2C%20%5B39.81012%2C%20-86.16023299999998%5D%2C%20%5B40.732044%2C%20-73.919022%5D%2C%20%5B39.730839%2C%20-86.243172%5D%2C%20%5B25.780531%2C%20-80.320396%5D%2C%20%5B42.248489%2C%20-88.12899%5D%2C%20%5B42.39088%2C%20-83.00813000000002%5D%2C%20%5B45.61295%2C%20-122.67813999999998%5D%2C%20%5B36.02790800000001%2C%20-79.823639%5D%2C%20%5B34.067543%2C%20-117.572937%5D%2C%20%5B29.712893%2C%20-95.54599%5D%2C%20%5B27.873690000000003%2C%20-80.59146%5D%2C%20%5B40.77117%2C%20-112.02751%5D%2C%20%5B38.223957%2C%20-122.127419%5D%2C%20%5B34.858795%2C%20-82.2603%5D%2C%20%5B47.009071%2C%20-93.068758%5D%2C%20%5B37.499149%2C%20-122.12867%5D%2C%20%5B40.686413%2C%20-74.097626%5D%2C%20%5B30.292194%2C%20-97.653374%5D%2C%20%5B38.891741%2C%20-77.16609100000002%5D%2C%20%5B39.60459%2C%20-104.89035%5D%2C%20%5B39.747753%2C%20-84.20558199999998%5D%2C%20%5B39.931519%2C%20-82.915138%5D%2C%20%5B33.59485%2C%20-117.17724%5D%2C%20%5B25.889284%2C%20-80.167194%5D%2C%20%5B43.074902%2C%20-87.92669699999998%5D%2C%20%5B37.257648%2C%20-121.85936%5D%2C%20%5B40.10914%2C%20-82.96761%5D%2C%20%5B31.715424%2C%20-106.299652%5D%2C%20%5B34.135459999999995%2C%20-117.96663%5D%2C%20%5B36.874833%2C%20-121.770767%5D%2C%20%5B36.939779%2C%20-77.73444%5D%2C%20%5B34.034954%2C%20-118.33371%5D%2C%20%5B40.083206%2C%20-75.092201%5D%2C%20%5B40.000256%2C%20-75.287842%5D%2C%20%5B28.162291%2C%20-82.39449300000003%5D%2C%20%5B33.45916%2C%20-112.03659%5D%2C%20%5B34.116798%2C%20-118.269066%5D%2C%20%5B34.027405%2C%20-117.916614%5D%2C%20%5B29.783522%2C%20-95.459206%5D%2C%20%5B25.92952%2C%20-80.21009000000002%5D%2C%20%5B42.253731%2C%20-83.30368%5D%2C%20%5B33.806905%2C%20-118.150854%5D%2C%20%5B35.395916%2C%20-97.508148%5D%2C%20%5B26.709179%2C%20-81.724168%5D%2C%20%5B38.673035%2C%20-90.204185%5D%2C%20%5B28.551573%2C%20-80.851692%5D%2C%20%5B29.949841%2C%20-95.412375%5D%2C%20%5B33.829244%2C%20-117.46035%5D%2C%20%5B36.160961%2C%20-86.793236%5D%2C%20%5B43.17009%2C%20-77.61983000000002%5D%2C%20%5B47.57838%2C%20-122.13255%5D%2C%20%5B34.907379%2C%20-82.329102%5D%2C%20%5B33.895111%2C%20-118.267464%5D%2C%20%5B42.633422%2C%20-73.763526%5D%2C%20%5B27.2104%2C%20-81.918816%5D%2C%20%5B25.008444%2C%20-80.517886%5D%2C%20%5B34.495487%2C%20-118.624565%5D%2C%20%5B42.972793%2C%20-85.677227%5D%2C%20%5B40.735466%2C%20-73.72333499999998%5D%2C%20%5B37.356895%2C%20-121.869009%5D%2C%20%5B39.756454%2C%20-84.19096400000002%5D%2C%20%5B47.33044%2C%20-122.59879%5D%2C%20%5B47.62991%2C%20-122.32711%5D%2C%20%5B26.656618%2C%20-81.905815%5D%2C%20%5B35.96984099999999%2C%20-83.925888%5D%2C%20%5B36.891922%2C%20-76.427261%5D%2C%20%5B35.613739%2C%20-97.493874%5D%2C%20%5B42.483002%2C%20-83.43937700000002%5D%2C%20%5B34.149292%2C%20-117.32225%5D%2C%20%5B42.742538%2C%20-71.168915%5D%2C%20%5B39.486618%2C%20-87.454178%5D%2C%20%5B40.000557%2C%20-75.2855%5D%2C%20%5B36.319266%2C%20-119.669067%5D%2C%20%5B38.835982%2C%20-76.86924599999998%5D%2C%20%5B28.088718%2C%20-82.739586%5D%2C%20%5B25.769106%2C%20-80.35156500000002%5D%2C%20%5B44.28381%2C%20-123.06113%5D%2C%20%5B34.158075%2C%20-81.268663%5D%2C%20%5B29.728712%2C%20-95.406951%5D%2C%20%5B45.03557%2C%20-92.88343%5D%2C%20%5B36.117718%2C%20-95.917862%5D%2C%20%5B39.936874%2C%20-82.878723%5D%2C%20%5B39.715988%2C%20-84.219238%5D%2C%20%5B39.487808%2C%20-121.530586%5D%2C%20%5B26.933624%2C%20-82.226395%5D%2C%20%5B30.887358000000006%2C%20-85.367615%5D%2C%20%5B41.20678%2C%20-111.99496%5D%2C%20%5B33.983940000000004%2C%20-118.280869%5D%2C%20%5B31.51203%2C%20-84.05863000000002%5D%2C%20%5B27.1887%2C%20-82.440071%5D%2C%20%5B35.608913%2C%20-97.478157%5D%2C%20%5B41.043633%2C%20-73.83538100000001%5D%2C%20%5B42.984879%2C%20-85.677193%5D%2C%20%5B40.179909%2C%20-75.212013%5D%2C%20%5B34.919270000000004%2C%20-82.31094399999998%5D%2C%20%5B38.069213%2C%20-78.699955%5D%2C%20%5B44.32774000000001%2C%20-92.979828%5D%2C%20%5B38.938232%2C%20-94.509537%5D%2C%20%5B38.466682%2C%20-121.496956%5D%2C%20%5B33.853651%2C%20-117.974098%5D%2C%20%5B28.50935%2C%20-81.40055%5D%2C%20%5B32.4911%2C%20-93.771172%5D%2C%20%5B34.137967%2C%20-118.276428%5D%2C%20%5B32.777506%2C%20-117.099999%5D%2C%20%5B34.340661%2C%20-112.135944%5D%2C%20%5B38.57399%2C%20-121.384304%5D%2C%20%5B39.02258%2C%20-84.48668%5D%2C%20%5B34.153664%2C%20-118.325729%5D%2C%20%5B40.797289%2C%20-73.975592%5D%2C%20%5B39.780792%2C%20-104.992666%5D%2C%20%5B32.675064%2C%20-117.083908%5D%2C%20%5B43.000782%2C%20-83.8312%5D%2C%20%5B39.09603%2C%20-94.563728%5D%2C%20%5B30.223085%2C%20-97.722298%5D%2C%20%5B34.120354%2C%20-118.339005%5D%2C%20%5B30.328937%2C%20-81.676734%5D%2C%20%5B35.55107%2C%20-97.62391%5D%2C%20%5B34.07185%2C%20-118.090599%5D%2C%20%5B33.91602%2C%20-117.43966%5D%2C%20%5B33.90262%2C%20-84.35918000000002%5D%2C%20%5B34.107681%2C%20-118.186089%5D%2C%20%5B34.41576%2C%20-119.855377%5D%2C%20%5B43.193626%2C%20-77.64520300000002%5D%2C%20%5B35.77056500000001%2C%20-78.722771%5D%2C%20%5B41.198353%2C%20-96.177452%5D%2C%20%5B39.780491%2C%20-104.991501%5D%2C%20%5B34.17108%2C%20-118.50441%5D%2C%20%5B41.365654%2C%20-72.106186%5D%2C%20%5B39.80378%2C%20-84.88183599999998%5D%2C%20%5B33.941219%2C%20-118.291908%5D%2C%20%5B38.297039%2C%20-85.506111%5D%2C%20%5B26.939407%2C%20-82.01722%5D%2C%20%5B39.295962%2C%20-77.33398199999998%5D%2C%20%5B30.339211%2C%20-97.700081%5D%2C%20%5B32.743618%2C%20-96.815681%5D%2C%20%5B33.766426%2C%20-84.526802%5D%2C%20%5B40.355293%2C%20-76.985938%5D%2C%20%5B34.88674%2C%20-82.39138%5D%2C%20%5B37.737747%2C%20-122.141129%5D%2C%20%5B45.064384%2C%20-93.218521%5D%2C%20%5B33.4661%2C%20-84.21186999999998%5D%2C%20%5B45.083426%2C%20-123.959911%5D%2C%20%5B45.651425%2C%20-122.851182%5D%2C%20%5B35.449612%2C%20-97.571274%5D%2C%20%5B38.84958%2C%20-77.38514%5D%2C%20%5B32.35883%2C%20-111.08962%5D%2C%20%5B33.56453%2C%20-86.729479%5D%2C%20%5B36.121807%2C%20-80.81462900000002%5D%2C%20%5B25.964184%2C%20-80.165863%5D%2C%20%5B38.552143%2C%20-121.415749%5D%2C%20%5B42.454159%2C%20-83.026009%5D%2C%20%5B42.71664000000001%2C%20-87.95379%5D%2C%20%5B41.76076%2C%20-87.8928%5D%2C%20%5B38.850286%2C%20-77.372849%5D%2C%20%5B37.339455%2C%20-121.852043%5D%2C%20%5B40.619306%2C%20-74.023537%5D%2C%20%5B39.064835%2C%20-77.467972%5D%2C%20%5B34.05657%2C%20-117.78427%5D%2C%20%5B33.942413%2C%20-117.277313%5D%2C%20%5B39.668175%2C%20-86.370613%5D%2C%20%5B37.741339%2C%20-121.580821%5D%2C%20%5B39.118655%2C%20-77.078136%5D%2C%20%5B40.05342%2C%20-74.72463%5D%2C%20%5B39.991951%2C%20-75.08596%5D%2C%20%5B35.44107800000001%2C%20-80.84676400000002%5D%2C%20%5B41.776428%2C%20-73.768349%5D%2C%20%5B33.927351%2C%20-118.28103%5D%2C%20%5B27.621857%2C%20-82.53964599999998%5D%2C%20%5B38.656441%2C%20-77.279388%5D%2C%20%5B37.878816%2C%20-121.278607%5D%2C%20%5B36.022216%2C%20-119.039629%5D%2C%20%5B41.688801%2C%20-88.03363%5D%2C%20%5B38.538242%2C%20-121.473648%5D%2C%20%5B39.006498%2C%20-77.06902%5D%2C%20%5B30.235256%2C%20-97.860649%5D%2C%20%5B36.160782%2C%20-95.93634%5D%2C%20%5B34.443853999999995%2C%20-119.789202%5D%2C%20%5B34.12081%2C%20-117.698505%5D%2C%20%5B41.800179%2C%20-77.048248%5D%2C%20%5B34.86623%2C%20-82.33206899999998%5D%2C%20%5B38.37229%2C%20-121.35774%5D%2C%20%5B39.681412%2C%20-84.22981999999998%5D%2C%20%5B37.66114%2C%20-122.40328999999998%5D%2C%20%5B28.5169%2C%20-81.38731999999997%5D%2C%20%5B36.043777%2C%20-86.670609%5D%2C%20%5B40.133617%2C%20-75.198029%5D%2C%20%5B34.21709%2C%20-80.592899%5D%2C%20%5B26.194528%2C%20-80.151325%5D%2C%20%5B37.254689%2C%20-121.792392%5D%2C%20%5B36.113747%2C%20-95.896133%5D%2C%20%5B36.177101%2C%20-95.959396%5D%2C%20%5B29.736166%2C%20-95.605843%5D%2C%20%5B47.708637%2C%20-122.33017%5D%2C%20%5B33.972725%2C%20-118.379417%5D%2C%20%5B42.43239000000001%2C%20-123.08413%5D%2C%20%5B42.00786%2C%20-87.78518000000003%5D%2C%20%5B35.148790000000005%2C%20-80.89699%5D%2C%20%5B25.781602%2C%20-80.336573%5D%2C%20%5B42.541748%2C%20-71.22251899999998%5D%2C%20%5B48.996948%2C%20-122.735001%5D%2C%20%5B42.99005%2C%20-71.41565%5D%2C%20%5B37.212668%2C%20-77.519979%5D%2C%20%5B32.69132800000001%2C%20-96.880681%5D%2C%20%5B39.64386%2C%20-84.1576%5D%2C%20%5B40.84584%2C%20-73.9302%5D%2C%20%5B39.69245%2C%20-86.18699000000002%5D%2C%20%5B34.03207800000001%2C%20-117.970637%5D%2C%20%5B40.36884000000001%2C%20-105.48226%5D%2C%20%5B44.93935%2C%20-93.34865%5D%2C%20%5B39.667782%2C%20-105.053261%5D%2C%20%5B32.69715%2C%20-97.06283%5D%2C%20%5B28.20863%2C%20-82.757301%5D%2C%20%5B42.336212%2C%20-83.090767%5D%2C%20%5B33.998940999999995%2C%20-117.370709%5D%2C%20%5B42.259132%2C%20-71.002617%5D%2C%20%5B33.901878%2C%20-118.286331%5D%2C%20%5B32.207001%2C%20-110.926659%5D%2C%20%5B38.929428%2C%20-77.518982%5D%2C%20%5B35.73504000000001%2C%20-78.79685%5D%2C%20%5B45.51628%2C%20-122.79965%5D%2C%20%5B39.53029%2C%20-75.65006%5D%2C%20%5B40.6996%2C%20-73.507942%5D%2C%20%5B40.59042%2C%20-76.41263000000002%5D%2C%20%5B37.617972%2C%20-122.151035%5D%2C%20%5B26.648315000000004%2C%20-81.862725%5D%2C%20%5B30.391937%2C%20-91.090851%5D%2C%20%5B35.832905%2C%20-78.56914499999998%5D%2C%20%5B34.403744%2C%20-118.456245%5D%2C%20%5B32.922940000000004%2C%20-96.71809%5D%2C%20%5B37.594158%2C%20-121.86895%5D%2C%20%5B39.959908%2C%20-75.22473000000002%5D%2C%20%5B28.337223%2C%20-81.403717%5D%2C%20%5B32.91486%2C%20-81.222412%5D%2C%20%5B34.11672%2C%20-117.82395%5D%2C%20%5B33.591753000000004%2C%20-117.513157%5D%2C%20%5B40.85002%2C%20-73.94399%5D%2C%20%5B32.908321%2C%20-96.897018%5D%2C%20%5B36.1175%2C%20-86.797234%5D%2C%20%5B33.931034000000004%2C%20-118.310972%5D%2C%20%5B41.625557%2C%20-71.175629%5D%2C%20%5B30.421389%2C%20-87.32868%5D%2C%20%5B34.01336%2C%20-81.14403%5D%2C%20%5B28.599148%2C%20-81.286613%5D%2C%20%5B34.316666999999995%2C%20-81.991651%5D%2C%20%5B45.177125%2C%20-123.103219%5D%2C%20%5B29.938473%2C%20-90.066826%5D%2C%20%5B42.396298%2C%20-83.108153%5D%2C%20%5B32.77421%2C%20-96.79054%5D%2C%20%5B35.21704099999999%2C%20-80.86200699999998%5D%2C%20%5B32.694931%2C%20-117.133797%5D%2C%20%5B38.724232%2C%20-121.28907%5D%2C%20%5B34.058818%2C%20-117.297828%5D%2C%20%5B37.98039%2C%20-122.055976%5D%2C%20%5B41.82722%2C%20-87.60207%5D%2C%20%5B33.84785%2C%20-118.28508%5D%2C%20%5B30.475462%2C%20-97.800475%5D%2C%20%5B37.317202%2C%20-121.94032%5D%2C%20%5B39.87589000000001%2C%20-75.01528%5D%2C%20%5B40.72208%2C%20-73.72528%5D%2C%20%5B28.724529%2C%20-81.670868%5D%2C%20%5B34.841654%2C%20-82.518683%5D%2C%20%5B42.36377%2C%20-87.835351%5D%2C%20%5B36.15313%2C%20-86.76451999999998%5D%2C%20%5B35.623638%2C%20-97.549561%5D%2C%20%5B34.26103%2C%20-119.228%5D%2C%20%5B40.362358%2C%20-122.278638%5D%2C%20%5B39.723457%2C%20-84.131416%5D%2C%20%5B44.10363%2C%20-102.70453%5D%2C%20%5B37.710225%2C%20-121.07929%5D%2C%20%5B40.66057%2C%20-111.90147%5D%2C%20%5B39.809492%2C%20-121.430871%5D%2C%20%5B30.278440000000003%2C%20-97.805901%5D%2C%20%5B38.606773%2C%20-121.43178600000002%5D%2C%20%5B35.18812600000001%2C%20-106.613922%5D%2C%20%5B34.087791%2C%20-81.635277%5D%2C%20%5B40.717333%2C%20-73.831211%5D%2C%20%5B35.320991%2C%20-93.186668%5D%2C%20%5B36.83735%2C%20-119.60995%5D%2C%20%5B41.226055%2C%20-95.946968%5D%2C%20%5B39.635513%2C%20-86.126785%5D%2C%20%5B43.179207%2C%20-77.65933199999998%5D%2C%20%5B40.73607%2C%20-73.92737%5D%2C%20%5B36.403245%2C%20-121.316393%5D%2C%20%5B34.111996000000005%2C%20-118.265465%5D%2C%20%5B33.194109999999995%2C%20-117.25917%5D%2C%20%5B36.158718%2C%20-95.975594%5D%2C%20%5B42.67175200000001%2C%20-84.54535600000001%5D%2C%20%5B47.92964600000001%2C%20-122.198387%5D%2C%20%5B43.11768%2C%20-83.928917%5D%2C%20%5B33.941178%2C%20-118.096711%5D%2C%20%5B30.270027%2C%20-97.731506%5D%2C%20%5B35.995665%2C%20-86.691147%5D%2C%20%5B29.700302%2C%20-95.517952%5D%2C%20%5B43.747577%2C%20-108.422334%5D%2C%20%5B47.997307%2C%20-122.17498%5D%2C%20%5B33.555574%2C%20-84.302452%5D%2C%20%5B44.401504%2C%20-121.19876%5D%2C%20%5B32.311251%2C%20-86.22182600000002%5D%2C%20%5B41.19225%2C%20-73.19478000000002%5D%2C%20%5B36.194614%2C%20-86.747749%5D%2C%20%5B36.17691%2C%20-86.774551%5D%2C%20%5B33.982369%2C%20-118.280407%5D%2C%20%5B38.660723%2C%20-121.327363%5D%2C%20%5B47.82835%2C%20-122.30892%5D%2C%20%5B38.815716%2C%20-77.13789399999997%5D%2C%20%5B38.970943%2C%20-94.776558%5D%2C%20%5B35.019061%2C%20-82.479722%5D%2C%20%5B42.369736%2C%20-88.16941%5D%2C%20%5B32.83768%2C%20-97.0909%5D%2C%20%5B37.679863%2C%20-121.049706%5D%2C%20%5B34.97831%2C%20-82.011902%5D%2C%20%5B43.030762%2C%20-83.517967%5D%2C%20%5B35.39147600000001%2C%20-97.530113%5D%2C%20%5B35.33392%2C%20-97.723831%5D%2C%20%5B35.223743%2C%20-80.866493%5D%2C%20%5B31.73905%2C%20-106.32526%5D%2C%20%5B44.305561%2C%20-88.248901%5D%2C%20%5B31.417154%2C%20-85.317424%5D%2C%20%5B34.769512%2C%20-82.537092%5D%2C%20%5B35.493294%2C%20-97.607849%5D%2C%20%5B44.84091%2C%20-93.18669%5D%2C%20%5B34.425117%2C%20-118.423637%5D%2C%20%5B38.714554%2C%20-90.447495%5D%2C%20%5B33.933468%2C%20-84.35773499999998%5D%2C%20%5B34.671445%2C%20-84.710448%5D%2C%20%5B40.171909%2C%20-76.176346%5D%2C%20%5B30.75773%2C%20-88.220802%5D%2C%20%5B33.8764%2C%20-117.66024%5D%2C%20%5B39.01708%2C%20-77.10181999999998%5D%2C%20%5B40.639874%2C%20-74.290482%5D%2C%20%5B43.024181%2C%20-88.102158%5D%2C%20%5B34.159012%2C%20-82.406364%5D%2C%20%5B35.871948%2C%20-84.444496%5D%2C%20%5B34.030311%2C%20-117.6967%5D%2C%20%5B44.907377%2C%20-124.006108%5D%2C%20%5B37.675173%2C%20-122.057915%5D%2C%20%5B33.776333%2C%20-84.387291%5D%2C%20%5B25.92094%2C%20-80.195992%5D%2C%20%5B43.032978%2C%20-83.726913%5D%2C%20%5B30.387026%2C%20-97.648537%5D%2C%20%5B30.6612%2C%20-88.19059%5D%2C%20%5B34.233439000000004%2C%20-118.409792%5D%2C%20%5B25.919963%2C%20-80.12255%5D%2C%20%5B28.850145%2C%20-81.162079%5D%2C%20%5B33.86068%2C%20-84.48093%5D%2C%20%5B41.16655%2C%20-73.21325%5D%2C%20%5B44.923279%2C%20-93.401566%5D%2C%20%5B34.072817%2C%20-117.775346%5D%2C%20%5B40.432228%2C%20-111.891518%5D%2C%20%5B29.937917%2C%20-95.397652%5D%2C%20%5B30.306999%2C%20-97.724625%5D%2C%20%5B47.78418%2C%20-122.31665%5D%2C%20%5B34.49926%2C%20-82.68199200000002%5D%2C%20%5B30.451904%2C%20-86.638504%5D%2C%20%5B30.537066%2C%20-88.240219%5D%2C%20%5B37.77544%2C%20-122.40593%5D%2C%20%5B34.081132000000004%2C%20-117.200526%5D%2C%20%5B33.70644%2C%20-117.779%5D%2C%20%5B25.733207%2C%20-80.328248%5D%2C%20%5B29.699125%2C%20-95.405792%5D%2C%20%5B35.84111%2C%20-78.611778%5D%2C%20%5B33.5949%2C%20-117.1772%5D%2C%20%5B32.663124%2C%20-86.50284599999998%5D%2C%20%5B35.082321%2C%20-81.706451%5D%2C%20%5B33.740631%2C%20-84.391212%5D%2C%20%5B38.5611%2C%20-77.38469%5D%2C%20%5B27.930153000000004%2C%20-82.350982%5D%2C%20%5B35.105202%2C%20-80.80792199999998%5D%2C%20%5B36.18819000000001%2C%20-84.144859%5D%2C%20%5B34.267757%2C%20-118.636475%5D%2C%20%5B47.55635%2C%20-122.19069%5D%2C%20%5B37.57598%2C%20-121.88112%5D%2C%20%5B30.236343%2C%20-81.514297%5D%2C%20%5B32.41064%2C%20-93.75172%5D%2C%20%5B35.113820000000004%2C%20-85.26007%5D%2C%20%5B33.774809999999995%2C%20-118.08504%5D%2C%20%5B43.005779%2C%20-83.497536%5D%2C%20%5B43.234932%2C%20-75.708076%5D%2C%20%5B45.445381%2C%20-122.642847%5D%2C%20%5B36.692446%2C%20-119.736427%5D%2C%20%5B34.029102%2C%20-118.21883400000002%5D%2C%20%5B33.699333%2C%20-112.02571100000002%5D%2C%20%5B41.6171%2C%20-72.69575999999998%5D%2C%20%5B26.659699%2C%20-81.731542%5D%2C%20%5B47.669613%2C%20-122.186859%5D%2C%20%5B38.77169%2C%20-90.409187%5D%2C%20%5B27.10925%2C%20-82.37756%5D%2C%20%5B41.10761%2C%20-73.41736999999998%5D%2C%20%5B42.16112%2C%20-88.05063%5D%2C%20%5B34.323666%2C%20-118.460274%5D%2C%20%5B30.450071%2C%20-97.696732%5D%2C%20%5B35.348313%2C%20-80.847567%5D%2C%20%5B42.932735%2C%20-85.657158%5D%2C%20%5B28.921282%2C%20-81.297676%5D%2C%20%5B43.570118%2C%20-89.77825899999998%5D%2C%20%5B28.29162%2C%20-82.675842%5D%2C%20%5B32.56012%2C%20-96.822464%5D%2C%20%5B41.99341%2C%20-87.86685%5D%2C%20%5B29.678802%2C%20-95.403061%5D%2C%20%5B44.970352%2C%20-93.351013%5D%2C%20%5B37.990133%2C%20-121.187693%5D%2C%20%5B38.022572%2C%20-122.54158%5D%2C%20%5B32.8224%2C%20-97.07013%5D%2C%20%5B33.928903000000005%2C%20-118.293067%5D%2C%20%5B47.86747%2C%20-122.276733%5D%2C%20%5B45.527143%2C%20-122.66536%5D%2C%20%5B29.59688%2C%20-95.38635%5D%2C%20%5B41.66246%2C%20-71.49046%5D%2C%20%5B34.211211%2C%20-80.530631%5D%2C%20%5B27.77375%2C%20-82.6795%5D%2C%20%5B34.38401%2C%20-118.568253%5D%2C%20%5B32.844228%2C%20-117.119176%5D%2C%20%5B35.75349%2C%20-78.65245%5D%2C%20%5B43.655654%2C%20-123.811859%5D%2C%20%5B25.759967%2C%20-80.385428%5D%2C%20%5B33.171496999999995%2C%20-86.77718399999998%5D%2C%20%5B44.6546%2C%20-121.11263%5D%2C%20%5B34.019659999999995%2C%20-117.55009%5D%2C%20%5B36.22089%2C%20-86.77469599999998%5D%2C%20%5B38.369461%2C%20-90.382957%5D%2C%20%5B40.616287%2C%20-74.285011%5D%2C%20%5B30.574305%2C%20-88.182541%5D%2C%20%5B37.783409000000006%2C%20-121.246284%5D%2C%20%5B34.033961%2C%20-118.027414%5D%2C%20%5B40.993798%2C%20-78.31127%5D%2C%20%5B35.795898%2C%20-78.65412099999998%5D%2C%20%5B34.119554%2C%20-117.766238%5D%2C%20%5B41.598831%2C%20-93.497147%5D%2C%20%5B34.035354%2C%20-118.328901%5D%2C%20%5B33.523117%2C%20-81.780712%5D%2C%20%5B29.755905%2C%20-95.63295%5D%2C%20%5B32.365790000000004%2C%20-86.27452%5D%2C%20%5B34.05165%2C%20-118.21391%5D%2C%20%5B38.5412%2C%20-90.41925%5D%2C%20%5B29.73041%2C%20-95.358101%5D%2C%20%5B36.032803%2C%20-86.768906%5D%2C%20%5B33.964802%2C%20-117.686716%5D%2C%20%5B30.17437%2C%20-97.784843%5D%2C%20%5B37.630173%2C%20-122.43483700000002%5D%2C%20%5B41.873001%2C%20-71.387245%5D%2C%20%5B44.07783%2C%20-123.04729%5D%2C%20%5B38.75734%2C%20-90.46371%5D%2C%20%5B39.937119%2C%20-75.363846%5D%2C%20%5B26.170547%2C%20-80.8563%5D%2C%20%5B42.964386%2C%20-83.928848%5D%2C%20%5B35.83043%2C%20-119.25976%5D%2C%20%5B33.754379%2C%20-84.3787%5D%2C%20%5B42.49334%2C%20-83.30003%5D%2C%20%5B47.276543%2C%20-122.312148%5D%2C%20%5B41.71152%2C%20-72.58689%5D%2C%20%5B38.61778%2C%20-90.19109%5D%2C%20%5B34.933%2C%20-82.000739%5D%2C%20%5B33.490396999999994%2C%20-117.144437%5D%2C%20%5B33.787614000000005%2C%20-84.492265%5D%2C%20%5B42.240044%2C%20-87.86274%5D%2C%20%5B33.85532%2C%20-84.24665%5D%2C%20%5B38.491456%2C%20-121.456766%5D%2C%20%5B34.990302%2C%20-85.291674%5D%2C%20%5B37.637871%2C%20-77.564079%5D%2C%20%5B38.003448%2C%20-84.519386%5D%2C%20%5B41.80121%2C%20-112.30948%5D%2C%20%5B28.5585%2C%20-81.44901999999998%5D%2C%20%5B45.74434%2C%20-119.097252%5D%2C%20%5B42.19434%2C%20-71.84839000000002%5D%2C%20%5B40.694807%2C%20-74.26119399999997%5D%2C%20%5B25.629391%2C%20-80.340942%5D%2C%20%5B38.870293%2C%20-94.526398%5D%2C%20%5B33.180996%2C%20-117.305099%5D%2C%20%5B32.939262%2C%20-80.04731%5D%2C%20%5B43.04784%2C%20-77.646973%5D%2C%20%5B29.737653%2C%20-95.50507%5D%2C%20%5B41.08914%2C%20-112.046126%5D%2C%20%5B29.493893%2C%20-98.704544%5D%2C%20%5B35.749391%2C%20-78.87619000000002%5D%2C%20%5B34.186646%2C%20-118.474262%5D%2C%20%5B28.534735%2C%20-81.414249%5D%2C%20%5B36.294979%2C%20-86.693184%5D%2C%20%5B45.16567%2C%20-93.39131%5D%2C%20%5B33.95903%2C%20-117.30942%5D%2C%20%5B45.294408%2C%20-118.037314%5D%2C%20%5B33.46178%2C%20-112.12223%5D%2C%20%5B34.695679%2C%20-82.25692%5D%2C%20%5B34.05842%2C%20-118.1779%5D%2C%20%5B41.585575%2C%20-93.619179%5D%2C%20%5B40.643242%2C%20-73.876137%5D%2C%20%5B43.10795%2C%20-88.0579%5D%2C%20%5B45.541504%2C%20-122.294617%5D%2C%20%5B34.921745%2C%20-81.988892%5D%2C%20%5B45.12129%2C%20-93.18865%5D%2C%20%5B37.688736%2C%20-122.13533%5D%2C%20%5B34.0457%2C%20-80.942612%5D%2C%20%5B37.361937%2C%20-121.903449%5D%2C%20%5B29.86697%2C%20-95.54106%5D%2C%20%5B33.753288%2C%20-84.378731%5D%2C%20%5B45.51153%2C%20-92.97053%5D%2C%20%5B37.368589%2C%20-121.825662%5D%2C%20%5B39.61761%2C%20-77.78631999999998%5D%2C%20%5B30.378481%2C%20-97.688316%5D%2C%20%5B33.500217%2C%20-82.082268%5D%2C%20%5B34.081623%2C%20-117.71933%5D%2C%20%5B40.144054%2C%20-75.464607%5D%2C%20%5B38.97152%2C%20-123.027573%5D%2C%20%5B32.843920000000004%2C%20-96.63466%5D%2C%20%5B34.155120000000004%2C%20-118.27029%5D%2C%20%5B41.512432%2C%20-71.692238%5D%2C%20%5B36.994145%2C%20-120.09841000000002%5D%2C%20%5B39.922192%2C%20-75.086624%5D%2C%20%5B27.462505%2C%20-82.589261%5D%2C%20%5B39.071428%2C%20-94.520882%5D%2C%20%5B40.69057%2C%20-73.99886%5D%2C%20%5B30.462145%2C%20-91.13945%5D%2C%20%5B30.19438%2C%20-92.01609%5D%2C%20%5B40.478191%2C%20-79.967857%5D%2C%20%5B32.871857%2C%20-96.770248%5D%2C%20%5B34.036812%2C%20-118.317719%5D%2C%20%5B29.599255%2C%20-95.216026%5D%2C%20%5B41.92638%2C%20-88.072067%5D%2C%20%5B29.703861%2C%20-95.575386%5D%2C%20%5B38.207497%2C%20-85.750984%5D%2C%20%5B30.454418%2C%20-97.826859%5D%2C%20%5B38.610249%2C%20-121.364525%5D%2C%20%5B35.432327%2C%20-80.662132%5D%2C%20%5B26.35056%2C%20-80.12871%5D%2C%20%5B33.97757%2C%20-80.931252%5D%2C%20%5B37.721619%2C%20-77.44916500000002%5D%2C%20%5B31.235951%2C%20-85.460375%5D%2C%20%5B27.960595%2C%20-82.72573299999998%5D%2C%20%5B33.872608%2C%20-118.284798%5D%2C%20%5B32.76213%2C%20-96.85659%5D%2C%20%5B33.654796999999995%2C%20-112.114601%5D%2C%20%5B27.700651%2C%20-82.455322%5D%2C%20%5B39.55155%2C%20-104.86934%5D%2C%20%5B29.77068%2C%20-95.16908%5D%2C%20%5B42.956924%2C%20-85.671562%5D%2C%20%5B44.0071%2C%20-116.94153%5D%2C%20%5B40.907271%2C%20-74.708232%5D%2C%20%5B35.363289%2C%20-97.529991%5D%2C%20%5B33.016365%2C%20-96.829697%5D%2C%20%5B33.154522%2C%20-117.211273%5D%2C%20%5B39.825405%2C%20-75.083199%5D%2C%20%5B40.70201%2C%20-73.86716%5D%2C%20%5B42.42835%2C%20-85.54341%5D%2C%20%5B41.81013%2C%20-88.05958000000003%5D%2C%20%5B40.731991%2C%20-74.045582%5D%2C%20%5B34.0366%2C%20-118.37637%5D%2C%20%5B37.915427%2C%20-122.326949%5D%2C%20%5B40.00663%2C%20-75.7461%5D%2C%20%5B34.22136%2C%20-118.47331%5D%2C%20%5B27.867412%2C%20-82.625339%5D%2C%20%5B40.963071%2C%20-75.28380200000002%5D%2C%20%5B44.420883%2C%20-124.074805%5D%2C%20%5B40.810268%2C%20-76.104462%5D%2C%20%5B35.109898%2C%20-81.60192099999998%5D%2C%20%5B40.22264000000001%2C%20-76.0966%5D%2C%20%5B34.188664%2C%20-86.916901%5D%2C%20%5B38.430065%2C%20-78.874702%5D%2C%20%5B41.07405900000001%2C%20-111.976814%5D%2C%20%5B38.956573%2C%20-84.634727%5D%2C%20%5B32.20683%2C%20-110.87509%5D%2C%20%5B35.330055%2C%20-118.80946000000002%5D%2C%20%5B28.540195%2C%20-81.55708100000003%5D%2C%20%5B47.59744%2C%20-122.32078%5D%2C%20%5B43.134995%2C%20-76.077911%5D%2C%20%5B42.290868%2C%20-87.890962%5D%2C%20%5B33.493053%2C%20-81.916809%5D%2C%20%5B36.876452%2C%20-76.198656%5D%2C%20%5B39.88766%2C%20-86.26949%5D%2C%20%5B43.001545%2C%20-83.80070500000002%5D%2C%20%5B40.67012%2C%20-73.95529%5D%2C%20%5B37.66449%2C%20-121.02931%5D%2C%20%5B41.880501%2C%20-88.018242%5D%2C%20%5B40.088074%2C%20-82.798546%5D%2C%20%5B28.067225%2C%20-82.738968%5D%2C%20%5B37.103741%2C%20-121.976109%5D%2C%20%5B40.835648%2C%20-111.915665%5D%2C%20%5B41.467656%2C%20-95.899778%5D%2C%20%5B43.108104%2C%20-75.256148%5D%2C%20%5B33.876926%2C%20-118.15123%5D%2C%20%5B34.09213%2C%20-118.47575%5D%2C%20%5B41.707771%2C%20-72.64518000000002%5D%2C%20%5B33.647003000000005%2C%20-84.447037%5D%2C%20%5B40.88272%2C%20-74.21053%5D%2C%20%5B33.480682%2C%20-117.140945%5D%2C%20%5B45.843325%2C%20-123.522887%5D%2C%20%5B40.07865%2C%20-75.86072%5D%2C%20%5B34.793186%2C%20-82.25625600000002%5D%2C%20%5B33.614681%2C%20-117.707783%5D%2C%20%5B35.25757%2C%20-80.84143%5D%2C%20%5B34.316272999999995%2C%20-118.490082%5D%2C%20%5B38.574917%2C%20-121.550362%5D%2C%20%5B39.560379%2C%20-107.3601%5D%2C%20%5B25.78439%2C%20-80.29283000000002%5D%2C%20%5B40.837007%2C%20-73.82526%5D%2C%20%5B44.966033%2C%20-93.262542%5D%2C%20%5B28.512932%2C%20-81.376297%5D%2C%20%5B29.434681%2C%20-98.553673%5D%2C%20%5B29.741524%2C%20-95.450142%5D%2C%20%5B36.867395%2C%20-79.406198%5D%2C%20%5B37.496212%2C%20-122.232376%5D%2C%20%5B40.195648%2C%20-75.24571999999998%5D%2C%20%5B30.315781%2C%20-97.701477%5D%2C%20%5B37.37490800000001%2C%20-121.932358%5D%2C%20%5B26.325%2C%20-80.11683000000002%5D%2C%20%5B25.96702%2C%20-80.165701%5D%2C%20%5B34.036079%2C%20-118.093018%5D%2C%20%5B47.667948%2C%20-122.322382%5D%2C%20%5B37.158761%2C%20-121.982571%5D%2C%20%5B37.84193%2C%20-122.29746000000002%5D%2C%20%5B29.842855%2C%20-95.390884%5D%2C%20%5B39.411301%2C%20-76.664375%5D%2C%20%5B34.750609999999995%2C%20-86.698891%5D%2C%20%5B34.054203%2C%20-118.203196%5D%2C%20%5B33.88325%2C%20-117.54282%5D%2C%20%5B44.96602%2C%20-93.26571%5D%2C%20%5B38.014961%2C%20-122.269531%5D%2C%20%5B37.10413%2C%20-121.61116%5D%2C%20%5B40.71824%2C%20-112.07894%5D%2C%20%5B47.053047%2C%20-122.294777%5D%2C%20%5B34.274640000000005%2C%20-118.4934%5D%2C%20%5B43.12682%2C%20-77.55328%5D%2C%20%5B29.835679%2C%20-95.5637%5D%2C%20%5B38.118576%2C%20-122.285304%5D%2C%20%5B33.377739%2C%20-112.039459%5D%2C%20%5B45.250729%2C%20-93.024628%5D%2C%20%5B40.006554%2C%20-75.28325699999998%5D%2C%20%5B34.200909%2C%20-118.473424%5D%2C%20%5B29.814791%2C%20-95.37606%5D%2C%20%5B39.254646%2C%20-94.658272%5D%2C%20%5B28.523062%2C%20-82.237206%5D%2C%20%5B45.269476%2C%20-121.189595%5D%2C%20%5B30.488661%2C%20-87.196777%5D%2C%20%5B33.77678%2C%20-84.60206%5D%2C%20%5B30.16713%2C%20-97.788521%5D%2C%20%5B36.110977%2C%20-86.745216%5D%2C%20%5B39.82449%2C%20-74.928085%5D%2C%20%5B33.84197%2C%20-84.24764%5D%2C%20%5B25.559015%2C%20-80.37215400000002%5D%2C%20%5B35.835374%2C%20-78.669565%5D%2C%20%5B40.59292%2C%20-111.90218%5D%2C%20%5B30.289194%2C%20-97.707222%5D%2C%20%5B47.621215%2C%20-116.577233%5D%2C%20%5B44.09462%2C%20-123.16978%5D%2C%20%5B38.816765%2C%20-120.02793%5D%2C%20%5B32.92551%2C%20-96.803535%5D%2C%20%5B33.89459%2C%20-117.5577%5D%2C%20%5B29.772203%2C%20-95.36586%5D%2C%20%5B34.867161%2C%20-82.23689300000002%5D%2C%20%5B38.802317%2C%20-121.206312%5D%2C%20%5B39.050713%2C%20-76.93085500000002%5D%2C%20%5B38.776337%2C%20-104.815521%5D%2C%20%5B41.49673%2C%20-77.1417%5D%2C%20%5B39.80314%2C%20-86.03228%5D%2C%20%5B42.219479%2C%20-87.994293%5D%2C%20%5B43.00917800000001%2C%20-83.686348%5D%2C%20%5B29.813702000000006%2C%20-95.411255%5D%2C%20%5B27.84679%2C%20-82.34728%5D%2C%20%5B33.901245%2C%20-80.093117%5D%2C%20%5B43.060432%2C%20-83.783752%5D%2C%20%5B42.742554%2C%20-73.69747199999998%5D%2C%20%5B33.880151%2C%20-117.565244%5D%2C%20%5B30.455412%2C%20-87.24028%5D%2C%20%5B29.259329%2C%20-82.086781%5D%2C%20%5B45.436199%2C%20-122.566429%5D%2C%20%5B42.69107800000001%2C%20-114.850616%5D%2C%20%5B33.88136%2C%20-117.64972%5D%2C%20%5B34.063788%2C%20-117.286662%5D%2C%20%5B47.695969%2C%20-122.339676%5D%2C%20%5B30.389154%2C%20-91.169365%5D%2C%20%5B37.088932%2C%20-121.59922%5D%2C%20%5B33.976826%2C%20-80.933151%5D%2C%20%5B33.400478%2C%20-111.848503%5D%2C%20%5B37.974312%2C%20-84.522636%5D%2C%20%5B25.766205%2C%20-80.200417%5D%2C%20%5B42.405151%2C%20-71.005081%5D%2C%20%5B41.864002%2C%20-88.14280699999998%5D%2C%20%5B32.63948%2C%20-117.10009%5D%2C%20%5B32.946987%2C%20-117.106567%5D%2C%20%5B47.618523%2C%20-122.335381%5D%2C%20%5B34.222241%2C%20-119.136637%5D%2C%20%5B35.917488%2C%20-78.78909300000002%5D%2C%20%5B34.06758%2C%20-117.56363%5D%2C%20%5B33.3857%2C%20-111.93489%5D%2C%20%5B29.78413%2C%20-95.521187%5D%2C%20%5B37.292198%2C%20-121.937386%5D%2C%20%5B37.375214%2C%20-120.688652%5D%2C%20%5B35.530048%2C%20-97.574562%5D%2C%20%5B42.74527%2C%20-84.508278%5D%2C%20%5B29.997078%2C%20-90.142838%5D%2C%20%5B43.00625%2C%20-78.95132%5D%2C%20%5B40.58775%2C%20-111.91054%5D%2C%20%5B46.489529%2C%20-112.095555%5D%2C%20%5B37.851328%2C%20-122.222873%5D%2C%20%5B33.787754%2C%20-117.87977%5D%2C%20%5B32.632604%2C%20-96.943224%5D%2C%20%5B36.126313%2C%20-115.18079%5D%2C%20%5B42.87998%2C%20-71.34405%5D%2C%20%5B47.60268%2C%20-122.322166%5D%2C%20%5B34.012234%2C%20-118.418549%5D%2C%20%5B36.21826%2C%20-115.26045%5D%2C%20%5B37.528697%2C%20-122.514596%5D%2C%20%5B43.279153%2C%20-75.628381%5D%2C%20%5B38.812304%2C%20-76.057609%5D%2C%20%5B27.8211%2C%20-82.681549%5D%2C%20%5B41.06693%2C%20-73.866796%5D%2C%20%5B30.408453%2C%20-97.680336%5D%2C%20%5B45.147317%2C%20-93.270696%5D%2C%20%5B39.89272%2C%20-83.03796%5D%2C%20%5B36.0914%2C%20-96.006554%5D%2C%20%5B33.15065%2C%20-96.66331%5D%2C%20%5B33.66917%2C%20-112.05281200000002%5D%2C%20%5B47.547359%2C%20-122.320122%5D%2C%20%5B28.337290000000007%2C%20-81.37875%5D%2C%20%5B39.80573%2C%20-86.27521%5D%2C%20%5B29.98842%2C%20-90.07445%5D%2C%20%5B33.798164%2C%20-118.283079%5D%2C%20%5B33.970552000000005%2C%20-118.375228%5D%2C%20%5B32.73979%2C%20-96.82282%5D%2C%20%5B45.55981%2C%20-122.17327%5D%2C%20%5B38.236877%2C%20-122.09967%5D%2C%20%5B33.909186%2C%20-118.326501%5D%2C%20%5B34.060233000000004%2C%20-118.214869%5D%2C%20%5B42.363919%2C%20-87.96351%5D%2C%20%5B34.184372%2C%20-118.910812%5D%2C%20%5B33.12146%2C%20-117.10221%5D%2C%20%5B31.798063%2C%20-106.332603%5D%2C%20%5B32.133765999999994%2C%20-110.996277%5D%2C%20%5B38.25399%2C%20-122.066521%5D%2C%20%5B30.04465%2C%20-95.43013%5D%2C%20%5B41.87562%2C%20-87.62133%5D%2C%20%5B41.76169%2C%20-87.62589%5D%2C%20%5B29.544851%2C%20-98.57901%5D%2C%20%5B37.629143%2C%20-121.80217%5D%2C%20%5B34.9352%2C%20-120.546432%5D%2C%20%5B27.40958%2C%20-80.38822900000002%5D%2C%20%5B33.87608%2C%20-118.12872%5D%2C%20%5B25.86293%2C%20-80.32267%5D%2C%20%5B37.328413%2C%20-122.009901%5D%2C%20%5B34.02196%2C%20-118.27784%5D%2C%20%5B35.154079%2C%20-89.88713800000002%5D%2C%20%5B37.500126%2C%20-121.928566%5D%2C%20%5B33.912194%2C%20-84.207892%5D%2C%20%5B30.947195%2C%20-97.538857%5D%2C%20%5B39.72628%2C%20-86.04665%5D%2C%20%5B39.85519%2C%20-75.097852%5D%2C%20%5B40.310707%2C%20-79.619598%5D%2C%20%5B32.221471%2C%20-82.423158%5D%2C%20%5B29.772163%2C%20-95.382782%5D%2C%20%5B34.12117%2C%20-117.83276%5D%2C%20%5B42.19968%2C%20-84.370071%5D%2C%20%5B32.66791%2C%20-97.31508%5D%2C%20%5B39.018031%2C%20-95.501077%5D%2C%20%5B28.552809000000003%2C%20-81.413841%5D%2C%20%5B34.055695%2C%20-118.451965%5D%2C%20%5B34.07994%2C%20-117.73774%5D%2C%20%5B25.808804%2C%20-80.24979%5D%2C%20%5B37.491524%2C%20-122.219604%5D%2C%20%5B43.086349%2C%20-85.556412%5D%2C%20%5B44.124588%2C%20-70.004586%5D%2C%20%5B36.20702%2C%20-86.776199%5D%2C%20%5B37.73203%2C%20-122.43219%5D%2C%20%5B26.74028%2C%20-81.761009%5D%2C%20%5B41.524683%2C%20-73.885728%5D%2C%20%5B25.87285%2C%20-80.210083%5D%2C%20%5B47.578346%2C%20-122.304352%5D%2C%20%5B37.595844%2C%20-122.059029%5D%2C%20%5B26.06663%2C%20-80.165297%5D%2C%20%5B35.19271%2C%20-89.9935%5D%2C%20%5B30.349390000000003%2C%20-97.53894%5D%2C%20%5B40.083522%2C%20-75.296766%5D%2C%20%5B25.78784%2C%20-80.209907%5D%2C%20%5B37.34502%2C%20-121.84407%5D%2C%20%5B40.68218%2C%20-73.69168%5D%2C%20%5B38.631279%2C%20-121.504837%5D%2C%20%5B39.014805%2C%20-94.693275%5D%2C%20%5B38.470707%2C%20-121.427193%5D%2C%20%5B33.77275%2C%20-84.55190999999998%5D%2C%20%5B39.78743%2C%20-84.25376899999998%5D%2C%20%5B41.261806%2C%20-96.052544%5D%2C%20%5B41.991415%2C%20-75.338542%5D%2C%20%5B37.995818%2C%20-122.06646299999998%5D%2C%20%5B37.887403000000006%2C%20-121.696438%5D%2C%20%5B25.882286%2C%20-80.208896%5D%2C%20%5B36.855137%2C%20-121.363631%5D%2C%20%5B40.809853%2C%20-73.378693%5D%2C%20%5B38.120548%2C%20-122.230469%5D%2C%20%5B29.733362%2C%20-95.773071%5D%2C%20%5B40.094875%2C%20-75.290787%5D%2C%20%5B38.524895%2C%20-121.467789%5D%2C%20%5B35.026821000000005%2C%20-85.172714%5D%2C%20%5B43.232801%2C%20-118.494652%5D%2C%20%5B38.596377%2C%20-121.443656%5D%2C%20%5B44.231653%2C%20-121.203627%5D%2C%20%5B40.181229%2C%20-76.181938%5D%2C%20%5B38.79303400000001%2C%20-77.539277%5D%2C%20%5B39.84283%2C%20-104.984117%5D%2C%20%5B33.870564%2C%20-98.535759%5D%2C%20%5B27.33432%2C%20-82.26944%5D%2C%20%5B29.61454%2C%20-95.203079%5D%2C%20%5B38.96458%2C%20-76.93911%5D%2C%20%5B34.13473%2C%20-117.62466%5D%2C%20%5B30.419161%2C%20-91.067589%5D%2C%20%5B26.454081%2C%20-80.174438%5D%2C%20%5B35.21126599999999%2C%20-80.835426%5D%2C%20%5B44.73842%2C%20-92.928493%5D%2C%20%5B34.456458000000005%2C%20-117.356926%5D%2C%20%5B32.513416%2C%20-93.73669%5D%2C%20%5B35.0138%2C%20-85.53785%5D%2C%20%5B39.96599000000001%2C%20-75.18667099999998%5D%2C%20%5B29.822277000000003%2C%20-95.488792%5D%2C%20%5B25.761607%2C%20-80.348261%5D%2C%20%5B38.098278%2C%20-84.513664%5D%2C%20%5B37.60589%2C%20-120.97343%5D%2C%20%5B41.86603%2C%20-71.40269%5D%2C%20%5B30.719076%2C%20-95.551437%5D%2C%20%5B38.31734%2C%20-85.5761%5D%2C%20%5B33.968144%2C%20-118.167655%5D%2C%20%5B37.7009%2C%20-121.79503%5D%2C%20%5B39.886512%2C%20-75.060572%5D%2C%20%5B33.904141%2C%20-84.4358%5D%2C%20%5B34.756229%2C%20-80.78208199999997%5D%2C%20%5B43.97853900000001%2C%20-94.549377%5D%2C%20%5B35.7578%2C%20-78.60785%5D%2C%20%5B36.993835%2C%20-80.792648%5D%2C%20%5B33.88469%2C%20-117.52153%5D%2C%20%5B33.74126%2C%20-78.94573000000003%5D%2C%20%5B38.886703%2C%20-77.227249%5D%2C%20%5B32.76877%2C%20-97.06275%5D%2C%20%5B41.38604%2C%20-112.04204%5D%2C%20%5B40.265633%2C%20-75.649612%5D%2C%20%5B38.506008%2C%20-121.464592%5D%2C%20%5B34.145805%2C%20-81.23786199999998%5D%2C%20%5B29.787958000000003%2C%20-95.644638%5D%2C%20%5B32.79245%2C%20-96.685036%5D%2C%20%5B40.71732%2C%20-73.8312%5D%2C%20%5B29.66337%2C%20-95.464172%5D%2C%20%5B45.01311%2C%20-93.28273%5D%2C%20%5B29.938%2C%20-90.04115%5D%2C%20%5B41.20527%2C%20-95.9962%5D%2C%20%5B39.74944%2C%20-75.50676%5D%2C%20%5B40.18671%2C%20-75.143425%5D%2C%20%5B32.9763%2C%20-117.25161%5D%2C%20%5B37.15063%2C%20-121.628759%5D%2C%20%5B36.133484%2C%20-96.016029%5D%2C%20%5B34.073856%2C%20-117.90773%5D%2C%20%5B38.663995%2C%20-121.224858%5D%2C%20%5B37.36404%2C%20-121.8435%5D%2C%20%5B37.11479%2C%20-121.62333%5D%2C%20%5B40.69045%2C%20-73.57224000000002%5D%2C%20%5B41.214291%2C%20-73.810516%5D%2C%20%5B35.72623400000001%2C%20-78.851448%5D%2C%20%5B25.782515%2C%20-80.22274%5D%2C%20%5B45.53309%2C%20-122.56441%5D%2C%20%5B33.918620000000004%2C%20-116.77986%5D%2C%20%5B35.726791%2C%20-79.934601%5D%2C%20%5B30.332344%2C%20-97.73465%5D%2C%20%5B28.356140000000003%2C%20-81.4562%5D%2C%20%5B41.161777%2C%20-96.142883%5D%2C%20%5B26.002439000000006%2C%20-80.339573%5D%2C%20%5B30.386341%2C%20-91.149506%5D%2C%20%5B40.59121%2C%20-111.90138%5D%2C%20%5B28.36891%2C%20-81.367104%5D%2C%20%5B38.884586%2C%20-77.22577700000002%5D%2C%20%5B41.115948%2C%20-111.763799%5D%2C%20%5B39.28989%2C%20-84.32052%5D%2C%20%5B38.56030300000001%2C%20-121.457306%5D%2C%20%5B32.041346999999995%2C%20-81.022186%5D%2C%20%5B29.741343%2C%20-95.453438%5D%2C%20%5B39.009544%2C%20-76.50056500000002%5D%2C%20%5B40.112671%2C%20-75.343086%5D%2C%20%5B34.31596%2C%20-77.91601999999997%5D%2C%20%5B33.52111%2C%20-86.84549%5D%2C%20%5B38.988232%2C%20-77.525362%5D%2C%20%5B33.796516%2C%20-117.230972%5D%2C%20%5B34.34461%2C%20-118.50483%5D%2C%20%5B34.03518%2C%20-118.15012%5D%2C%20%5B36.089939%2C%20-95.868668%5D%2C%20%5B44.629444%2C%20-122.951552%5D%2C%20%5B26.166955%2C%20-81.192601%5D%2C%20%5B37.056116%2C%20-121.59369%5D%2C%20%5B38.87433%2C%20-76.97278%5D%2C%20%5B40.632706%2C%20-74.21127299999998%5D%2C%20%5B34.206612%2C%20-79.79879%5D%2C%20%5B33.661%2C%20-117.74837%5D%2C%20%5B35.10556%2C%20-106.629211%5D%2C%20%5B40.6987%2C%20-73.52181999999998%5D%2C%20%5B36.139847%2C%20-86.72647099999998%5D%2C%20%5B32.74284%2C%20-97.062263%5D%2C%20%5B32.799171%2C%20-80.129227%5D%2C%20%5B40.577946%2C%20-74.102325%5D%2C%20%5B40.89775%2C%20-73.79701999999997%5D%2C%20%5B39.922439%2C%20-86.033206%5D%2C%20%5B35.218356%2C%20-112.343152%5D%2C%20%5B34.05664%2C%20-84.59952%5D%2C%20%5B36.147217%2C%20-86.74363699999998%5D%2C%20%5B39.9873%2C%20-111.76473%5D%2C%20%5B41.03674%2C%20-73.67549%5D%2C%20%5B41.980301%2C%20-83.373024%5D%2C%20%5B35.478722%2C%20-97.547798%5D%2C%20%5B33.46133%2C%20-112.15179%5D%2C%20%5B36.561666%2C%20-119.817873%5D%2C%20%5B35.836788%2C%20-78.601845%5D%2C%20%5B39.139107%2C%20-77.60505699999999%5D%2C%20%5B33.904089%2C%20-117.559784%5D%2C%20%5B40.13195%2C%20-77.01876%5D%2C%20%5B36.14314%2C%20-86.685017%5D%2C%20%5B25.882663%2C%20-80.248667%5D%2C%20%5B33.387344%2C%20-111.960999%5D%2C%20%5B25.589033%2C%20-80.35947900000002%5D%2C%20%5B34.030045%2C%20-117.706848%5D%2C%20%5B44.42533%2C%20-121.84156000000002%5D%2C%20%5B40.706547%2C%20-74.151543%5D%2C%20%5B25.898932%2C%20-80.19704%5D%2C%20%5B41.69724%2C%20-88.04433%5D%2C%20%5B39.146155%2C%20-94.56062%5D%2C%20%5B33.92852%2C%20-118.239164%5D%2C%20%5B42.337341%2C%20-83.124863%5D%2C%20%5B34.085136%2C%20-112.143669%5D%2C%20%5B36.017323%2C%20-95.890289%5D%2C%20%5B37.51466%2C%20-121.93988799999998%5D%2C%20%5B42.861002%2C%20-83.739949%5D%2C%20%5B27.872744%2C%20-82.787056%5D%2C%20%5B28.508211%2C%20-81.394909%5D%2C%20%5B37.331032%2C%20-119.655617%5D%2C%20%5B47.63248%2C%20-122.188235%5D%2C%20%5B30.453777%2C%20-91.060795%5D%2C%20%5B33.867153%2C%20-118.212608%5D%2C%20%5B36.1817%2C%20-86.79969%5D%2C%20%5B41.902506%2C%20-76.883583%5D%2C%20%5B35.83479699999999%2C%20-78.638512%5D%2C%20%5B42.45903300000001%2C%20-88.107012%5D%2C%20%5B29.712534%2C%20-95.382294%5D%2C%20%5B29.733088%2C%20-95.383804%5D%2C%20%5B28.212811%2C%20-80.606468%5D%2C%20%5B42.04983%2C%20-84.40643%5D%2C%20%5B40.670551%2C%20-73.914879%5D%2C%20%5B32.262814%2C%20-111.005417%5D%2C%20%5B32.71865%2C%20-117.10567%5D%2C%20%5B34.0664%2C%20-117.20385%5D%2C%20%5B44.571378%2C%20-119.125824%5D%2C%20%5B27.179422%2C%20-82.482056%5D%2C%20%5B31.320265000000006%2C%20-94.754288%5D%2C%20%5B39.035561%2C%20-77.386604%5D%2C%20%5B47.829674%2C%20-122.263397%5D%2C%20%5B36.07526%2C%20-95.979523%5D%2C%20%5B41.95352000000001%2C%20-87.85664%5D%2C%20%5B45.528721%2C%20-122.602249%5D%2C%20%5B38.876522%2C%20-76.990768%5D%2C%20%5B38.188774%2C%20-85.783417%5D%2C%20%5B34.095381%2C%20-117.819556%5D%2C%20%5B41.29076%2C%20-72.57467%5D%2C%20%5B34.050282%2C%20-84.697372%5D%2C%20%5B39.200409%2C%20-121.05953999999998%5D%2C%20%5B42.96984000000001%2C%20-85.67809%5D%2C%20%5B36.05635%2C%20-96.00676%5D%2C%20%5B39.088121%2C%20-76.625164%5D%2C%20%5B34.195172%2C%20-118.183442%5D%2C%20%5B41.062222%2C%20-81.525871%5D%2C%20%5B37.68088%2C%20-92.64059%5D%2C%20%5B37.428169%2C%20-122.10143%5D%2C%20%5B37.75835%2C%20-122.2121%5D%2C%20%5B35.2768%2C%20-80.80864%5D%2C%20%5B41.871067%2C%20-87.773804%5D%2C%20%5B43.55986%2C%20-123.28195%5D%2C%20%5B47.58450300000001%2C%20-122.301643%5D%2C%20%5B32.40297%2C%20-111.13399%5D%2C%20%5B32.589931%2C%20-96.946983%5D%2C%20%5B35.750556%2C%20-120.700143%5D%2C%20%5B38.641394%2C%20-122.764882%5D%2C%20%5B32.78065%2C%20-117.08791%5D%2C%20%5B37.376312%2C%20-121.996178%5D%2C%20%5B27.110642%2C%20-82.342647%5D%2C%20%5B29.617435%2C%20-82.38604000000002%5D%2C%20%5B37.96196%2C%20-122.50885%5D%2C%20%5B37.926479%2C%20-122.321358%5D%2C%20%5B38.25854%2C%20-85.7623%5D%2C%20%5B36.662007%2C%20-121.764467%5D%2C%20%5B41.635036%2C%20-87.578537%5D%2C%20%5B25.627579%2C%20-80.414624%5D%2C%20%5B42.745324%2C%20-84.508455%5D%2C%20%5B36.301689%2C%20-119.387764%5D%2C%20%5B34.512474%2C%20-118.110674%5D%2C%20%5B25.795418%2C%20-80.24744799999998%5D%2C%20%5B38.658699%2C%20-121.049226%5D%2C%20%5B37.523451%2C%20-77.983058%5D%2C%20%5B45.16678%2C%20-121.6647%5D%2C%20%5B41.140121%2C%20-95.985756%5D%2C%20%5B40.025542%2C%20-75.02815600000002%5D%2C%20%5B28.341806%2C%20-81.380791%5D%2C%20%5B34.065517%2C%20-117.5448%5D%2C%20%5B36.19268%2C%20-86.744423%5D%2C%20%5B42.48457%2C%20-83.43853%5D%2C%20%5B25.79319%2C%20-80.20551999999998%5D%2C%20%5B36.120393%2C%20-86.74764%5D%2C%20%5B45.526496%2C%20-94.275473%5D%2C%20%5B40.94517000000001%2C%20-81.74404%5D%2C%20%5B45.354237%2C%20-122.662738%5D%2C%20%5B35.916218%2C%20-86.511604%5D%2C%20%5B25.857208%2C%20-80.209463%5D%2C%20%5B34.293510999999995%2C%20-118.413443%5D%2C%20%5B39.30751%2C%20-76.75494%5D%2C%20%5B42.588799%2C%20-71.29929399999997%5D%2C%20%5B30.489611%2C%20-86.424599%5D%2C%20%5B40.111656%2C%20-76.443237%5D%2C%20%5B35.392632%2C%20-97.458794%5D%2C%20%5B34.18212%2C%20-117.17423%5D%2C%20%5B39.27999000000001%2C%20-76.47756%5D%2C%20%5B40.101871%2C%20-75.193787%5D%2C%20%5B41.81829000000001%2C%20-71.39672%5D%2C%20%5B38.8774%2C%20-77.27478%5D%2C%20%5B39.072712%2C%20-94.530411%5D%2C%20%5B47.11384%2C%20-122.56545%5D%2C%20%5B40.64033%2C%20-112.28817%5D%2C%20%5B34.153044%2C%20-118.369359%5D%2C%20%5B39.191095%2C%20-120.999821%5D%2C%20%5B45.023922%2C%20-93.284653%5D%2C%20%5B39.61640300000001%2C%20-104.897202%5D%2C%20%5B47.537056%2C%20-122.281113%5D%2C%20%5B35.777691%2C%20-78.613998%5D%2C%20%5B40.83007%2C%20-73.0211%5D%2C%20%5B33.365291%2C%20-111.601371%5D%2C%20%5B35.52207199999999%2C%20-97.565697%5D%2C%20%5B38.449287%2C%20-122.725983%5D%2C%20%5B35.008679%2C%20-85.272589%5D%2C%20%5B35.30505%2C%20-80.85837%5D%2C%20%5B39.929059%2C%20-74.957415%5D%2C%20%5B35.895747%2C%20-78.649704%5D%2C%20%5B40.74006%2C%20-73.78995%5D%2C%20%5B33.447392%2C%20-82.031654%5D%2C%20%5B32.60161%2C%20-96.82243%5D%2C%20%5B32.804569%2C%20-96.81723%5D%2C%20%5B47.57969%2C%20-122.15251%5D%2C%20%5B44.77407%2C%20-94.95273%5D%2C%20%5B38.070749%2C%20-122.125664%5D%2C%20%5B34.142658000000004%2C%20-79.019234%5D%2C%20%5B34.01685%2C%20-117.98548999999998%5D%2C%20%5B38.390995%2C%20-122.713554%5D%2C%20%5B39.671068%2C%20-123.533477%5D%2C%20%5B33.90354%2C%20-118.18827%5D%2C%20%5B38.34453900000001%2C%20-122.498285%5D%2C%20%5B29.973825%2C%20-95.421012%5D%2C%20%5B45.06464%2C%20-93.20667%5D%2C%20%5B32.206383%2C%20-110.811195%5D%2C%20%5B39.982731%2C%20-76.713724%5D%2C%20%5B38.376165%2C%20-78.728861%5D%2C%20%5B38.49299%2C%20-121.44257%5D%2C%20%5B38.44561%2C%20-122.196449%5D%2C%20%5B38.773781%2C%20-90.317238%5D%2C%20%5B34.148251%2C%20-118.803299%5D%2C%20%5B40.910175%2C%20-74.666931%5D%2C%20%5B42.083858%2C%20-71.00499%5D%2C%20%5B45.28908%2C%20-122.76928999999998%5D%2C%20%5B34.028296999999995%2C%20-118.186256%5D%2C%20%5B30.24888%2C%20-82.125702%5D%2C%20%5B33.95384%2C%20-118.17076000000002%5D%2C%20%5B33.701108000000005%2C%20-85.158016%5D%2C%20%5B24.646915%2C%20-81.563862%5D%2C%20%5B29.983238%2C%20-95.281532%5D%2C%20%5B42.370957%2C%20-88.05022%5D%2C%20%5B34.120946999999994%2C%20-117.890151%5D%2C%20%5B34.84292%2C%20-82.29305%5D%2C%20%5B35.254269%2C%20-80.80390899999998%5D%2C%20%5B33.92763%2C%20-118.300305%5D%2C%20%5B42.502293%2C%20-71.118759%5D%2C%20%5B42.740837%2C%20-84.510483%5D%2C%20%5B37.703392%2C%20-121.739204%5D%2C%20%5B40.95585%2C%20-75.28621%5D%2C%20%5B32.76396%2C%20-117.20523%5D%2C%20%5B38.518535%2C%20-121.296882%5D%2C%20%5B37.631562%2C%20-122.084009%5D%2C%20%5B26.65062%2C%20-80.06841%5D%2C%20%5B40.750057%2C%20-73.324776%5D%2C%20%5B29.422319%2C%20-98.484924%5D%2C%20%5B40.847731%2C%20-73.9349%5D%2C%20%5B42.667244%2C%20-73.73311600000002%5D%2C%20%5B33.657824%2C%20-117.827849%5D%2C%20%5B42.429146%2C%20-87.87648100000001%5D%2C%20%5B33.870247%2C%20-79.067848%5D%2C%20%5B43.073311%2C%20-83.658745%5D%2C%20%5B34.11854%2C%20-117.8654%5D%2C%20%5B33.471027%2C%20-86.761475%5D%2C%20%5B34.724361%2C%20-82.78125%5D%2C%20%5B39.06442%2C%20-76.91229%5D%2C%20%5B41.062%2C%20-81.53769%5D%2C%20%5B35.460133%2C%20-97.575142%5D%2C%20%5B33.293678%2C%20-111.954531%5D%2C%20%5B34.00703%2C%20-118.414619%5D%2C%20%5B25.884181%2C%20-80.347726%5D%2C%20%5B36.174461%2C%20-86.795731%5D%2C%20%5B33.90936%2C%20-118.18183%5D%2C%20%5B33.714789%2C%20-84.398955%5D%2C%20%5B29.775143%2C%20-95.368279%5D%2C%20%5B25.832363%2C%20-80.205955%5D%2C%20%5B40.378029%2C%20-104.992569%5D%2C%20%5B40.691647%2C%20-73.999306%5D%2C%20%5B32.887321%2C%20-96.700302%5D%2C%20%5B41.39259000000001%2C%20-93.109169%5D%2C%20%5B33.887256%2C%20-81.135113%5D%2C%20%5B44.966362%2C%20-93.226807%5D%2C%20%5B38.020876%2C%20-121.954454%5D%2C%20%5B43.15509%2C%20-83.697502%5D%2C%20%5B42.26308%2C%20-71.56357%5D%2C%20%5B33.697796000000004%2C%20-116.759933%5D%2C%20%5B37.29567700000001%2C%20-122.027115%5D%2C%20%5B33.63783%2C%20-117.85606%5D%2C%20%5B43.133892%2C%20-77.719353%5D%2C%20%5B32.777846999999994%2C%20-117.118774%5D%2C%20%5B33.876289%2C%20-118.102577%5D%2C%20%5B41.795624%2C%20-73.089233%5D%2C%20%5B38.42765%2C%20-122.341156%5D%2C%20%5B41.748676%2C%20-87.94124599999998%5D%2C%20%5B29.63983%2C%20-95.53418%5D%2C%20%5B30.476215000000003%2C%20-97.561897%5D%2C%20%5B30.562513%2C%20-87.28701600000002%5D%2C%20%5B45.228146%2C%20-112.96687%5D%2C%20%5B30.14879%2C%20-97.79301%5D%2C%20%5B29.859316%2C%20-95.402779%5D%2C%20%5B25.723709%2C%20-80.26544200000002%5D%2C%20%5B37.704563%2C%20-121.924339%5D%2C%20%5B37.642036%2C%20-104.746979%5D%2C%20%5B41.224564%2C%20-87.86488299999998%5D%2C%20%5B41.102024%2C%20-73.99295%5D%2C%20%5B41.805148%2C%20-88.187402%5D%2C%20%5B32.50597%2C%20-83.64516%5D%2C%20%5B36.788712%2C%20-121.674881%5D%2C%20%5B28.543051%2C%20-82.36776%5D%2C%20%5B38.101544%2C%20-121.260119%5D%2C%20%5B41.921917%2C%20-88.208801%5D%2C%20%5B27.92362%2C%20-82.33267%5D%2C%20%5B37.34576%2C%20-120.61257%5D%2C%20%5B33.930882000000004%2C%20-118.36826299999998%5D%2C%20%5B38.060654%2C%20-84.723846%5D%2C%20%5B47.65657%2C%20-117.423531%5D%2C%20%5B33.700443%2C%20-84.090324%5D%2C%20%5B38.910877%2C%20-104.719681%5D%2C%20%5B47.683048%2C%20-122.304008%5D%2C%20%5B37.438492%2C%20-122.247177%5D%2C%20%5B33.519123%2C%20-117.160942%5D%2C%20%5B26.1476%2C%20-80.708473%5D%2C%20%5B34.018963%2C%20-118.178658%5D%2C%20%5B34.350332%2C%20-119.05831200000002%5D%2C%20%5B30.449456%2C%20-91.00782%5D%2C%20%5B36.035442%2C%20-86.63829799999998%5D%2C%20%5B34.033209%2C%20-118.114324%5D%2C%20%5B35.664169%2C%20-78.79588299999998%5D%2C%20%5B35.77997%2C%20-78.56897%5D%2C%20%5B25.7307%2C%20-80.317718%5D%2C%20%5B29.39608%2C%20-98.497765%5D%2C%20%5B33.77531%2C%20-78.98325%5D%2C%20%5B28.468746000000003%2C%20-81.45858%5D%2C%20%5B37.42120300000001%2C%20-121.935399%5D%2C%20%5B44.943146%2C%20-93.274513%5D%2C%20%5B36.767744%2C%20-119.781358%5D%2C%20%5B35.526405%2C%20-80.863376%5D%2C%20%5B35.131786%2C%20-106.608215%5D%2C%20%5B26.048288%2C%20-80.162407%5D%2C%20%5B41.787392%2C%20-72.766228%5D%2C%20%5B37.445061%2C%20-122.119133%5D%2C%20%5B38.600029%2C%20-121.386354%5D%2C%20%5B33.773994%2C%20-84.560516%5D%2C%20%5B47.066738%2C%20-122.738747%5D%2C%20%5B33.497732%2C%20-117.149502%5D%2C%20%5B41.62258%2C%20-87.59418000000002%5D%2C%20%5B38.625202%2C%20-121.414183%5D%2C%20%5B34.16132%2C%20-118.29315%5D%2C%20%5B38.14999%2C%20-77.607254%5D%2C%20%5B38.95119%2C%20-76.74906999999997%5D%2C%20%5B34.072414%2C%20-118.072922%5D%2C%20%5B29.755386%2C%20-95.362343%5D%2C%20%5B34.303421%2C%20-118.479546%5D%2C%20%5B37.407558%2C%20-122.066429%5D%2C%20%5B34.013042%2C%20-118.488899%5D%2C%20%5B34.989431%2C%20-85.206913%5D%2C%20%5B28.471775%2C%20-82.617325%5D%2C%20%5B40.57291%2C%20-112.295%5D%2C%20%5B33.83594%2C%20-117.94156%5D%2C%20%5B40.237652%2C%20-75.058561%5D%2C%20%5B40.41993%2C%20-74.212502%5D%2C%20%5B37.762814%2C%20-121.430389%5D%2C%20%5B33.05562800000001%2C%20-112.048876%5D%2C%20%5B30.47057%2C%20-81.646446%5D%2C%20%5B42.52126%2C%20-82.9154%5D%2C%20%5B45.766489%2C%20-92.965144%5D%2C%20%5B34.08758%2C%20-118.47531%5D%2C%20%5B33.74173%2C%20-84.39337900000002%5D%2C%20%5B30.44471%2C%20-84.279587%5D%2C%20%5B33.948991%2C%20-117.386026%5D%2C%20%5B38.614902%2C%20-121.766617%5D%2C%20%5B40.72445%2C%20-111.92389%5D%2C%20%5B39.53657000000001%2C%20-119.79487%5D%2C%20%5B32.850912%2C%20-96.771342%5D%2C%20%5B35.08149%2C%20-90.0255%5D%2C%20%5B35.632809%2C%20-97.513817%5D%2C%20%5B28.508094%2C%20-81.508593%5D%2C%20%5B41.59491%2C%20-90.562881%5D%2C%20%5B47.23572%2C%20-122.4249%5D%2C%20%5B39.593323%2C%20-104.810448%5D%2C%20%5B25.812179%2C%20-80.313427%5D%2C%20%5B29.93596%2C%20-95.398125%5D%2C%20%5B47.646072%2C%20-122.135071%5D%2C%20%5B34.80109%2C%20-82.44648199999997%5D%2C%20%5B39.207291%2C%20-84.47461700000002%5D%2C%20%5B44.971249%2C%20-93.370483%5D%2C%20%5B29.845947%2C%20-95.458672%5D%2C%20%5B33.638141999999995%2C%20-111.925438%5D%2C%20%5B34.2183%2C%20-118.47314%5D%2C%20%5B34.239073%2C%20-118.472903%5D%2C%20%5B33.922057%2C%20-118.224434%5D%2C%20%5B35.295944%2C%20-119.030354%5D%2C%20%5B32.870071%2C%20-83.761719%5D%2C%20%5B34.89417%2C%20-82.43203000000003%5D%2C%20%5B25.7325%2C%20-80.31713%5D%2C%20%5B37.77735300000001%2C%20-77.46161%5D%2C%20%5B38.189413%2C%20-122.170762%5D%2C%20%5B34.06889%2C%20-117.34201000000002%5D%2C%20%5B36.106232%2C%20-86.673012%5D%2C%20%5B33.977135%2C%20-118.386517%5D%2C%20%5B30.574909%2C%20-91.019882%5D%2C%20%5B35.268355%2C%20-80.882756%5D%2C%20%5B40.900433%2C%20-73.795715%5D%2C%20%5B33.063568%2C%20-80.09346%5D%2C%20%5B29.82761%2C%20-95.488777%5D%2C%20%5B34.036733%2C%20-118.023829%5D%2C%20%5B32.782089%2C%20-96.769913%5D%2C%20%5B25.78582%2C%20-80.25215%5D%2C%20%5B34.989315000000005%2C%20-81.965363%5D%2C%20%5B38.33731%2C%20-122.01641%5D%2C%20%5B37.147075%2C%20-93.226035%5D%2C%20%5B44.562081%2C%20-123.061648%5D%2C%20%5B39.155163%2C%20-121.796204%5D%2C%20%5B35.572399%2C%20-97.638451%5D%2C%20%5B38.716994%2C%20-121.364531%5D%2C%20%5B34.820453%2C%20-81.10390600000002%5D%2C%20%5B34.557953000000005%2C%20-117.943016%5D%2C%20%5B26.438385%2C%20-81.780221%5D%2C%20%5B34.569931%2C%20-82.087311%5D%2C%20%5B42.49601%2C%20-83.358743%5D%2C%20%5B39.852551%2C%20-85.302025%5D%2C%20%5B33.89083%2C%20-118.18853%5D%2C%20%5B32.773509999999995%2C%20-117.16118%5D%2C%20%5B39.283862%2C%20-120.966957%5D%2C%20%5B44.86573%2C%20-74.31733%5D%2C%20%5B32.471186%2C%20-93.827666%5D%2C%20%5B35.551144%2C%20-97.388969%5D%2C%20%5B34.072191%2C%20-118.103455%5D%2C%20%5B38.76877%2C%20-90.21371%5D%2C%20%5B33.46223%2C%20-112.0477%5D%2C%20%5B41.184952%2C%20-95.974686%5D%2C%20%5B33.973896999999994%2C%20-83.905702%5D%2C%20%5B39.41885%2C%20-76.6348%5D%2C%20%5B37.540989%2C%20-77.375313%5D%2C%20%5B44.99156%2C%20-93.23665%5D%2C%20%5B39.104%2C%20-94.59311%5D%2C%20%5B45.37039%2C%20-122.70579%5D%2C%20%5B33.945537%2C%20-118.2795%5D%2C%20%5B34.26838%2C%20-118.43548%5D%2C%20%5B34.968575%2C%20-85.19175%5D%2C%20%5B34.456114%2C%20-79.376176%5D%2C%20%5B30.257498%2C%20-97.736526%5D%2C%20%5B40.727695%2C%20-73.929199%5D%2C%20%5B44.720839%2C%20-121.176597%5D%2C%20%5B30.267611%2C%20-97.756462%5D%2C%20%5B37.258579%2C%20-122.121986%5D%2C%20%5B41.28368%2C%20-73.820122%5D%2C%20%5B42.710644%2C%20-73.825058%5D%2C%20%5B29.73587%2C%20-95.623787%5D%2C%20%5B36.032238%2C%20-83.889565%5D%2C%20%5B37.79423%2C%20-122.205552%5D%2C%20%5B39.8497%2C%20-104.985848%5D%2C%20%5B33.036224%2C%20-117.280377%5D%2C%20%5B37.3479%2C%20-121.91928%5D%2C%20%5B36.865171%2C%20-77.83593499999998%5D%2C%20%5B36.09079000000001%2C%20-86.76274000000002%5D%2C%20%5B40.069262%2C%20-77.464311%5D%2C%20%5B34.009075%2C%20-118.058043%5D%2C%20%5B33.941013%2C%20-118.096603%5D%2C%20%5B39.394966%2C%20-77.445105%5D%2C%20%5B34.146046000000005%2C%20-81.237984%5D%2C%20%5B42.717643%2C%20-73.87478399999998%5D%2C%20%5B33.941348%2C%20-118.368254%5D%2C%20%5B34.024301%2C%20-118.203151%5D%2C%20%5B34.858795%2C%20-82.2603%5D%2C%20%5B37.318743%2C%20-79.188734%5D%2C%20%5B46.303159%2C%20-114.087392%5D%2C%20%5B34.911708000000004%2C%20-80.977468%5D%2C%20%5B40.971132%2C%20-75.258637%5D%2C%20%5B41.5499%2C%20-95.91729%5D%2C%20%5B28.22093%2C%20-81.31697%5D%2C%20%5B40.71611400000001%2C%20-73.82592%5D%2C%20%5B30.350471%2C%20-81.66849%5D%2C%20%5B46.744291%2C%20-92.15244%5D%2C%20%5B34.039345000000004%2C%20-118.27449%5D%2C%20%5B39.23753%2C%20-84.39118%5D%2C%20%5B37.108515%2C%20-121.7322%5D%2C%20%5B37.405851%2C%20-79.904347%5D%2C%20%5B37.592327%2C%20-77.493126%5D%2C%20%5B32.737828%2C%20-96.682836%5D%2C%20%5B28.577627000000003%2C%20-81.49101%5D%2C%20%5B33.91957%2C%20-117.10389%5D%2C%20%5B35.72937299999999%2C%20-78.651005%5D%2C%20%5B36.16758%2C%20-86.762222%5D%2C%20%5B37.711334%2C%20-121.050221%5D%2C%20%5B40.855313%2C%20-73.272947%5D%2C%20%5B32.250432%2C%20-110.994201%5D%2C%20%5B33.137089%2C%20-80.31019599999998%5D%2C%20%5B41.39065%2C%20-87.32557%5D%2C%20%5B37.78825%2C%20-121.30259%5D%2C%20%5B33.831808%2C%20-81.34879000000002%5D%2C%20%5B25.698847%2C%20-80.44651%5D%2C%20%5B35.31862%2C%20-80.77882%5D%2C%20%5B40.203304%2C%20-74.553596%5D%2C%20%5B32.177879%2C%20-111.00354%5D%2C%20%5B27.536011%2C%20-82.562149%5D%2C%20%5B39.11321%2C%20-94.68219%5D%2C%20%5B30.184994%2C%20-81.637917%5D%2C%20%5B40.676485%2C%20-73.821225%5D%2C%20%5B37.551189%2C%20-120.865349%5D%2C%20%5B35.18574500000001%2C%20-78.687904%5D%2C%20%5B45.74862%2C%20-118.04596%5D%2C%20%5B36.064651%2C%20-86.749397%5D%2C%20%5B40.70871%2C%20-74.230423%5D%2C%20%5B45.469322%2C%20-122.658997%5D%2C%20%5B35.131241%2C%20-80.947723%5D%2C%20%5B47.60231%2C%20-122.32943%5D%2C%20%5B37.825397%2C%20-122.273346%5D%2C%20%5B35.070541%2C%20-81.875748%5D%5D%2C%0A%20%20%20%20%20%20%20%20%20%20%20%20%20%20%20%20%7B%0A%20%20%20%20%20%20%20%20%20%20%20%20%20%20%20%20%20%20%20%20minOpacity%3A%200.5%2C%0A%20%20%20%20%20%20%20%20%20%20%20%20%20%20%20%20%20%20%20%20maxZoom%3A%2018%2C%0A%20%20%20%20%20%20%20%20%20%20%20%20%20%20%20%20%20%20%20%20max%3A%201.0%2C%0A%20%20%20%20%20%20%20%20%20%20%20%20%20%20%20%20%20%20%20%20radius%3A%2025%2C%0A%20%20%20%20%20%20%20%20%20%20%20%20%20%20%20%20%20%20%20%20blur%3A%2015%2C%0A%20%20%20%20%20%20%20%20%20%20%20%20%20%20%20%20%20%20%20%20gradient%3A%20null%0A%20%20%20%20%20%20%20%20%20%20%20%20%20%20%20%20%20%20%20%20%7D%29%0A%20%20%20%20%20%20%20%20%20%20%20%20%20%20%20%20.addTo%28map_4b5977721e1249fdbc084a1fc0212962%29%3B%0A%20%20%20%20%20%20%20%20%0A%3C/script%3E onload=\"this.contentDocument.open();this.contentDocument.write(    decodeURIComponent(this.getAttribute('data-html')));this.contentDocument.close();\" allowfullscreen webkitallowfullscreen mozallowfullscreen></iframe></div></div>"
      ],
      "text/plain": [
       "<folium.folium.Map at 0x7f226e01b1d0>"
      ]
     },
     "execution_count": 51,
     "metadata": {
      "tags": []
     },
     "output_type": "execute_result"
    }
   ],
   "source": [
    "map=folium.Map()\n",
    "HeatMap(lat_log_pairs).add_to(map)\n",
    "map"
   ]
  },
  {
   "cell_type": "code",
   "execution_count": 54,
   "metadata": {
    "executionInfo": {
     "elapsed": 400,
     "status": "ok",
     "timestamp": 1627650535599,
     "user": {
      "displayName": "Shreyash Mandavkar",
      "photoUrl": "",
      "userId": "01338434498998208217"
     },
     "user_tz": -330
    },
    "id": "oxqxoEpVwN0P"
   },
   "outputs": [],
   "source": [
    "import jovian"
   ]
  },
  {
   "cell_type": "code",
   "execution_count": null,
   "metadata": {
    "executionInfo": {
     "elapsed": 22,
     "status": "aborted",
     "timestamp": 1627648895495,
     "user": {
      "displayName": "Shreyash Mandavkar",
      "photoUrl": "",
      "userId": "01338434498998208217"
     },
     "user_tz": -330
    },
    "id": "kkLGVIDHwOBD"
   },
   "outputs": [],
   "source": [
    "jovian.commit"
   ]
  },
  {
   "cell_type": "markdown",
   "metadata": {
    "id": "QvilCfFcwOKC"
   },
   "source": []
  },
  {
   "cell_type": "code",
   "execution_count": null,
   "metadata": {
    "executionInfo": {
     "elapsed": 22,
     "status": "aborted",
     "timestamp": 1627648895496,
     "user": {
      "displayName": "Shreyash Mandavkar",
      "photoUrl": "",
      "userId": "01338434498998208217"
     },
     "user_tz": -330
    },
    "id": "PIesq5WmwOwy"
   },
   "outputs": [],
   "source": []
  }
 ],
 "metadata": {
  "colab": {
   "collapsed_sections": [
    "ctn3Vr_HCrEb",
    "kl0JhA7kF2Jy",
    "UUZXsTiAKgq0"
   ],
   "name": "us-accidents.ipynb",
   "provenance": []
  },
  "language_info": {
   "codemirror_mode": {
    "name": "ipython",
    "version": 3
   },
   "file_extension": ".py",
   "mimetype": "text/x-python",
   "name": "python",
   "nbconvert_exporter": "python",
   "pygments_lexer": "ipython3",
   "version": "3.7.6"
  }
 },
 "nbformat": 4,
 "nbformat_minor": 0
}